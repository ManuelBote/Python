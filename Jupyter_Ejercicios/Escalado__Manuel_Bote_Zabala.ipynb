{
 "cells": [
  {
   "cell_type": "markdown",
   "id": "bd57d319",
   "metadata": {},
   "source": [
    "# Escalado de variables de regresion\n",
    "\n",
    "### Sobre el archivo csv creado en la tarea anterior, realiza un escalado de las variables independientes de la muestra de datos y lleva a cabo una predicción diferente para la variable dependiente.\n"
   ]
  },
  {
   "cell_type": "code",
   "execution_count": 1,
   "id": "311fb8fd",
   "metadata": {},
   "outputs": [
    {
     "name": "stdout",
     "output_type": "stream",
     "text": [
      "     Peso   Pulso  Colesterol\n",
      "0   80.32  107.35      184.43\n",
      "1   73.71  101.76      178.11\n",
      "2   93.99  119.09      215.47\n",
      "3   61.43   87.86      176.28\n",
      "4   59.34   85.70      170.98\n",
      "5   79.67  107.26      189.59\n",
      "6   67.34   95.83      176.18\n",
      "7   94.26  118.65      210.79\n",
      "8   70.01   98.83      178.37\n",
      "9   95.47  119.23      214.35\n",
      "10  78.60  106.62      187.68\n",
      "11  93.21  118.40      212.58\n",
      "12  62.60   88.77      173.57\n",
      "13  70.47   99.11      181.79\n",
      "14  60.74   86.41      172.91\n",
      "15  72.86  100.08      182.62\n",
      "16  85.28  111.66      198.87\n",
      "17  59.06   84.76      168.72\n",
      "18  66.52   95.06      174.86\n",
      "19  93.40  118.47      212.69\n",
      "20  91.85  117.52      209.84\n",
      "21  69.76   98.06      178.33\n",
      "22  90.16  116.84      208.42\n",
      "23  76.69  104.82      184.13\n",
      "24  90.65  116.95      208.57\n",
      "25  80.90  107.64      190.43\n",
      "26  68.21   96.94      176.34\n",
      "27  82.07  108.45      191.37\n",
      "28  89.69  116.39      207.49\n",
      "29  81.73  107.96      189.85\n",
      "30  62.71   88.94      173.98\n",
      "31  56.74   83.34      165.27\n",
      "32  94.10  118.88      211.25\n",
      "33  76.13  104.44      182.69\n",
      "34  85.45  111.85      198.70\n",
      "35  79.25  106.99      188.18\n",
      "36  79.38  107.07      188.38\n",
      "37  75.54  103.85      180.69\n",
      "38  84.46  110.51      197.78\n",
      "39  81.13  107.26      189.54\n",
      "40  63.29   89.27      174.29\n",
      "41  90.32  116.93      208.25\n",
      "42  76.56  104.71      183.67\n",
      "43  71.09   99.51      181.36\n",
      "44  88.35  115.71      206.58\n",
      "45  67.39   95.94      175.34\n",
      "46  72.31   99.61      180.82\n",
      "47  83.60  109.97      196.62\n",
      "48  77.34  105.26      185.34\n"
     ]
    }
   ],
   "source": [
    "import pandas as pd\n",
    "\n",
    "df = pd.read_csv('persona.csv')\n",
    "\n",
    "print(df)"
   ]
  },
  {
   "cell_type": "code",
   "execution_count": 2,
   "id": "0b42dde7",
   "metadata": {},
   "outputs": [
    {
     "name": "stdout",
     "output_type": "stream",
     "text": [
      "El colesterol de una persona de 80kg y un pulso de 130rpm es:  [150.07649842]\n"
     ]
    },
    {
     "name": "stderr",
     "output_type": "stream",
     "text": [
      "c:\\Users\\Administrador\\AppData\\Local\\Programs\\Python\\Python313\\Lib\\site-packages\\sklearn\\utils\\validation.py:2739: UserWarning: X does not have valid feature names, but StandardScaler was fitted with feature names\n",
      "  warnings.warn(\n"
     ]
    }
   ],
   "source": [
    "from sklearn import linear_model\n",
    "from sklearn.preprocessing import StandardScaler\n",
    "\n",
    "scale=StandardScaler()\n",
    "X=df[['Peso', 'Pulso']]\n",
    "y=df['Colesterol']\n",
    "\n",
    "scaledX=scale.fit_transform(X)\n",
    "\n",
    "regr=linear_model.LinearRegression()\n",
    "regr.fit(scaledX,y)\n",
    "\n",
    "scaled=scale.transform([[80,130]])\n",
    "predictedColesterol=regr.predict([scaled[0]])\n",
    "\n",
    "print('El colesterol de una persona de 80kg y un pulso de 130rpm es: ',predictedColesterol)\n"
   ]
  },
  {
   "cell_type": "markdown",
   "id": "77ed22d8",
   "metadata": {},
   "source": []
  }
 ],
 "metadata": {
  "kernelspec": {
   "display_name": "Python 3",
   "language": "python",
   "name": "python3"
  },
  "language_info": {
   "codemirror_mode": {
    "name": "ipython",
    "version": 3
   },
   "file_extension": ".py",
   "mimetype": "text/x-python",
   "name": "python",
   "nbconvert_exporter": "python",
   "pygments_lexer": "ipython3",
   "version": "3.13.2"
  }
 },
 "nbformat": 4,
 "nbformat_minor": 5
}
