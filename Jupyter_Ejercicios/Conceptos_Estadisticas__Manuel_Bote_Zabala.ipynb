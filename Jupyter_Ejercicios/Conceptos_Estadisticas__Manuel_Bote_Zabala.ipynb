{
 "cells": [
  {
   "cell_type": "markdown",
   "id": "0462dd8e",
   "metadata": {},
   "source": [
    "# CONCEPTOS ESTADÍSTICOS EN MACHINE LEARNING\n",
    "\n",
    "1. Se quiere realizar un estudio para analizar cuál es el alquiler promedio de una vivienda en España. Crea manualmente una lista de Python con el dato del alquiler de 30 viviendas. Muestra dicha lista por pantalla y, tras esto, realiza el promedio con la función necesaria para obtener el alquiler medio que se paga actualmente en España por una vivienda."
   ]
  },
  {
   "cell_type": "code",
   "execution_count": 12,
   "id": "be02dcbc",
   "metadata": {},
   "outputs": [
    {
     "name": "stdout",
     "output_type": "stream",
     "text": [
      "Lista de alquileres de 30 viviendas en España:\n",
      "[750, 820, 900, 1000, 875, 950, 890, 1200, 1100, 1050, 780, 980, 870, 940, 1020, 930, 970, 860, 920, 880, 990, 1010, 925, 850, 910, 975, 1030, 965, 940, 895]\n",
      "\n",
      "El alquiler promedio de una vivienda en España es: 939.17 €\n"
     ]
    }
   ],
   "source": [
    "import numpy as np\n",
    "\n",
    "alquileres = [\n",
    "    750, 820, 900, 1000, 875, 950, 890, 1200, 1100, 1050,\n",
    "    780, 980, 870, 940, 1020, 930, 970, 860, 920, 880,\n",
    "    990, 1010, 925, 850, 910, 975, 1030, 965, 940, 895\n",
    "]\n",
    "\n",
    "print(\"Lista de alquileres de 30 viviendas en España:\")\n",
    "print(alquileres)\n",
    "\n",
    "promedio_alquiler = np.mean(alquileres)\n",
    "\n",
    "print(f\"\\nEl alquiler promedio de una vivienda en España es: {promedio_alquiler:.2f} €\")"
   ]
  },
  {
   "cell_type": "markdown",
   "id": "9059f402",
   "metadata": {},
   "source": [
    "2. Un nutricionista quiere averiguar, de cara a un estudio, cuál es la ingesta\n",
    "calórica diaria promedio de una persona adulta en nuestro país. Para ello,\n",
    "crea primero manualmente una lista con la ingesta calórica diaria\n",
    "correspondiente a 30 personas encuestadas. Muestra la lista por pantalla y,\n",
    "tras esto, emplea la función de Python adecuada para determinar la ingesta\n",
    "promedio de calorías al día en España."
   ]
  },
  {
   "cell_type": "code",
   "execution_count": 6,
   "id": "e3af3b02",
   "metadata": {},
   "outputs": [
    {
     "name": "stdout",
     "output_type": "stream",
     "text": [
      "Ingesta calórica diaria de 30 personas:\n",
      "[2200, 2000, 2500, 2100, 2300, 1900, 2400, 2600, 2250, 2150, 2050, 2350, 1950, 2450, 2000, 2550, 2100, 2250, 2150, 2200, 2300, 2400, 2350, 2500, 2250, 2100, 2050, 1950, 2150, 2000]\n",
      "\n",
      "La ingesta calórica diaria promedio en España es: 2216.67 kcal\n"
     ]
    }
   ],
   "source": [
    "ingestas_caloricas = [\n",
    "    2200, 2000, 2500, 2100, 2300, 1900, 2400, 2600, 2250, 2150,\n",
    "    2050, 2350, 1950, 2450, 2000, 2550, 2100, 2250, 2150, 2200,\n",
    "    2300, 2400, 2350, 2500, 2250, 2100, 2050, 1950, 2150, 2000\n",
    "]\n",
    "\n",
    "print(\"Ingesta calórica diaria de 30 personas:\")\n",
    "print(ingestas_caloricas)\n",
    "\n",
    "promedio_calorias = np.mean(ingestas_caloricas)\n",
    "\n",
    "print(f\"\\nLa ingesta calórica diaria promedio en España es: {promedio_calorias:.2f} kcal\")"
   ]
  },
  {
   "cell_type": "markdown",
   "id": "8b5ab920",
   "metadata": {},
   "source": [
    "3. Se desea estimar, a partir de los precios de un conjunto de videojuegos, qué\n",
    "precio se encuentra aproximadamente en el punto medio de los valores de\n",
    "ventas. Crea manualmente una lista de Python con el precio de 30\n",
    "videojuegos actuales en venta. Muestra dicha lista por pantalla y, tras esto,\n",
    "utiliza la función de la librería adecuada para determinar el precio que se\n",
    "encuentra en la mitad de valores de la lista anterior"
   ]
  },
  {
   "cell_type": "code",
   "execution_count": 7,
   "id": "1ea1bf2e",
   "metadata": {},
   "outputs": [
    {
     "name": "stdout",
     "output_type": "stream",
     "text": [
      "Precios de 30 videojuegos actuales:\n",
      "[59.99, 49.99, 69.99, 39.99, 44.99, 54.99, 64.99, 59.99, 69.99, 29.99, 34.99, 44.99, 59.99, 69.99, 49.99, 39.99, 64.99, 59.99, 44.99, 29.99, 54.99, 59.99, 69.99, 49.99, 39.99, 34.99, 59.99, 64.99, 54.99, 44.99]\n",
      "\n",
      "El precio que se encuentra en la mitad de los valores es: 54.99 €\n"
     ]
    }
   ],
   "source": [
    "precios_videojuegos = [\n",
    "    59.99, 49.99, 69.99, 39.99, 44.99, 54.99, 64.99, 59.99, 69.99, 29.99,\n",
    "    34.99, 44.99, 59.99, 69.99, 49.99, 39.99, 64.99, 59.99, 44.99, 29.99,\n",
    "    54.99, 59.99, 69.99, 49.99, 39.99, 34.99, 59.99, 64.99, 54.99, 44.99\n",
    "]\n",
    "\n",
    "print(\"Precios de 30 videojuegos actuales:\")\n",
    "print(precios_videojuegos)\n",
    "\n",
    "mediana_precio = np.median(precios_videojuegos)\n",
    "\n",
    "print(f\"\\nEl precio que se encuentra en la mitad de los valores es: {mediana_precio:.2f} €\")"
   ]
  },
  {
   "cell_type": "markdown",
   "id": "a6fd2f55",
   "metadata": {},
   "source": [
    "4. Una empresa quiere estudiar cuál es la edad intermedia que presentan\n",
    "aproximadamente sus clientes de un cierto país. Crea manualmente una lista\n",
    "de Python con las edades de 30 personas encuestadas a pie de calle.\n",
    "Muestra la lista anterior por pantalla y, tras esto, emplea la función de Python\n",
    "necesaria para estimar la edad intermedia de entre todos los clientes de la\n",
    "empresa encuestados previamente\n"
   ]
  },
  {
   "cell_type": "code",
   "execution_count": 8,
   "id": "e5cfc58f",
   "metadata": {},
   "outputs": [
    {
     "name": "stdout",
     "output_type": "stream",
     "text": [
      "Edades de 30 personas encuestadas:\n",
      "[22, 34, 29, 41, 37, 30, 28, 35, 40, 33, 26, 45, 38, 31, 27, 36, 32, 39, 44, 25, 30, 29, 34, 28, 33, 31, 26, 40, 35, 36]\n",
      "\n",
      "La edad intermedia estimada de los clientes es: 33.0 años\n"
     ]
    }
   ],
   "source": [
    "edades = [\n",
    "    22, 34, 29, 41, 37, 30, 28, 35, 40, 33,\n",
    "    26, 45, 38, 31, 27, 36, 32, 39, 44, 25,\n",
    "    30, 29, 34, 28, 33, 31, 26, 40, 35, 36\n",
    "]\n",
    "\n",
    "print(\"Edades de 30 personas encuestadas:\")\n",
    "print(edades)\n",
    "\n",
    "edad_intermedia = np.median(edades)\n",
    "\n",
    "print(f\"\\nLa edad intermedia estimada de los clientes es: {edad_intermedia} años\")"
   ]
  },
  {
   "cell_type": "markdown",
   "id": "2ac2478a",
   "metadata": {},
   "source": [
    "5. Una protectora de animales quiere estudiar y determinar qué número de\n",
    "mascotas es más frecuente encontrarse entre las familias de nuestro país.\n",
    "Para ello, crea una lista con el número de mascotas de 30 familias españolas.\n",
    "Muestra la lista anterior por pantalla y, tras esto, aplica la función de Python\n",
    "adecuada para calcular el número de mascotas más frecuente entre las\n",
    "familias encuestadas."
   ]
  },
  {
   "cell_type": "code",
   "execution_count": 9,
   "id": "1590c010",
   "metadata": {},
   "outputs": [
    {
     "name": "stdout",
     "output_type": "stream",
     "text": [
      "Mascotas en familias:\n",
      "[1, 0, 2, 3, 2, 1, 1, 1, 2, 0, 0, 2, 3, 2, 1, 1, 5, 1, 4, 2, 1, 1, 0, 2, 1, 3, 1, 0, 1, 1]\n",
      "El numero de mascotas con mayor frecuencia es: ModeResult(mode=1, count=13)\n"
     ]
    }
   ],
   "source": [
    "from scipy import stats\n",
    "\n",
    "mascotas = [1, 0, 2, 3, 2, 1, 1, 1, 2, 0, 0, 2, 3, 2, 1, 1, 5, 1, 4, 2, 1, 1, 0, 2, 1, 3, 1, 0, 1, 1]\n",
    "\n",
    "print(\"Mascotas en familias:\")\n",
    "print(mascotas)\n",
    "\n",
    "moda_mascota = stats.mode(mascotas)\n",
    "print(\"El numero de mascotas con mayor frecuencia es:\", moda_mascota)"
   ]
  },
  {
   "cell_type": "markdown",
   "id": "d9d4cff8",
   "metadata": {},
   "source": [
    "6. Se pretende obtener el número de ingredientes más utilizado en las recetas\n",
    "de la gastronomía española. Para ello, crea manualmente una lista de Python\n",
    "con el número de ingredientes de 30 recetas (no es necesario pensar el\n",
    "nombre de cada receta). Muestra la lista de los números de ingredientes por\n",
    "pantalla y, tras esto, utiliza la función necesaria para estimar el número de\n",
    "ingredientes que se suele emplear más en nuestras recetas"
   ]
  },
  {
   "cell_type": "code",
   "execution_count": 10,
   "id": "ef932b61",
   "metadata": {},
   "outputs": [
    {
     "name": "stdout",
     "output_type": "stream",
     "text": [
      "Numero de ingredientes en recetas:\n",
      "[5, 7, 3, 4, 9, 10, 11, 4, 7, 5, 14, 17, 3, 5, 6, 6, 7, 8, 9, 11, 5, 6, 4, 6, 9, 10, 6, 6, 7, 8]\n",
      "El numero de ingredientes mas usado es: ModeResult(mode=6, count=6)\n"
     ]
    }
   ],
   "source": [
    "ingredientes = [5, 7, 3, 4, 9, 10, 11, 4, 7, 5, 14, 17, 3, 5, 6, 6, 7, 8, 9, 11, 5, 6, 4, 6, 9, 10, 6, 6, 7, 8]\n",
    "\n",
    "print(\"Numero de ingredientes en recetas:\")\n",
    "print(ingredientes)\n",
    "\n",
    "moda_ingredientes = stats.mode(ingredientes)\n",
    "print(\"El numero de ingredientes mas usado es:\", moda_ingredientes)"
   ]
  },
  {
   "cell_type": "markdown",
   "id": "8e19df61",
   "metadata": {},
   "source": [
    "7. Se realiza una encuesta a 30 niños y niñas a pie de calle, preguntándoles su\n",
    "estatura a cada uno. A raíz de la encuesta, elabora una lista de Python en la\n",
    "cual introduzcas los datos de estatura de los 30 niños y niñas. Muestra la lista\n",
    "anterior por pantalla y, tras esto, utiliza la función apropiada para establecer\n",
    "una medida de la dispersión de los datos de estatura en los niños. Justifica\n",
    "también el valor obtenido en la última operación"
   ]
  },
  {
   "cell_type": "code",
   "execution_count": 15,
   "id": "86ccb126",
   "metadata": {},
   "outputs": [
    {
     "name": "stdout",
     "output_type": "stream",
     "text": [
      "Estaturas de 30 niños y niñas:\n",
      "[1.35, 1.4, 1.38, 1.33, 1.45, 1.5, 1.41, 1.36, 1.42, 1.37, 1.39, 1.34, 1.46, 1.48, 1.43, 1.32, 1.44, 1.36, 1.35, 1.4, 1.47, 1.49, 1.41, 1.38, 1.34, 1.33, 1.45, 1.39, 1.37, 1.42]\n",
      "La dispersión de estaturas es: 0.05029800084385944\n"
     ]
    }
   ],
   "source": [
    "estaturas = [\n",
    "    1.35, 1.40, 1.38, 1.33, 1.45, 1.50, 1.41, 1.36, 1.42, 1.37,\n",
    "    1.39, 1.34, 1.46, 1.48, 1.43, 1.32, 1.44, 1.36, 1.35, 1.40,\n",
    "    1.47, 1.49, 1.41, 1.38, 1.34, 1.33, 1.45, 1.39, 1.37, 1.42\n",
    "]\n",
    "\n",
    "print(\"Estaturas de 30 niños y niñas:\")\n",
    "print(estaturas)\n",
    "\n",
    "dispersion = np.std(estaturas)\n",
    "print(\"La dispersión de estaturas es:\", dispersion)"
   ]
  },
  {
   "cell_type": "markdown",
   "id": "ddb72da1",
   "metadata": {},
   "source": [
    "8. Se realiza una encuesta a 30 personas de todas las edades a pie de calle,\n",
    "preguntándoles su peso a cada uno de ellos. A raíz de la encuesta, elabora\n",
    "una lista de Python en la cual insertes los datos de peso de las 30 personas.\n",
    "Muestra la lista por pantalla y, tras esto, utiliza la función necesaria para\n",
    "establecer una medida de la dispersión de los datos de peso en las personas\n",
    "encuestadas. Justifica también el valor obtenido en la última operación."
   ]
  },
  {
   "cell_type": "code",
   "execution_count": 16,
   "id": "9aa0e1fe",
   "metadata": {},
   "outputs": [
    {
     "name": "stdout",
     "output_type": "stream",
     "text": [
      "Pesos de 30 personas encuestadas (en kg):\n",
      "[60, 72, 68, 75, 80, 77, 63, 85, 90, 70, 65, 73, 76, 67, 78, 82, 74, 69, 71, 64, 66, 79, 83, 86, 61, 62, 88, 87, 68, 72]\n",
      "La desviación estándar de los pesos es: 8.51 kg\n"
     ]
    }
   ],
   "source": [
    "pesos = [\n",
    "    60, 72, 68, 75, 80, 77, 63, 85, 90, 70,\n",
    "    65, 73, 76, 67, 78, 82, 74, 69, 71, 64,\n",
    "    66, 79, 83, 86, 61, 62, 88, 87, 68, 72\n",
    "]\n",
    "\n",
    "print(\"Pesos de 30 personas encuestadas (en kg):\")\n",
    "print(pesos)\n",
    "\n",
    "\n",
    "desviacion_estandar = np.std(pesos)\n",
    "print(f\"La desviación estándar de los pesos es: {desviacion_estandar:.2f} kg\")"
   ]
  },
  {
   "cell_type": "markdown",
   "id": "8b5f5752",
   "metadata": {},
   "source": [
    "9. Teniendo en cuenta la lista del ejercicio 7, obtén el valor de la varianza a\n",
    "partir del valor calculado al final del ejercicio. Para contrastar el resultado,\n",
    "emplea la función adecuada de Python para hallar la varianza. ¿El valor\n",
    "obtenido sigue representando el mismo grado de dispersión?"
   ]
  },
  {
   "cell_type": "code",
   "execution_count": 18,
   "id": "d8b194bd",
   "metadata": {},
   "outputs": [
    {
     "name": "stdout",
     "output_type": "stream",
     "text": [
      "La varianza es: 0.002529888888888885\n"
     ]
    }
   ],
   "source": [
    "varianza_estatura = np.var(estaturas)\n",
    "\n",
    "print(\"La varianza es:\", varianza_estatura)"
   ]
  },
  {
   "cell_type": "markdown",
   "id": "420b770e",
   "metadata": {},
   "source": [
    "10. Teniendo en cuenta la lista del ejercicio 8, obtén el valor de la varianza a\n",
    "partir del valor calculado al final del ejercicio. Para contrastar el resultado,\n",
    "emplea la función necesaria de Python para hallar la varianza. ¿El valor\n",
    "obtenido sigue representando el mismo grado de dispersión?"
   ]
  },
  {
   "cell_type": "code",
   "execution_count": 19,
   "id": "132d6368",
   "metadata": {},
   "outputs": [
    {
     "name": "stdout",
     "output_type": "stream",
     "text": [
      "La varianza de los pesos es: 72.47666666666667\n"
     ]
    }
   ],
   "source": [
    "varianza_pesos = np.var(pesos)\n",
    "print(\"La varianza de los pesos es:\", varianza_pesos)"
   ]
  },
  {
   "cell_type": "markdown",
   "id": "60ddd390",
   "metadata": {},
   "source": [
    "11. Una librería realiza una encuesta a pie de calle, preguntando a 30 personas\n",
    "el número de libros que han leído en toda su vida. A raíz de dicha encuesta,\n",
    "crea manualmente una lista de Python en la que introduzcas estos datos.\n",
    "Muestra la lista por pantalla y, tras esto, emplea el método adecuado de\n",
    "Python para determinar la cantidad de libros que ha leído el 60% de las\n",
    "personas encuestadas."
   ]
  },
  {
   "cell_type": "code",
   "execution_count": 21,
   "id": "81f70ce0",
   "metadata": {},
   "outputs": [
    {
     "name": "stdout",
     "output_type": "stream",
     "text": [
      "Número de libros leídos por 30 personas:\n",
      "[10, 25, 40, 18, 50, 30, 22, 15, 33, 27, 60, 45, 38, 20, 35, 28, 17, 12, 55, 32, 24, 36, 29, 26, 48, 21, 31, 34, 19, 23]\n",
      "\n",
      "El 60% de las personas ha leído hasta aproximadamente 31.4 libros.\n"
     ]
    }
   ],
   "source": [
    "libros_leidos = [\n",
    "    10, 25, 40, 18, 50, 30, 22, 15, 33, 27,\n",
    "    60, 45, 38, 20, 35, 28, 17, 12, 55, 32,\n",
    "    24, 36, 29, 26, 48, 21, 31, 34, 19, 23\n",
    "]\n",
    "\n",
    "print(\"Número de libros leídos por 30 personas:\")\n",
    "print(libros_leidos)\n",
    "\n",
    "percentil_60 = np.percentile(libros_leidos, 60)\n",
    "print(f\"\\nEl 60% de las personas ha leído hasta aproximadamente {percentil_60:.1f} libros.\")"
   ]
  },
  {
   "cell_type": "markdown",
   "id": "719f225a",
   "metadata": {},
   "source": [
    "12. Una entidad bancaria realiza una encuesta a pie de calle preguntando a 30\n",
    "personas por su sueldo neto en 1 año. A raíz de la encuesta anterior, crea\n",
    "manualmente una lista de Python en la que aparezcan los datos respecto a\n",
    "sueldo preguntados a las 30 personas. Muestra la lista por pantalla y, tras\n",
    "esto, usa convenientemente una función de Python para calcular el sueldo\n",
    "neto alcanzado por el 30% de los encuestados"
   ]
  },
  {
   "cell_type": "code",
   "execution_count": 22,
   "id": "4ec25aa5",
   "metadata": {},
   "outputs": [
    {
     "name": "stdout",
     "output_type": "stream",
     "text": [
      "Sueldos netos anuales de 30 personas (en €):\n",
      "[18000, 22000, 25000, 21000, 27000, 30000, 19000, 24000, 26000, 28000, 23000, 32000, 31000, 25000, 20000, 21500, 27500, 29000, 28500, 19500, 22500, 26000, 24500, 23500, 20500, 31000, 27000, 26500, 25500, 29500]\n",
      "\n",
      "El sueldo neto alcanzado por el 30% de los encuestados es aproximadamente: 22850.00 €\n"
     ]
    }
   ],
   "source": [
    "sueldos_netos = [\n",
    "    18000, 22000, 25000, 21000, 27000, 30000, 19000, 24000, 26000, 28000,\n",
    "    23000, 32000, 31000, 25000, 20000, 21500, 27500, 29000, 28500, 19500,\n",
    "    22500, 26000, 24500, 23500, 20500, 31000, 27000, 26500, 25500, 29500\n",
    "]\n",
    "\n",
    "\n",
    "print(\"Sueldos netos anuales de 30 personas (en €):\")\n",
    "print(sueldos_netos)\n",
    "\n",
    "\n",
    "percentil_30 = np.percentile(sueldos_netos, 30)\n",
    "print(f\"\\nEl sueldo neto alcanzado por el 30% de los encuestados es aproximadamente: {percentil_30:.2f} €\")"
   ]
  },
  {
   "cell_type": "markdown",
   "id": "8e616f14",
   "metadata": {},
   "source": [
    "13. Se envía un formulario de Google a 30000 personas de todo el mundo,\n",
    "preguntándoles por su estatura y peso a cada una de ellas. A partir de este\n",
    "formulario, elabora una lista de Python con los 30000 datos de estatura y\n",
    "peso (una lista para cada tipo de dato). Para ello, emplea la función\n",
    "adecuada de Python (con sus parámetros adecuados) que genere de manera\n",
    "automática ambas listas (con valores coherentes). Muestra ambas listas por\n",
    "pantalla."
   ]
  },
  {
   "cell_type": "code",
   "execution_count": 23,
   "id": "7288bfc2",
   "metadata": {},
   "outputs": [
    {
     "name": "stdout",
     "output_type": "stream",
     "text": [
      "Estatura (en metros):\n",
      "[1.66896235 1.64225415 1.85567655 ... 1.76277365 1.77250241 1.76120936]\n",
      "Peso (en kg):\n",
      "[50.71596052 63.96099529 89.60175831 ... 67.10928864 47.85742356\n",
      " 66.84344015]\n"
     ]
    }
   ],
   "source": [
    "estaturas = np.random.normal(loc=1.70, scale=0.1, size=30000)\n",
    "pesos = np.random.normal(loc=70, scale=15, size=30000)\n",
    "\n",
    "print(\"Estatura (en metros):\")\n",
    "print(estaturas)\n",
    "\n",
    "print(\"Peso (en kg):\")\n",
    "print(pesos)"
   ]
  },
  {
   "cell_type": "markdown",
   "id": "0c76058e",
   "metadata": {},
   "source": [
    "14. Se envía otro formulario de Google a 30000 personas de todo el mundo,\n",
    "preguntándoles por la cantidad de dinero que gastan en compras navideñas.\n",
    "A partir de este formulario, elabora una lista de Python con los datos del\n",
    "dinero gastado por los 30000 individuos. Para ello, emplea la función\n",
    "apropiada de Python (con los parámetros adecuados) que cree de forma\n",
    "rápida la lista mencionada (con valores coherentes). Finalmente muestra la\n",
    "lista resultante por pantalla y determina el valor promedio, la desviación\n",
    "estándar y la mediana de la muestra"
   ]
  },
  {
   "cell_type": "code",
   "execution_count": 25,
   "id": "24b1f581",
   "metadata": {},
   "outputs": [
    {
     "name": "stdout",
     "output_type": "stream",
     "text": [
      "Gastos navideños (en €):\n",
      "[385.94036159 473.54118868 521.81627073 ... 514.64446604 392.76519729\n",
      " 439.44029956]\n",
      "Promedio de gasto navideño: 400.4237034159144\n",
      "Desviación estándar: 99.86466445776641\n",
      "Mediana: 400.7418920953546\n"
     ]
    }
   ],
   "source": [
    "gastos_navidad = np.random.normal(loc=400, scale=100, size=30000)\n",
    "\n",
    "print(\"Gastos navideños (en €):\")\n",
    "print(gastos_navidad)\n",
    "\n",
    "\n",
    "media = np.mean(gastos_navidad)\n",
    "desviacion = np.std(gastos_navidad)\n",
    "mediana = np.median(gastos_navidad)\n",
    "\n",
    "print(\"Promedio de gasto navideño:\", media)\n",
    "print(\"Desviación estándar:\", desviacion)\n",
    "print(\"Mediana:\", mediana)"
   ]
  },
  {
   "cell_type": "markdown",
   "id": "aa8679ac",
   "metadata": {},
   "source": [
    "15. Se recogen los datos de altura de 130000 personas pertenecientes a una\n",
    "población de Madrid. Además, se conoce que la variable de altura en una\n",
    "muestra estadística sigue una distribución normal. Teniendo en cuenta esto\n",
    "último, elabora una lista de Python que recoja los 130000 datos anteriores de\n",
    "altura (la lista debe elaborarse de forma automática con una función de\n",
    "Python). Establece los parámetros necesarios relativos a la función de Python\n",
    "para que los valores de la lista sean coherentes. Finalmente muestra la lista\n",
    "obtenida tras la operación por pantalla"
   ]
  },
  {
   "cell_type": "code",
   "execution_count": 27,
   "id": "2e6c5023",
   "metadata": {},
   "outputs": [
    {
     "name": "stdout",
     "output_type": "stream",
     "text": [
      "Valores de altura (en metros):\n",
      "[1.81697946 1.80573712 1.66887547 ... 1.84545452 1.61057123 1.5681038 ]\n"
     ]
    }
   ],
   "source": [
    "alturas = np.random.normal(loc=1.70, scale=0.1, size=130000)\n",
    "\n",
    "\n",
    "print(\"Valores de altura (en metros):\")\n",
    "print(alturas)"
   ]
  },
  {
   "cell_type": "markdown",
   "id": "b3ea62c1",
   "metadata": {},
   "source": [
    "16. Se recogen los datos de peso de 130000 personas pertenecientes a una\n",
    "población de Murcia. Además, se conoce que la variable de peso en una\n",
    "muestra estadística sigue una distribución normal. Teniendo en cuenta esto\n",
    "último, elabora una lista de Python que recoja los 130000 datos anteriores de\n",
    "peso (la lista debe de crearse de forma rápida y sencilla mediante un método\n",
    "de Python). Establece los parámetros convenientes relativos a la función de\n",
    "Python para que los valores de la lista anterior resulten lógicos. Finalmente\n",
    "muestra la lista obtenida tras la operación por pantalla y determina la\n",
    "varianza, el percentil 80 y el percentil 20 de la muestra"
   ]
  },
  {
   "cell_type": "code",
   "execution_count": 28,
   "id": "3480b3b8",
   "metadata": {},
   "outputs": [
    {
     "name": "stdout",
     "output_type": "stream",
     "text": [
      "Primeros 10 pesos simulados (en kg):\n",
      "[66.37129806 87.58756935 64.88153914 86.83644249 82.92222491 49.68629002\n",
      " 53.55381435 75.90665914 70.18689898 66.54105985]\n",
      "Varianza del peso: 224.42577977898355\n",
      "Percentil 80: 82.5758638373069\n",
      "Percentil 20: 57.41644306524364\n"
     ]
    }
   ],
   "source": [
    "pesos = np.random.normal(loc=70, scale=15, size=130000)\n",
    "\n",
    "\n",
    "print(\"Primeros 10 pesos simulados (en kg):\")\n",
    "print(pesos[:10])\n",
    "\n",
    "\n",
    "varianza = np.var(pesos)\n",
    "percentil_80 = np.percentile(pesos, 80)\n",
    "percentil_20 = np.percentile(pesos, 20)\n",
    "\n",
    "\n",
    "print(\"Varianza del peso:\",  varianza)\n",
    "print(\"Percentil 80:\", percentil_80)\n",
    "print(\"Percentil 20:\", percentil_20)"
   ]
  },
  {
   "cell_type": "code",
   "execution_count": null,
   "id": "b2d0ca78",
   "metadata": {},
   "outputs": [],
   "source": []
  }
 ],
 "metadata": {
  "kernelspec": {
   "display_name": "base",
   "language": "python",
   "name": "python3"
  },
  "language_info": {
   "codemirror_mode": {
    "name": "ipython",
    "version": 3
   },
   "file_extension": ".py",
   "mimetype": "text/x-python",
   "name": "python",
   "nbconvert_exporter": "python",
   "pygments_lexer": "ipython3",
   "version": "3.12.7"
  }
 },
 "nbformat": 4,
 "nbformat_minor": 5
}
