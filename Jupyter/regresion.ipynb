{
 "cells": [
  {
   "cell_type": "markdown",
   "metadata": {},
   "source": [
    "# Manipulacion de datos representados - Regresion lineal\n",
    "\n",
    "#### ¿Que significa el termino _regresion_?\n",
    "\n",
    "El concepto **regresion** se aplica cuando se intenta obtener relacion entre dos variables medidas y observadas. En el campo de la inteligencia artificial, dicha relacion se emplea para predecir eventos futuros.\n",
    "\n",
    "El caso mas sencillo de refresion se denomina regresion lineal, la cula consiste en la relacion entre dos variables representada ea traves de linea linea recta. El lenguaje Phyton dispone de ultitud de metodos para realizar el proceso de regresion lineal entre dos conjuntos de datos. En el siguiente ejemplo, vamos a mostrar graficamente la antiguedad y la velocidad que alcanan 13 coches (ambas variables medidas a traves de procesos adecualos)"
   ]
  },
  {
   "cell_type": "code",
   "execution_count": null,
   "metadata": {},
   "outputs": [
    {
     "data": {
      "image/png": "[encoded data removed]",
      "text/plain": [
       "<Figure size 640x480 with 1 Axes>"
      ]
     },
     "metadata": {},
     "output_type": "display_data"
    }
   ],
   "source": [
    "import matplotlib.pyplot as plt\n",
    "\n",
    "x = [5, 7, 8, 7, 2, 17, 2, 9, 4, 11, 12, 9, 6]\n",
    "y = [99, 86, 87, 88, 111, 86, 103, 87, 94, 78, 77, 85, 86]\n",
    "\n",
    "plt.scatter(x, y)\n",
    "plt.show()"
   ]
  },
  {
   "cell_type": "markdown",
   "metadata": {},
   "source": [
    "La función que nos permite realizar la regresión lineal entre las dos variables anteriores recibe el nombre de `linregress()`, y se encuentra en la librería SciPy. También tendremos que definir previamente la ecuación de la recta que desearemos obtener tras la regresión. Finalmente, representaremos de forma conjunta tanto los datos iniciales como el resultado de nuestra regresión lineal."
   ]
  },
  {
   "cell_type": "code",
   "execution_count": 1,
   "metadata": {},
   "outputs": [
    {
     "ename": "NameError",
     "evalue": "name 'plt' is not defined",
     "output_type": "error",
     "traceback": [
      "\u001b[1;31m---------------------------------------------------------------------------\u001b[0m",
      "\u001b[1;31mNameError\u001b[0m                                 Traceback (most recent call last)",
      "Cell \u001b[1;32mIn[1], line 13\u001b[0m\n\u001b[0;32m      9\u001b[0m     \u001b[38;5;28;01mreturn\u001b[39;00m slope \u001b[38;5;241m*\u001b[39m x \u001b[38;5;241m+\u001b[39m intercept\n\u001b[0;32m     11\u001b[0m mymodel \u001b[38;5;241m=\u001b[39m \u001b[38;5;28mlist\u001b[39m(\u001b[38;5;28mmap\u001b[39m(myfunc, x))\n\u001b[1;32m---> 13\u001b[0m \u001b[43mplt\u001b[49m\u001b[38;5;241m.\u001b[39mscatter(x, y)\n\u001b[0;32m     14\u001b[0m plt\u001b[38;5;241m.\u001b[39mplot(x, mymodel)\n\u001b[0;32m     15\u001b[0m plt\u001b[38;5;241m.\u001b[39mshow()\n",
      "\u001b[1;31mNameError\u001b[0m: name 'plt' is not defined"
     ]
    }
   ],
   "source": [
    "from scipy import stats\n",
    "\n",
    "x = [5, 7, 8, 7, 2, 17, 2, 9, 4, 11, 12, 9, 6]\n",
    "y = [99, 86, 87, 88, 111, 86, 103, 87, 94, 78, 77, 85, 86]\n",
    "\n",
    "slope, intercept, r, p, std_err = stats.linregress(x, y)\n",
    "\n",
    "def myfunc (x):\n",
    "    return slope * x + intercept\n",
    "\n",
    "mymodel = list(map(myfunc, x))\n",
    "\n",
    "plt.scatter(x, y)\n",
    "plt.plot(x, mymodel)\n",
    "plt.show()"
   ]
  },
  {
   "cell_type": "markdown",
   "metadata": {},
   "source": [
    "## Relacion entre dos variables: ¿Buena o mala relacion?\n",
    "\n",
    "Es un hecho importante conocer como de fiable es la relacion entre dos conjuntos de datos, con el fun de ralizar o no predicciones con los resultados. La magnitud que se encarga de cuantificar este hecho se denomina coeficiente de correlacion y normlamente se representa por la letra _r_. Si la relacion entre ambas variables es buena, el coeficiente _r_ tendra un valor cercano a 1. Por el contrario, si apenas existe relacion entre las dos variables, el coeficiente _r_ tendra un valor cercano a 0. El coeficiente de correlacion es uno de los resultados que nos arroja la funcion `linregress()` ya utilizada."
   ]
  },
  {
   "cell_type": "code",
   "execution_count": null,
   "metadata": {},
   "outputs": [
    {
     "name": "stdout",
     "output_type": "stream",
     "text": [
      "El coeficiente de correlación entre x y y es: -0.758591524376155\n"
     ]
    }
   ],
   "source": [
    "x = [5, 7, 8, 7, 2, 17, 2, 9, 4, 11, 12, 9, 6]\n",
    "y = [99, 86, 87, 88, 111, 86, 103, 87, 94, 78, 77, 85, 86]\n",
    "\n",
    "slope, intercept, r, p, std_err = stats.linregress(x, y)\n",
    "\n",
    "print(\"El coeficiente de correlación entre x y y es:\", r)"
   ]
  },
  {
   "cell_type": "markdown",
   "metadata": {},
   "source": [
    "Dado que el valor del coeficiente de correlacion que hemos obtenido se acerca relativamente a 1, podemos concluir que la relacion entre un coche y su velocidad alcanzafa, a persar de no ser perfecta, es fiable de cara a realizar predicciones con el modelo obtenido. Una vez obtenida la recta que representa de forma fiable los datos medidos, podemos predecir que resultadon de valores que no han sido necesariamente obtenidos. Podemos, por ejemplo predecir el resultado de valores que no han sido medidos.\n",
    "\n",
    "## ¿Cual sera la velocidad alcanzada por un choche de 10 años de antiguedad?"
   ]
  },
  {
   "cell_type": "code",
   "execution_count": null,
   "metadata": {},
   "outputs": [
    {
     "name": "stdout",
     "output_type": "stream",
     "text": [
      "La velocidad alcanzada por un coche de 10 años de antiguedad es de: 85.59308314937454 km/h\n"
     ]
    }
   ],
   "source": [
    "x = [5, 7, 8, 7, 2, 17, 2, 9, 4, 11, 12, 9, 6]\n",
    "y = [99, 86, 87, 88, 111, 86, 103, 87, 94, 78, 77, 85, 86]\n",
    "\n",
    "slope, intercept, r, p, std_err = stats.linregress(x, y)\n",
    "\n",
    "def myfunc(x):\n",
    "    return slope * x + intercept\n",
    "\n",
    "speed = myfunc(10)\n",
    "print(\"La velocidad alcanzada por un coche de 10 años de antiguedad es de:\", speed, \"km/h\")"
   ]
  },
  {
   "cell_type": "markdown",
   "metadata": {},
   "source": [
    "## Ejemplo de regresion lineal de mala fiabilidad\n",
    "\n",
    "Es este ultimo caso, vamos a representar graficamente dos variables con objeto de visualizar si presentan una buena relacion o no. Tambien realizaremos la regresion lineal entre ambos conjuntos de datos para observar de una mejor manera su correlacion."
   ]
  },
  {
   "cell_type": "code",
   "execution_count": null,
   "metadata": {},
   "outputs": [
    {
     "data": {
      "image/png": "[encoded data removed]",
      "text/plain": [
       "<Figure size 640x480 with 1 Axes>"
      ]
     },
     "metadata": {},
     "output_type": "display_data"
    }
   ],
   "source": [
    "x = [89, 43, 36, 36, 95, 10, 66, 34, 38, 20, 26, 29, 48, 64, 6, 5, 36, 66, 77, 40]\n",
    "y = [21, 46, 3, 35, 67, 95, 53, 72, 58, 10, 26, 34, 90, 33, 38, 20, 56, 2, 47, 15]\n",
    "\n",
    "slope, intercept, r, p, std_err = stats.linregress(x, y)\n",
    "\n",
    "def myfunc(x):\n",
    "    return slope * x + intercept\n",
    "\n",
    "mymodel = list(map(myfunc, x))\n",
    "\n",
    "plt.scatter(x, y)\n",
    "plt.plot(x, mymodel)\n",
    "plt.show()"
   ]
  },
  {
   "cell_type": "markdown",
   "metadata": {},
   "source": [
    "Viendo la poca proximidad de los puntos con la recta creada, podriamos concluir que apenas existe relacion entre las dos variables. Para reafirmar nuestra opinion, vamos a obtener el coeficiente de correlacion _r_ entre ambos conjuntos de datos medidos."
   ]
  },
  {
   "cell_type": "code",
   "execution_count": null,
   "metadata": {},
   "outputs": [
    {
     "name": "stdout",
     "output_type": "stream",
     "text": [
      "El coeficiente de correlacion entre ambas variables es: 0.015426219141293319\n"
     ]
    }
   ],
   "source": [
    "x = [89, 43, 36, 36, 95, 10, 66, 34, 38, 20, 26, 29, 48, 64, 6, 5, 36, 66, 77, 40]\n",
    "y = [21, 46, 3, 35, 67, 95, 53, 72, 58, 10, 26, 34, 90, 33, 38, 20, 56, 2, 47, 15]\n",
    "\n",
    "slope, intercept, r, p, std_err = stats.linregress(x, y)\n",
    "\n",
    "print(\"El coeficiente de correlacion entre ambas variables es:\", r)"
   ]
  },
  {
   "cell_type": "markdown",
   "metadata": {},
   "source": [
    "Podemos comprobar que el coeficiente de correlacion se acerca bastante a 0, con lo cual somos capaces de afirmar que las dos variables representadas no guardan relacion entre si, y **NO** podemos extraer predicciones con el modelo o recta calculada."
   ]
  },
  {
   "cell_type": "markdown",
   "metadata": {},
   "source": []
  }
 ],
 "metadata": {
  "kernelspec": {
   "display_name": "Python 3",
   "language": "python",
   "name": "python3"
  },
  "language_info": {
   "codemirror_mode": {
    "name": "ipython",
    "version": 3
   },
   "file_extension": ".py",
   "mimetype": "text/x-python",
   "name": "python",
   "nbconvert_exporter": "python",
   "pygments_lexer": "ipython3",
   "version": "3.13.2"
  }
 },
 "nbformat": 4,
 "nbformat_minor": 2
}
