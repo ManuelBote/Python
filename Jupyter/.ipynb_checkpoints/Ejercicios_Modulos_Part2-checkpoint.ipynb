{
 "cells": [
  {
   "cell_type": "markdown",
   "id": "98cbdc8f-13ed-4be4-9533-a096544668e4",
   "metadata": {},
   "source": [
    "# Ejercicios Modulos (11-20)"
   ]
  },
  {
   "cell_type": "markdown",
   "id": "b2943bea-0cda-4108-a5bc-d6c97526da14",
   "metadata": {},
   "source": [
    "## Ejercicio 11\n",
    "Representa gráficamente la variación que experimenta la población de un municipio determinado a lo largo de un año. \n",
    "Establece la línea del gráfico con estilo punteado, de color verde y de grosor relativamente visible. \n",
    "Representa conjuntamente en el mismo gráfico la variación de otra población vecina"
   ]
  },
  {
   "cell_type": "code",
   "execution_count": 1,
   "id": "5f16506d-d7f1-4c49-b898-45da97ea7695",
   "metadata": {},
   "outputs": [
    {
     "data": {
      "image/png": "[encoded data removed]",
      "text/plain": [
       "<Figure size 640x480 with 1 Axes>"
      ]
     },
     "metadata": {},
     "output_type": "display_data"
    }
   ],
   "source": [
    "import numpy as np\n",
    "import matplotlib.pyplot as plt\n",
    "\n",
    "meses = np.array([1, 2, 3, 4, 5, 6, 7, 8, 9, 10, 11, 12])\n",
    "poblacion = np.array([1100, 1200, 1230, 1240, 1300, 1560, 1670, 2080, 1790, 1800, 1600, 1820])\n",
    "poblacion2 = np.array([2100, 2200, 2130, 2000, 1900, 1870, 1790, 1580, 1950, 2000, 2300, 2100])\n",
    "\n",
    "plt.plot(meses, poblacion, color='green', linestyle='dotted', linewidth=5)\n",
    "plt.plot(meses, poblacion2, color='red', linestyle='dotted', linewidth=5)\n",
    "plt.show()"
   ]
  },
  {
   "cell_type": "markdown",
   "id": "6580f389-c6d7-4519-aa71-9761fd781196",
   "metadata": {},
   "source": [
    "## Ejercicio 12\n",
    "1. Establece la matriz de adyacencia para un grafo cuadricular de 4 elementos, donde las relaciones entre ambos son equivalentes."
   ]
  },
  {
   "cell_type": "code",
   "execution_count": 2,
   "id": "9fe0db96-9a5d-4535-9855-3fc9cc2aaeb4",
   "metadata": {},
   "outputs": [],
   "source": [
    "import numpy as np\n",
    "\n",
    "matriz = np.array([ [1, 1, 0, 1],\n",
    "                    [0, 0, 1, 0],\n",
    "                    [0, 1, 0, 1],\n",
    "                    [1, 1, 1, 1]])"
   ]
  },
  {
   "cell_type": "markdown",
   "id": "7043e99a-d1b6-47a1-a80b-15a7e534fd84",
   "metadata": {},
   "source": [
    "2. A partir de la matriz de adyacfrom scipy.sparse import csr_matrixencia, determina el número de componentes conexas del grafo empleando una matriz CSR."
   ]
  },
  {
   "cell_type": "code",
   "execution_count": 4,
   "id": "a0f412fc-02d2-4273-93e5-ff6c3fb1db58",
   "metadata": {},
   "outputs": [
    {
     "name": "stdout",
     "output_type": "stream",
     "text": [
      "<Compressed Sparse Row sparse matrix of dtype 'int64'\n",
      "\twith 10 stored elements and shape (4, 4)>\n",
      "  Coords\tValues\n",
      "  (0, 0)\t1\n",
      "  (0, 1)\t1\n",
      "  (0, 3)\t1\n",
      "  (1, 2)\t1\n",
      "  (2, 1)\t1\n",
      "  (2, 3)\t1\n",
      "  (3, 0)\t1\n",
      "  (3, 1)\t1\n",
      "  (3, 2)\t1\n",
      "  (3, 3)\t1\n",
      "[[3]\n",
      " [1]\n",
      " [2]\n",
      " [4]]\n"
     ]
    }
   ],
   "source": [
    "from scipy.sparse import csr_matrix\n",
    "\n",
    "print(csr_matrix(matriz))\n",
    "print(csr_matrix(matriz).sum(axis=1))    "
   ]
  },
  {
   "cell_type": "markdown",
   "id": "10bfaa65-3d0f-49b0-8c89-874f6aa2feff",
   "metadata": {},
   "source": [
    "## Ejercicio 13\n",
    "1. Crea una array de 1 dimensión que contenga los 5 primeros números pares. Seguidamente, itera y muestra los elementos del array anterior."
   ]
  },
  {
   "cell_type": "code",
   "execution_count": 7,
   "id": "cc3d0e1d-6107-42ca-a95f-58392ba3ab96",
   "metadata": {},
   "outputs": [
    {
     "name": "stdout",
     "output_type": "stream",
     "text": [
      "2 4 6 8 10 \n"
     ]
    }
   ],
   "source": [
    "import numpy as np\n",
    "\n",
    "pares = np.array([2,4,6,8,10])\n",
    "for i in pares:\n",
    "    print(i, end=\" \")\n",
    "print()"
   ]
  },
  {
   "cell_type": "markdown",
   "id": "4bfaf1b3-3969-45c3-8311-cbc991024452",
   "metadata": {},
   "source": [
    "2. Crea un array de 2 dimensiones con los 10 primeros números pares. A continuación itera y muestra cada uno de los subarrays del array anterior."
   ]
  },
  {
   "cell_type": "code",
   "execution_count": 8,
   "id": "6aa04da0-a8d9-4f87-a88a-23e0ec0df0e4",
   "metadata": {},
   "outputs": [
    {
     "name": "stdout",
     "output_type": "stream",
     "text": [
      "2 4 6 8 10 \n",
      "12 14 16 18 20 \n"
     ]
    }
   ],
   "source": [
    "num = np.array([[2,4,6,8,10],[12,14,16,18,20]])\n",
    "\n",
    "for i in num:\n",
    "    for j in i:\n",
    "        print(j, end=\" \")\n",
    "    print()"
   ]
  },
  {
   "cell_type": "markdown",
   "id": "45b742ff-aa0b-467e-bedd-e7d149c26b9e",
   "metadata": {},
   "source": [
    "3. Por último, crea un array de 3 dimensiones que contenga los 20 primeros números pares para después iterar y mostrar cada uno de los elementos de los subarrays de menor tamaño."
   ]
  },
  {
   "cell_type": "code",
   "execution_count": 36,
   "id": "75f54f84-61ad-4350-837d-efbe1ef58af9",
   "metadata": {},
   "outputs": [
    {
     "name": "stdout",
     "output_type": "stream",
     "text": [
      "2 \n",
      "12 \n",
      "22 \n",
      "32 \n"
     ]
    }
   ],
   "source": [
    "num2 = np.array([[[2,4,6,8,10],[12,14,16,18,20]],[[22,24,26,28,30],[32,34,36,38,40]]])\n",
    "\n",
    "for i in num2:\n",
    "    for j in i:\n",
    "        cont = 1\n",
    "        for k in j:\n",
    "            if cont == 1:\n",
    "                print(k, end=\" \")\n",
    "            cont += 1\n",
    "        print()"
   ]
  },
  {
   "cell_type": "markdown",
   "id": "ca1cc210-d945-414b-af1e-d67ad4e7f8e1",
   "metadata": {},
   "source": [
    "## Ejercicio 14\n",
    "1. import numpy as np\n",
    "\n",
    "impares = np.array([[1,3,5,7,9],[11,13,15,17,19]])\n",
    "\n",
    "def funcion(x):\n",
    "    for i in x:\n",
    "        print(i, end=\" \")\n",
    "    print()\n",
    "\n",
    "funcion(impares)Crea un array de 2 dimensiones que contenga los 10 primeros números impares. Seguidamente, itera y muestra los elementos de los subarrays del array anterior empleando otra función diferente al for…in."
   ]
  },
  {
   "cell_type": "code",
   "execution_count": 10,
   "id": "069dd277-a479-46cb-9ffa-932fbbc84813",
   "metadata": {},
   "outputs": [
    {
     "name": "stdout",
     "output_type": "stream",
     "text": [
      "[1 3 5 7 9] [11 13 15 17 19] \n"
     ]
    }
   ],
   "source": [
    "import numpy as np\n",
    "\n",
    "impares = np.array([[1,3,5,7,9],[11,13,15,17,19]])\n",
    "\n",
    "def funcion(x):\n",
    "    for i in x:\n",
    "        print(i, end=\" \")\n",
    "    print()\n",
    "\n",
    "funcion(impares)"
   ]
  },
  {
   "cell_type": "markdown",
   "id": "24e26db9-8642-45db-9425-26b78225ee5e",
   "metadata": {},
   "source": [
    "2. Muestra también los 2 primeros números de cada uno de los subarrays"
   ]
  },
  {
   "cell_type": "code",
   "execution_count": 11,
   "id": "151b44f0-895d-4b9f-8b76-fd3ee45d1a08",
   "metadata": {},
   "outputs": [
    {
     "name": "stdout",
     "output_type": "stream",
     "text": [
      "1 3 \n",
      "11 13 \n"
     ]
    }
   ],
   "source": [
    "def funcion2(x):\n",
    "    for i in x:\n",
    "        cont = 1\n",
    "        for j in i:\n",
    "            if cont <= 2:\n",
    "                print(j, end=\" \")\n",
    "            cont += 1\n",
    "        print()\n",
    "\n",
    "funcion2(impares)"
   ]
  },
  {
   "cell_type": "markdown",
   "id": "90357b95-3733-4df3-b2e8-12553f64e3e1",
   "metadata": {},
   "source": [
    "3. Finalmente, muestra todos los elementos enumerados por filas y columnas"
   ]
  },
  {
   "cell_type": "code",
   "execution_count": 12,
   "id": "c4fe4b9f-0656-4d68-8963-ee14f172f281",
   "metadata": {},
   "outputs": [
    {
     "name": "stdout",
     "output_type": "stream",
     "text": [
      "Fila 1 : Columna 1 :  1      Columna 2 :  3      Columna 3 :  5      Columna 4 :  7      Columna 5 :  9      \n",
      "Fila 2 : Columna 1 :  11      Columna 2 :  13      Columna 3 :  15      Columna 4 :  17      Columna 5 :  19      \n"
     ]
    }
   ],
   "source": [
    "def funcion3(x):\n",
    "    cont = 1\n",
    "    for i in x:\n",
    "        cont2 = 1\n",
    "        print(\"Fila\",cont,\": \", end=\"\")\n",
    "        for j in i:\n",
    "            print(\"Columna\",cont2,\": \", j,\"    \", end=\" \")\n",
    "            cont2 += 1\n",
    "        print()\n",
    "        cont += 1\n",
    "\n",
    "funcion3(impares)"
   ]
  },
  {
   "cell_type": "markdown",
   "id": "c67e05dc-b697-45b0-8f6e-b3a58b8dab8c",
   "metadata": {},
   "source": [
    "## Ejercicio 15\n",
    "1. Crea dos arrays de 1 dimensión (el primero de ellos debe contener los 3 primeros números primos y el segundo de ellos debe contener los 3 siguientes)."
   ]
  },
  {
   "cell_type": "code",
   "execution_count": 13,
   "id": "f10dc840-f7aa-47e7-9425-5817c59c2f73",
   "metadata": {},
   "outputs": [],
   "source": [
    "import numpy as np\n",
    "\n",
    "array1 = np.array([2, 3, 5])\n",
    "array2 = np.array([7, 11, 13])"
   ]
  },
  {
   "cell_type": "markdown",
   "id": "3853b3df-d2d9-4792-ac12-734a3cd16fa5",
   "metadata": {},
   "source": [
    "2. Seguidamente, une los dos arrays anteriores por fila y después por columnas."
   ]
  },
  {
   "cell_type": "code",
   "execution_count": 14,
   "id": "73b8f3f6-4c8e-4928-8fcc-ecf7c4eab4e3",
   "metadata": {},
   "outputs": [
    {
     "name": "stdout",
     "output_type": "stream",
     "text": [
      "[[ 2  3  5]\n",
      " [ 7 11 13]]\n",
      "[[ 2  7]\n",
      " [ 3 11]\n",
      " [ 5 13]]\n"
     ]
    }
   ],
   "source": [
    "print(np.vstack((array1, array2)))\n",
    "print(np.hstack((array1.reshape(-1, 1), array2.reshape(-1, 1))))"
   ]
  },
  {
   "cell_type": "markdown",
   "id": "98d7eaaf-1fee-4f05-b3d3-5854044861f5",
   "metadata": {},
   "source": [
    "3. Crea un array de 2 dimensiones que contenga los 10 primeros números primos y, a continuación, une los subarrays de cada array bidimensional."
   ]
  },
  {
   "cell_type": "code",
   "execution_count": 15,
   "id": "406a7e35-dba5-4679-8ac3-79b2135d2f50",
   "metadata": {},
   "outputs": [
    {
     "name": "stdout",
     "output_type": "stream",
     "text": [
      "[ 2  3  5  7 11 13 17 19 23 29]\n"
     ]
    }
   ],
   "source": [
    "array3 = np.array([[2,3,5,7,11], [13,17,19,23,29]])\n",
    "\n",
    "print(np.concatenate(array3))"
   ]
  },
  {
   "cell_type": "markdown",
   "id": "d7bcbf33-5c0a-48c5-a3e4-94545dbb2083",
   "metadata": {},
   "source": [
    "## Ejercicio 16\n",
    "1. Crea dos arrays de 1 dimensión (el primero de ellos debe contener los 3 primeros números elevados al cuadrado y el segundo de ellos debe contener los 3 siguientes elevados al cuadrado)."
   ]
  },
  {
   "cell_type": "code",
   "execution_count": 16,
   "id": "c74bba6d-1f85-45a4-b4a5-390198807b40",
   "metadata": {},
   "outputs": [],
   "source": [
    "import numpy as np\n",
    "\n",
    "array1 = np.array([1, 4, 9])\n",
    "array2 = np.array([16, 25, 36])"
   ]
  },
  {
   "cell_type": "markdown",
   "id": "2e620d53-9d0a-4485-8b43-9188fef39fae",
   "metadata": {},
   "source": [
    "2. Seguidamente, une los dos arrays por columnas para obtener un array bidimensional."
   ]
  },
  {
   "cell_type": "code",
   "execution_count": 20,
   "id": "df7e3231-7ee1-4342-887d-229822df6016",
   "metadata": {},
   "outputs": [
    {
     "name": "stdout",
     "output_type": "stream",
     "text": [
      "[[ 1 16]\n",
      " [ 4 25]\n",
      " [ 9 36]]\n"
     ]
    }
   ],
   "source": [
    "array3 = np.hstack((array1.reshape(-1, 1), array2.reshape(-1, 1)))\n",
    "\n",
    "print(array3)"
   ]
  },
  {
   "cell_type": "markdown",
   "id": "b103eb05-9926-43b0-a5a1-1f2b8aae2a1e",
   "metadata": {},
   "source": [
    "3. Después une los arrays por fila y por columna (esto último de manera que se obtenga un array bidimensional donde los arrays anteriores sean los subarrays)"
   ]
  },
  {
   "cell_type": "code",
   "execution_count": 19,
   "id": "989e5f62-ab2e-45e2-bd45-f1d8ac9d48b9",
   "metadata": {},
   "outputs": [
    {
     "name": "stdout",
     "output_type": "stream",
     "text": [
      "[[ 1 16]\n",
      " [ 4 25]\n",
      " [ 9 36]\n",
      " [ 1 16]\n",
      " [ 4 25]\n",
      " [ 9 36]]\n"
     ]
    }
   ],
   "source": [
    "print(np.vstack((array3, array3)))  "
   ]
  },
  {
   "cell_type": "markdown",
   "id": "3655d55e-e95a-46d9-a3be-0103ba4ab939",
   "metadata": {},
   "source": [
    "## Ejercicio 17\n",
    "1. Crea un array de 1 dimensión que contenga los 6 primeros números pares."
   ]
  },
  {
   "cell_type": "code",
   "execution_count": 21,
   "id": "428338bc-0697-40d6-8c55-46048037d108",
   "metadata": {},
   "outputs": [],
   "source": [
    "import numpy as np\n",
    "\n",
    "pares = np.array([2,4,6,8,10,12])"
   ]
  },
  {
   "cell_type": "markdown",
   "id": "937f0ed2-c461-4352-8dbc-60a6f5b8ef9f",
   "metadata": {},
   "source": [
    "2. Seguidamente muestra por pantalla un array fruto de separar el anterior en 3 partes y otro array fruto de separar el primero en 2 partes."
   ]
  },
  {
   "cell_type": "code",
   "execution_count": 23,
   "id": "d792482a-2c9e-4ad6-b404-8c4d781678cd",
   "metadata": {},
   "outputs": [
    {
     "name": "stdout",
     "output_type": "stream",
     "text": [
      "[[ 2  4]\n",
      " [ 6  8]\n",
      " [10 12]]\n",
      "\n",
      "[[ 2  4  6]\n",
      " [ 8 10 12]]\n"
     ]
    }
   ],
   "source": [
    "p3 = pares.reshape(-1, 2)\n",
    "p2 = pares.reshape(-1, 3)\n",
    "\n",
    "print(p3)\n",
    "print()\n",
    "print(p2)"
   ]
  },
  {
   "cell_type": "markdown",
   "id": "8a7579d6-bf3c-47db-825e-d83e653d29b6",
   "metadata": {},
   "source": [
    "3. Partiendo del array obtenido al separar en 3 partes, muestra por pantalla el segundo subarray."
   ]
  },
  {
   "cell_type": "code",
   "execution_count": 24,
   "id": "350b015e-bb5c-4150-8486-166c010517f6",
   "metadata": {},
   "outputs": [
    {
     "name": "stdout",
     "output_type": "stream",
     "text": [
      "[6 8]\n"
     ]
    }
   ],
   "source": [
    "print(p3[1])"
   ]
  },
  {
   "cell_type": "markdown",
   "id": "30a39a91-1ba0-4df9-a439-09d6e9b172d9",
   "metadata": {},
   "source": [
    "## Ejercicio 18\n",
    "Crea un array de 2 dimensiones que contenga los 12 primeros números pares."
   ]
  },
  {
   "cell_type": "code",
   "execution_count": 25,
   "id": "aba20113-3c57-48b2-a87a-d42f7818be11",
   "metadata": {},
   "outputs": [],
   "source": [
    "import numpy as np\n",
    "\n",
    "pares = np.array([[2,4,6,8,10,12],[14,16,18,20,22,24]])"
   ]
  },
  {
   "cell_type": "markdown",
   "id": "fbacc95f-e521-4547-8218-ce6e730ea705",
   "metadata": {},
   "source": [
    "2. Seguidamente crea un array separando el primero en 4 partes iguales y muéstralo por pantalla."
   ]
  },
  {
   "cell_type": "code",
   "execution_count": 26,
   "id": "67ecd9e7-a9b3-44ad-a2c0-21147166b3b5",
   "metadata": {},
   "outputs": [
    {
     "name": "stdout",
     "output_type": "stream",
     "text": [
      "[[ 2  4  6]\n",
      " [ 8 10 12]\n",
      " [14 16 18]\n",
      " [20 22 24]]\n"
     ]
    }
   ],
   "source": [
    "p4 = pares.reshape(-1, 3)\n",
    "print(p4)"
   ]
  },
  {
   "cell_type": "markdown",
   "id": "b1821a2a-7d85-4b2f-bdda-97054e70fccd",
   "metadata": {},
   "source": [
    "3. A continuación, crea otro array separando el primero por columnas y en 4 partes iguales (mostrándolo por pantalla)"
   ]
  },
  {
   "cell_type": "code",
   "execution_count": 27,
   "id": "af61a780-5407-4a87-a993-3cd5d5ea1121",
   "metadata": {},
   "outputs": [
    {
     "name": "stdout",
     "output_type": "stream",
     "text": [
      "[array([[ 2,  4],\n",
      "       [14, 16]]), array([[ 6,  8],\n",
      "       [18, 20]]), array([[10],\n",
      "       [22]]), array([[12],\n",
      "       [24]])]\n"
     ]
    }
   ],
   "source": [
    "subarrays_columnas = np.array_split(pares, 4, axis=1)\n",
    "print(subarrays_columnas)"
   ]
  },
  {
   "cell_type": "markdown",
   "id": "ed2a5942-3a8e-4a54-a680-05c6d2f987d9",
   "metadata": {},
   "source": [
    "## Ejercicio 19\n",
    "1. Crea un array de 1 dimensión que contenga el número de días que tiene cada mes del año."
   ]
  },
  {
   "cell_type": "code",
   "execution_count": 28,
   "id": "33e17eed-0231-49b0-a111-1858dfe9040b",
   "metadata": {},
   "outputs": [
    {
     "name": "stdout",
     "output_type": "stream",
     "text": [
      "[31 28 31 30 31 30 31 31 30 31 30 31]\n"
     ]
    }
   ],
   "source": [
    "import numpy as np\n",
    "\n",
    "meses = np.array([31, 28, 31, 30, 31, 30, 31, 31, 30, 31, 30, 31])\n",
    "\n",
    "print(meses)"
   ]
  },
  {
   "cell_type": "markdown",
   "id": "c80c541a-84f1-4a0d-845c-311662835f30",
   "metadata": {},
   "source": [
    "2. Seguidamente busca los meses en los que el número de días es 30."
   ]
  },
  {
   "cell_type": "code",
   "execution_count": 29,
   "id": "33ac592c-3ef6-4d77-bc2c-594c810383e8",
   "metadata": {},
   "outputs": [
    {
     "name": "stdout",
     "output_type": "stream",
     "text": [
      "[30 30 30 30]\n"
     ]
    }
   ],
   "source": [
    "print(meses[meses == 30])"
   ]
  },
  {
   "cell_type": "markdown",
   "id": "cbb2fc4e-ddbe-4342-b582-d86a6cf1e41d",
   "metadata": {},
   "source": [
    "3.  Crea otro array de 1 dimensión con 10 números aleatorios. A continuación, busca las posiciones de los números que sean múltiplos de 3."
   ]
  },
  {
   "cell_type": "code",
   "execution_count": 30,
   "id": "619101b0-b4ca-4f63-bffd-910f4218f609",
   "metadata": {},
   "outputs": [
    {
     "name": "stdout",
     "output_type": "stream",
     "text": [
      "[90. 81. 96. 57. 78. 35. 43. 97. 27. 48.]\n",
      "[90. 81. 96. 57. 78. 27. 48.]\n"
     ]
    }
   ],
   "source": [
    "import random\n",
    "\n",
    "num = np.array([])\n",
    "for i in range(10):\n",
    "    num = np.append(num, random.randint(1, 100))\n",
    "\n",
    "print(num)\n",
    "print(num[num % 3 == 0])"
   ]
  },
  {
   "cell_type": "markdown",
   "id": "5f74e9ca-e519-4df5-b31d-7533af578fa8",
   "metadata": {},
   "source": [
    "## Ejercicio 20\n",
    "1. Crea un array de 1 dimensión que contenga los 10 primeros términos de la serie de Fibonacci."
   ]
  },
  {
   "cell_type": "code",
   "execution_count": 31,
   "id": "8d045424-4322-4bbe-b258-2a6a2db7fedf",
   "metadata": {},
   "outputs": [
    {
     "name": "stdout",
     "output_type": "stream",
     "text": [
      "[ 1  2  3  5  8 13 21 34 55 89]\n"
     ]
    }
   ],
   "source": [
    "import numpy as np\n",
    "\n",
    "fibonacci = np.array([1,2,3,5,8,13,21,34,55,89])\n",
    "\n",
    "print(fibonacci)"
   ]
  },
  {
   "cell_type": "markdown",
   "id": "ad62b111-3a63-4280-808f-b8c2c8f2cb79",
   "metadata": {},
   "source": [
    "2. Seguidamente, busca la posición que ocupa en la serie el número 13."
   ]
  },
  {
   "cell_type": "code",
   "execution_count": 32,
   "id": "1f4991a4-cdca-4afc-a3db-99f82675c25d",
   "metadata": {},
   "outputs": [
    {
     "name": "stdout",
     "output_type": "stream",
     "text": [
      "(array([5]),)\n"
     ]
    }
   ],
   "source": [
    "print(np.where(fibonacci == 13))"
   ]
  },
  {
   "cell_type": "markdown",
   "id": "b5029ffe-ca1d-467d-ba1a-f41ecd672a5b",
   "metadata": {},
   "source": [
    "3.  Crea otro array de 1 dimensión que contenga los 10 primeros números múltiplos de 7."
   ]
  },
  {
   "cell_type": "code",
   "execution_count": 33,
   "id": "d111b266-841e-4da0-9611-8547cd4fe6d8",
   "metadata": {},
   "outputs": [
    {
     "name": "stdout",
     "output_type": "stream",
     "text": [
      "[ 7. 14. 21. 28. 35. 42. 49. 56. 63. 70.]\n"
     ]
    }
   ],
   "source": [
    "num = np.array([])\n",
    "for i in range(10):\n",
    "    num = np.append(num, (i+1) * 7)\n",
    "\n",
    "print(num)"
   ]
  },
  {
   "cell_type": "markdown",
   "id": "93fc0198-6ab7-4c2e-a015-f047fac8f146",
   "metadata": {},
   "source": [
    "4. A continuación, busca la posición que ocupa en la serie el número 49."
   ]
  },
  {
   "cell_type": "code",
   "execution_count": 34,
   "id": "2b58b4e8-6d8e-4e13-b77a-61cf764470f3",
   "metadata": {},
   "outputs": [
    {
     "name": "stdout",
     "output_type": "stream",
     "text": [
      "(array([6]),)\n"
     ]
    }
   ],
   "source": [
    "print(np.where(num == 49))"
   ]
  }
 ],
 "metadata": {
  "kernelspec": {
   "display_name": "Python 3 (ipykernel)",
   "language": "python",
   "name": "python3"
  },
  "language_info": {
   "codemirror_mode": {
    "name": "ipython",
    "version": 3
   },
   "file_extension": ".py",
   "mimetype": "text/x-python",
   "name": "python",
   "nbconvert_exporter": "python",
   "pygments_lexer": "ipython3",
   "version": "3.13.2"
  }
 },
 "nbformat": 4,
 "nbformat_minor": 5
}
