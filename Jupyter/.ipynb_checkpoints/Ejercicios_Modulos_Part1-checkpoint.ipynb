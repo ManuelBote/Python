{
 "cells": [
  {
   "cell_type": "markdown",
   "id": "69706a36-102c-4ec4-9539-ee526d8260bb",
   "metadata": {},
   "source": [
    "# Ejercicios Modulos (1-10)"
   ]
  },
  {
   "cell_type": "markdown",
   "id": "4c3f8633-3d6f-4bcd-b930-ea05d7e1a5f7",
   "metadata": {},
   "source": [
    "## Ejercicio 1\n",
    "1. Crea un array mediante el módulo NumPy que contenga 5 números pares comprendidos entre el 40 y el 60. "
   ]
  },
  {
   "cell_type": "code",
   "execution_count": 1,
   "id": "d07d0ee3-b742-447c-9eb9-d21a1a2daeaa",
   "metadata": {},
   "outputs": [],
   "source": [
    "import numpy as np\n",
    "\n",
    "array1 = np.array([42,44,46,48,50])"
   ]
  },
  {
   "cell_type": "markdown",
   "id": "90d617a9-6970-432c-ad9a-00c583380eb4",
   "metadata": {},
   "source": [
    "2. Muestra el array por pantalla."
   ]
  },
  {
   "cell_type": "code",
   "execution_count": 2,
   "id": "43a7e42b-8b26-4874-8827-e5f92d8294a6",
   "metadata": {},
   "outputs": [
    {
     "name": "stdout",
     "output_type": "stream",
     "text": [
      "[42 44 46 48 50]\n"
     ]
    }
   ],
   "source": [
    "print(array1)"
   ]
  },
  {
   "cell_type": "markdown",
   "id": "6d50deee-7aa1-4641-b624-42d7b38ca565",
   "metadata": {},
   "source": [
    "3. Crea otro array de 3 dimensiones que contenga números mayores que 500 y muestra por pantalla su dimensión."
   ]
  },
  {
   "cell_type": "code",
   "execution_count": 4,
   "id": "3e0e439f-0a4e-4cef-bc23-31929831adb5",
   "metadata": {},
   "outputs": [
    {
     "name": "stdout",
     "output_type": "stream",
     "text": [
      "3\n"
     ]
    }
   ],
   "source": [
    "array2 = np.array([[[510,520],[540,550]],[[570,580],[590,600]]])\n",
    "print(array2.ndim)"
   ]
  },
  {
   "cell_type": "markdown",
   "id": "6fc994bb-9d36-4d68-9262-8c6c5a5dda81",
   "metadata": {},
   "source": [
    "4. Crea un array de dimensión 8."
   ]
  },
  {
   "cell_type": "code",
   "execution_count": 6,
   "id": "95d61900-a310-437c-9b29-6cecaa35fc9b",
   "metadata": {},
   "outputs": [
    {
     "name": "stdout",
     "output_type": "stream",
     "text": [
      "[[[[[[[[1 2 3]]]]]]]]\n",
      "8\n"
     ]
    }
   ],
   "source": [
    "array3 = np.array([1,2,3], ndmin=8 )\n",
    "print(array3)\n",
    "print(array3.ndim)"
   ]
  },
  {
   "cell_type": "markdown",
   "id": "9ef775c9-5e18-4520-86fe-69f65f164156",
   "metadata": {},
   "source": [
    "## Ejercicio 2\n",
    "1. Crea un array mediante el módulo NumPy que contenga 12 elementos numéricos para designar los meses del año.\n"
   ]
  },
  {
   "cell_type": "code",
   "execution_count": 7,
   "id": "febe6b11-bf56-4500-ae4d-7fc9d41e23fd",
   "metadata": {},
   "outputs": [],
   "source": [
    "import numpy as np\n",
    "import matplotlib.pyplot as plt\n",
    "\n",
    "meses = np.array([1,2,3,4,5,6,7,8,9,10,11,12])"
   ]
  },
  {
   "cell_type": "markdown",
   "id": "728c4b66-fa78-4d22-86a5-84f1ae9aff2d",
   "metadata": {},
   "source": [
    "2. Crea otro array cuyos elementos sean los números de días correspondientes a cada mes del año (considerar año bisiesto)."
   ]
  },
  {
   "cell_type": "code",
   "execution_count": 8,
   "id": "27739e80-96be-49b5-ac77-f9437d9d2ce7",
   "metadata": {},
   "outputs": [],
   "source": [
    "dias = np.array([31,28,31,30,31,30,31,31,30,31,30,31])"
   ]
  },
  {
   "cell_type": "markdown",
   "id": "d0639967-b91e-4cca-ac45-67e7224ca3a2",
   "metadata": {},
   "source": [
    "3. Representa mediante el módulo Matplotlib los meses del año 2024 y su número de días."
   ]
  },
  {
   "cell_type": "code",
   "execution_count": 9,
   "id": "117ebf4d-9910-47c9-a8d4-96309afa68b5",
   "metadata": {},
   "outputs": [
    {
     "data": {
      "image/png": "[encoded data removed]",
      "text/plain": [
       "<Figure size 640x480 with 1 Axes>"
      ]
     },
     "metadata": {},
     "output_type": "display_data"
    }
   ],
   "source": [
    "plt.plot(meses, dias)\n",
    "plt.show()"
   ]
  },
  {
   "cell_type": "markdown",
   "id": "f72547ba-a13e-4bd3-9484-6ab6b578d81e",
   "metadata": {},
   "source": [
    "## Ejercicio 3"
   ]
  },
  {
   "cell_type": "markdown",
   "id": "3951d3c2-9fbf-485b-836c-1859da3735dd",
   "metadata": {},
   "source": [
    "Crea un texto y muéstralo por pantalla que contenga los siguientes tipos de constantes: prefijos (kilo, deca, etc.), prefijos binarios (kB, MB, GB, etc.), masas (gramos, libras, etc.), ángulos (grados, arcominutos, etc.), tiempos (segundos, minutos, etc.), longitudes (yardas, millas, etc.), presiones (atmósferas, bares, etc.), áreas (hectáreas, acres, etc.), volúmenes (litros, galones, etc.), velocidades (kilómetros hora, etc.), temperaturas (celsius, fahrenheit, etc.), energías (calorías, ergios, etc.), potencias (caballos de potencia, etc.) y fuerzas (kilogramos fuerza, libras fuerza, etc.). Para acceder a cada una de las constantes emplea el módulo SciPy."
   ]
  },
  {
   "cell_type": "code",
   "execution_count": 10,
   "id": "2d8a93f8-cc3b-4b27-aecc-e3cb2d05d435",
   "metadata": {},
   "outputs": [
    {
     "name": "stdout",
     "output_type": "stream",
     "text": [
      "\n",
      "Prefijos:\n",
      "- kilo: 1000.0 (1000)\n",
      "\n",
      "Prefijos binarios:\n",
      "- kB (kilobyte): 1024 bytes\n",
      "- MB (megabyte): 1048576 bytes\n",
      "- GB (gigabyte): 1073741824 bytes\n",
      "\n",
      "Masas:\n",
      "- gramo: 0.001 gramos\n",
      "- libra: 0.45359236999999997 libras\n",
      "\n",
      "Ángulos:\n",
      "- grado: 0.017453292519943295 grados\n",
      "- arcominuto: 0.0002908882086657216 arcominutos\n",
      "\n",
      "Tiempos:\n",
      "- minuto: 60.0 minutos\n",
      "\n",
      "Longitudes:\n",
      "- yarda: 0.9143999999999999 yardas\n",
      "- milla: 1609.3439999999998 millas\n",
      "\n",
      "Presiones:\n",
      "- atmósfera: 101325.0 atmósferas\n",
      "- bar: 100000.0 bares\n",
      "\n",
      "Áreas:\n",
      "- hectárea: 10000.0 hectáreas\n",
      "- acre: 4046.8564223999992 acres\n",
      "\n",
      "Volúmenes:\n",
      "- litro: 0.001 litros\n",
      "- galón: 0.0037854117839999997 galones\n",
      "\n",
      "Energías:\n",
      "- caloría: 4.184 calorías\n",
      "- ergio: 1e-07 ergios\n",
      "\n",
      "Potencias:\n",
      "- caballo de potencia: 745.6998715822701 caballos de potencia\n",
      "\n",
      "Fuerzas:\n",
      "- kilogramo fuerza: 9.80665 kilogramos fuerza\n",
      "- libra fuerza: 4.4482216152605 libras fuerza\n",
      "\n"
     ]
    }
   ],
   "source": [
    "import scipy.constants as cs\n",
    "\n",
    "texto = f\"\"\"\n",
    "Prefijos:\n",
    "- kilo: {cs.kilo} (1000)\n",
    "\n",
    "Prefijos binarios:\n",
    "- kB (kilobyte): {cs.kibi} bytes\n",
    "- MB (megabyte): {cs.mebi} bytes\n",
    "- GB (gigabyte): {cs.gibi} bytes\n",
    "\n",
    "Masas:\n",
    "- gramo: {cs.gram} gramos\n",
    "- libra: {cs.lb} libras\n",
    "\n",
    "Ángulos:\n",
    "- grado: {cs.degree} grados\n",
    "- arcominuto: {cs.arcminute} arcominutos\n",
    "\n",
    "Tiempos:\n",
    "- minuto: {cs.minute} minutos\n",
    "\n",
    "Longitudes:\n",
    "- yarda: {cs.yard} yardas\n",
    "- milla: {cs.mile} millas\n",
    "\n",
    "Presiones:\n",
    "- atmósfera: {cs.atm} atmósferas\n",
    "- bar: {cs.bar} bares\n",
    "\n",
    "Áreas:\n",
    "- hectárea: {cs.hectare} hectáreas\n",
    "- acre: {cs.acre} acres\n",
    "\n",
    "Volúmenes:\n",
    "- litro: {cs.liter} litros\n",
    "- galón: {cs.gallon} galones\n",
    "\n",
    "Energías:\n",
    "- caloría: {cs.calorie} calorías\n",
    "- ergio: {cs.erg} ergios\n",
    "\n",
    "Potencias:\n",
    "- caballo de potencia: {cs.horsepower} caballos de potencia\n",
    "\n",
    "Fuerzas:\n",
    "- kilogramo fuerza: {cs.kgf} kilogramos fuerza\n",
    "- libra fuerza: {cs.lbf} libras fuerza\n",
    "\"\"\"\n",
    "\n",
    "print(texto)"
   ]
  },
  {
   "cell_type": "markdown",
   "id": "9e974f94-5c0f-451b-b4d0-4bcff0b2596c",
   "metadata": {},
   "source": [
    "## Ejercicio 4\n",
    "1. Crea un array que contenga los 5 primeros números pares y muestra por pantalla la resta del cuarto elemento menos el segundo elemento.\n"
   ]
  },
  {
   "cell_type": "code",
   "execution_count": 12,
   "id": "0f78e22f-f62a-49ed-a92b-4e67af3c9ff5",
   "metadata": {},
   "outputs": [
    {
     "name": "stdout",
     "output_type": "stream",
     "text": [
      "La resta del cuarto menos el segundos es: 4\n"
     ]
    }
   ],
   "source": [
    "import numpy as np\n",
    "\n",
    "array1 = np.array([2,4,6,8,10])\n",
    "print(\"La resta del cuarto menos el segundos es:\", array1[3]-array1[1])"
   ]
  },
  {
   "cell_type": "markdown",
   "id": "d25ffead-907e-430b-9691-bd5a91869140",
   "metadata": {},
   "source": [
    "2. Crea un array de dimensión 2 que contenga los 10 primeros números pares y muestra por pantalla el tercer elemento de la primera fila."
   ]
  },
  {
   "cell_type": "code",
   "execution_count": 15,
   "id": "8880fb16-75a2-4b2d-8987-ffbcddbaafa0",
   "metadata": {},
   "outputs": [
    {
     "name": "stdout",
     "output_type": "stream",
     "text": [
      "El tercer elemento de la primera fila es: 6\n"
     ]
    }
   ],
   "source": [
    "array2 = np.array([[2,4,6,8,10],[12,14,16,18,20]])\n",
    "print(\"El tercer elemento de la primera fila es:\", array2[0,2])"
   ]
  },
  {
   "cell_type": "markdown",
   "id": "a7045d54-d7c8-4aa3-beaa-31c3cd19daea",
   "metadata": {},
   "source": [
    "3. Crea otro array de 3 dimensiones que contenga los 20 primeros números pares y muestra por pantalla el producto del primer número par por el último número par."
   ]
  },
  {
   "cell_type": "code",
   "execution_count": 16,
   "id": "055e8e0c-42e2-46d7-bb5e-10e0bf1d7083",
   "metadata": {},
   "outputs": [
    {
     "name": "stdout",
     "output_type": "stream",
     "text": [
      "El producto del primer numero par por el utlimo es: 80\n"
     ]
    }
   ],
   "source": [
    "array3 = np.array([[[2,4,6,8,10],[12,14,16,18,20]],[[22,24,26,28,30],[32,34,36,38,40]]])\n",
    "print(\"El producto del primer numero par por el utlimo es:\", array3[0,0,0]*array3[1,1,4])"
   ]
  },
  {
   "cell_type": "markdown",
   "id": "f7626686-1d61-4ade-b45c-b2ba840022c3",
   "metadata": {},
   "source": [
    "## Ejercicio 5"
   ]
  },
  {
   "cell_type": "markdown",
   "id": "daa0444e-b420-427e-a813-51eda3c95a06",
   "metadata": {},
   "source": [
    "Representa en un gráfico el sueldo que ha cobrado un trabajador de una empresa en cada uno de los meses de 2024 (si en alguno de esos meses el trabajador ha estado en paro, el sueldo será nulo).\n",
    "\n",
    "Haz los cambios pertinentes para que la representación sea a través de puntos únicamente."
   ]
  },
  {
   "cell_type": "code",
   "execution_count": 18,
   "id": "90dc849f-a793-4da3-830a-d0a01966355d",
   "metadata": {},
   "outputs": [
    {
     "data": {
      "image/png": "[encoded data removed]",
      "text/plain": [
       "<Figure size 640x480 with 1 Axes>"
      ]
     },
     "metadata": {},
     "output_type": "display_data"
    }
   ],
   "source": [
    "import matplotlib.pyplot as plt\n",
    "\n",
    "meses = ([1,2,3,4,5,6,7,8,9,10,11,12])\n",
    "sueldo = ([1000,2000,1500,1200,1000,0,0,1250,1490,1780,2100,2400])\n",
    "\n",
    "plt.plot(meses,sueldo, marker = 'o')\n",
    "plt.show()"
   ]
  },
  {
   "cell_type": "markdown",
   "id": "2b5a3e0d-0e13-4c12-8f3d-c2b119021dbd",
   "metadata": {},
   "source": [
    "## Ejercicio 6\n",
    "1. Encuentra la raíz de la expresión matemática 𝑥 + 3 + 2 − 8 y muéstrala por pantalla. "
   ]
  },
  {
   "cell_type": "code",
   "execution_count": 19,
   "id": "842aace3-71cf-42bd-bf33-8b0b4f1596b4",
   "metadata": {},
   "outputs": [
    {
     "name": "stdout",
     "output_type": "stream",
     "text": [
      " message: The solution converged.\n",
      " success: True\n",
      "  status: 1\n",
      "     fun: [ 0.000e+00]\n",
      "       x: [ 3.000e+00]\n",
      "  method: hybr\n",
      "    nfev: 5\n",
      "    fjac: [[-1.000e+00]]\n",
      "       r: [-1.000e+00]\n",
      "     qtf: [ 3.000e+00]\n"
     ]
    }
   ],
   "source": [
    "from scipy.optimize import root\n",
    "from scipy.optimize import minimize\n",
    "\n",
    "def raiz(x):\n",
    "    return x+3+2-8\n",
    "\n",
    "myroot = root(raiz, 0)\n",
    "print(myroot)"
   ]
  },
  {
   "cell_type": "markdown",
   "id": "c7fe33c6-ea8c-40e3-a95d-1e01242d1f2a",
   "metadata": {},
   "source": [
    "2. Encuentra el mínimo de la función matemática 𝑥2 − 10 − 𝑥 y muéstralo por pantalla."
   ]
  },
  {
   "cell_type": "code",
   "execution_count": 20,
   "id": "b58ac522-c050-41dd-884f-83d98f95b2b8",
   "metadata": {},
   "outputs": [
    {
     "name": "stdout",
     "output_type": "stream",
     "text": [
      "  message: Optimization terminated successfully.\n",
      "  success: True\n",
      "   status: 0\n",
      "      fun: -10.25\n",
      "        x: [ 5.000e-01]\n",
      "      nit: 2\n",
      "      jac: [ 0.000e+00]\n",
      " hess_inv: [[ 5.000e-01]]\n",
      "     nfev: 8\n",
      "     njev: 4\n"
     ]
    }
   ],
   "source": [
    "def minimo(x):\n",
    "    return x**2 - 10 - x\n",
    "    \n",
    "mymin = minimize(minimo, 0, method='BFGS')\n",
    "print(mymin)"
   ]
  },
  {
   "cell_type": "markdown",
   "id": "1c17b1a6-91a1-44d1-b80b-5940adec996a",
   "metadata": {},
   "source": [
    "## Ejercicio 7 \n",
    "1. Crea un array formado por 20 números comprendidos entre el 140 y el 190."
   ]
  },
  {
   "cell_type": "code",
   "execution_count": 22,
   "id": "6cbc885a-d2cf-4cc0-9247-275d1a5a8c79",
   "metadata": {},
   "outputs": [
    {
     "name": "stdout",
     "output_type": "stream",
     "text": [
      "[178. 185. 179. 175. 166. 148. 172. 154. 158. 164. 163. 177. 149. 171.\n",
      " 166. 173. 162. 151. 163. 189.]\n"
     ]
    }
   ],
   "source": [
    "import numpy as np\n",
    "\n",
    "num = np.array([])\n",
    "\n",
    "for i in range(20):\n",
    "    num = np.append(num, np.random.randint(140, 190))\n",
    "\n",
    "print(num)"
   ]
  },
  {
   "cell_type": "markdown",
   "id": "ff8d0b99-b4e4-43c0-8fdd-40f7c1396687",
   "metadata": {},
   "source": [
    "2. Muestra por pantalla del primer al octavo elemento y, por otro lado, del elemento 14 al 19. "
   ]
  },
  {
   "cell_type": "code",
   "execution_count": 23,
   "id": "60d1796c-bfcc-4bfa-a674-6b27ce42735a",
   "metadata": {},
   "outputs": [
    {
     "name": "stdout",
     "output_type": "stream",
     "text": [
      "Primeros 8 elementos:  [178. 185. 179. 175. 166. 148. 172. 154.]\n",
      "Elementos del 14 al 19:  [166. 173. 162. 151. 163.]\n"
     ]
    }
   ],
   "source": [
    "print(\"Primeros 8 elementos: \", num[0:8])\n",
    "print(\"Elementos del 14 al 19: \", num[14:19])"
   ]
  },
  {
   "cell_type": "markdown",
   "id": "605f505e-3b57-4fc6-9d08-e57bce46f4e4",
   "metadata": {},
   "source": [
    "3. Crea otro array formado por 40 elementos comprendidos entre el 140 y el 180."
   ]
  },
  {
   "cell_type": "code",
   "execution_count": 24,
   "id": "8f08d3ef-a153-4d4e-96b7-14c6755a0aef",
   "metadata": {},
   "outputs": [
    {
     "name": "stdout",
     "output_type": "stream",
     "text": [
      "[140 141 142 143 144 145 146 147 148 149 150 151 152 153 154 155 156 157\n",
      " 158 159 160 161 162 163 164 165 166 167 168 169 170 171 172 173 174 175\n",
      " 176 177 178 179 180]\n"
     ]
    }
   ],
   "source": [
    "num2 = np.array([140, 141, 142, 143, 144, 145, 146, 147, 148, 149, 150, 151, 152, 153, 154, 155, 156, 157, 158, 159, 160, 161, 162, 163, 164, 165, 166, 167, 168, 169, 170, 171, 172, 173, 174, 175, 176, 177, 178, 179, 180])\n",
    "\n",
    "print(num2)"
   ]
  },
  {
   "cell_type": "markdown",
   "id": "afe47c17-b2ed-4d6f-b91d-c1dae7c59a17",
   "metadata": {},
   "source": [
    "4. Muestra por pantalla desde el último elemento hasta el antepenúltimo y, por otro lado, los 20 primeros elementos de 2 en 2."
   ]
  },
  {
   "cell_type": "code",
   "execution_count": 25,
   "id": "266baad2-c1e5-4110-a219-608160c3e6bd",
   "metadata": {},
   "outputs": [
    {
     "name": "stdout",
     "output_type": "stream",
     "text": [
      "Ultimos 3 elementos:  [180 179 178]\n",
      "Primeros 20 elementos de 2 en 2:  [140 142 144 146 148 150 152 154 156 158]\n"
     ]
    }
   ],
   "source": [
    "print(\"Ultimos 3 elementos: \", num2[-1:-4:-1])\n",
    "print(\"Primeros 20 elementos de 2 en 2: \", num2[0:20:2])"
   ]
  },
  {
   "cell_type": "markdown",
   "id": "63081e03-96d7-4064-be8c-74be9c84e7a7",
   "metadata": {},
   "source": [
    "5. Crea un array bidimensional con 15 números del 200 al 250."
   ]
  },
  {
   "cell_type": "code",
   "execution_count": 27,
   "id": "2a651bfb-2840-4f7a-870b-0bab586f9793",
   "metadata": {},
   "outputs": [
    {
     "name": "stdout",
     "output_type": "stream",
     "text": [
      "[[201 202 203 204 205 206 207 208 209 210 211 212 213 214 215]\n",
      " [216 217 218 219 220 221 222 223 224 225 226 227 228 229 230]]\n"
     ]
    }
   ],
   "source": [
    "num3 = np.array([[201, 202, 203, 204, 205, 206, 207, 208, 209, 210, 211, 212, 213, 214, 215],\n",
    "                 [216, 217, 218, 219, 220, 221, 222, 223, 224, 225, 226, 227, 228, 229, 230]])\n",
    "print(num3)"
   ]
  },
  {
   "cell_type": "markdown",
   "id": "ac449dbd-f748-4ff1-9dbc-01b7de39c818",
   "metadata": {},
   "source": [
    "5. Muestra por pantalla de cada subarray los 3 primeros elementos y del último subarray los 2 primeros elementos."
   ]
  },
  {
   "cell_type": "code",
   "execution_count": 28,
   "id": "634150b3-be28-4061-9258-84801e7f8fa3",
   "metadata": {},
   "outputs": [
    {
     "name": "stdout",
     "output_type": "stream",
     "text": [
      "Primeros 3 elementos de cada subarray: [[201 202 203]\n",
      " [216 217 218]]\n",
      "Ultimos elementos del subarray2:  [[229 230]]\n"
     ]
    }
   ],
   "source": [
    "print(\"Primeros 3 elementos de cada subarray:\",num3[0:3, 0:3])\n",
    "print(\"Ultimos elementos del subarray2: \", num3[-1:, -2:])"
   ]
  },
  {
   "cell_type": "markdown",
   "id": "c410d815-a821-48ab-a9bc-0d3fcf538774",
   "metadata": {},
   "source": [
    "## Ejercicio 8\n",
    "Representa en un gráfico la variación de ventas que experimenta una empresa a lo largo de un año.\n",
    "Establece los puntos del gráfico con forma cuadrada, tamaño relativamente grande, con un borde de color verde y con un color de relleno rosa (además de un color de línea negro)."
   ]
  },
  {
   "cell_type": "code",
   "execution_count": 1,
   "id": "ee0e5eb6-ec6a-47dc-ac5e-d875284806b8",
   "metadata": {},
   "outputs": [
    {
     "data": {
      "image/png": "[encoded data removed]",
      "text/plain": [
       "<Figure size 640x480 with 1 Axes>"
      ]
     },
     "metadata": {},
     "output_type": "display_data"
    }
   ],
   "source": [
    "import numpy as np\n",
    "import matplotlib.pyplot as plt\n",
    "\n",
    "meses = np.array([1, 2, 3, 4, 5, 6, 7, 8, 9, 10, 11, 12])\n",
    "ventas = np.array([100, 120, 110, 130, 140, 150, 160, 170, 150, 190, 200, 210])\n",
    "\n",
    "plt.plot(meses, ventas, color='black', marker='s', markersize=10, markeredgewidth=2, markeredgecolor='green', markerfacecolor='pink')\n",
    "\n",
    "plt.show()"
   ]
  },
  {
   "cell_type": "markdown",
   "id": "576ef496-aa2f-4799-ba15-717f48835bef",
   "metadata": {},
   "source": [
    "## Ejercicio 9\n",
    "1. Crea un array indicando en qué mes del año cumplen años tus padres y tus tíos. "
   ]
  },
  {
   "cell_type": "code",
   "execution_count": 2,
   "id": "324c8a59-e4b2-4c3d-8081-dadbcd797065",
   "metadata": {},
   "outputs": [],
   "source": [
    "import numpy as np \n",
    "\n",
    "meses = np.array([1, 0, 1, 1, 0, 1, 0, 1, 1, 1, 0, 1])"
   ]
  },
  {
   "cell_type": "markdown",
   "id": "616683a1-e57e-4b2c-bfad-a1f211af6e15",
   "metadata": {},
   "source": [
    "2. A partir del array anterior elabora una matriz CSR en la que sólo aparezcan los términos no nulos.\n",
    "Muestra la matriz por pantalla, así como los datos de forma condensada y el número de elementos que no son nulos."
   ]
  },
  {
   "cell_type": "markdown",
   "id": "4312d82c-a0a8-4ce6-84d9-13a1fa6195d6",
   "metadata": {},
   "source": [
    "from scipy.sparse import csr_matrix\n",
    "\n",
    "print(csr_matrix(meses))\n",
    "print(csr_matrix(meses).count_nonzero())\n",
    "print(csr_matrix(meses).data)"
   ]
  },
  {
   "cell_type": "markdown",
   "id": "48b6fdfe-3bff-4885-91ac-4d0dd7a09c50",
   "metadata": {},
   "source": [
    "## Ejercicio 10\n",
    "1. Crea un array compuesto por 36 números pares."
   ]
  },
  {
   "cell_type": "code",
   "execution_count": 5,
   "id": "ea10de24-0e3c-4617-9835-47e7fea5e820",
   "metadata": {},
   "outputs": [],
   "source": [
    "import numpy as np\n",
    "\n",
    "num = np.array([0,2,4,6,8,10,12,14,16,18,20,22,24,26,28,30,32,34,36,38,40,42,44,46,48,50,52,54,56,58,60,62,64,66,68,70])"
   ]
  },
  {
   "cell_type": "markdown",
   "id": "111ded48-64d7-4526-ac98-4f602bfe8d8b",
   "metadata": {},
   "source": [
    "2. Muestra el array por pantalla."
   ]
  },
  {
   "cell_type": "code",
   "execution_count": 6,
   "id": "0023db14-d5c0-499e-8381-64c5450b241f",
   "metadata": {},
   "outputs": [
    {
     "name": "stdout",
     "output_type": "stream",
     "text": [
      "[ 0  2  4  6  8 10 12 14 16 18 20 22 24 26 28 30 32 34 36 38 40 42 44 46\n",
      " 48 50 52 54 56 58 60 62 64 66 68 70]\n"
     ]
    }
   ],
   "source": [
    "print(num)"
   ]
  },
  {
   "cell_type": "markdown",
   "id": "37f796a8-92a8-473f-83b8-6ef5ed50b7d0",
   "metadata": {},
   "source": [
    "3.  Redimensiona el array anterior a un array bidimensional cuya longitud de sus elementos sea de 6. Muestra el array bidimensional por pantalla."
   ]
  },
  {
   "cell_type": "code",
   "execution_count": 7,
   "id": "2031a380-a623-4926-a788-5b61faa7eddd",
   "metadata": {},
   "outputs": [
    {
     "name": "stdout",
     "output_type": "stream",
     "text": [
      "[[ 0  2  4  6  8 10]\n",
      " [12 14 16 18 20 22]\n",
      " [24 26 28 30 32 34]\n",
      " [36 38 40 42 44 46]\n",
      " [48 50 52 54 56 58]\n",
      " [60 62 64 66 68 70]]\n"
     ]
    }
   ],
   "source": [
    "print(num.reshape(-1,6))"
   ]
  },
  {
   "cell_type": "markdown",
   "id": "695cf5db-6925-4b89-bf0c-9c2111de02cc",
   "metadata": {},
   "source": [
    "4.  Redimensiona el primer array en un array tprint(num.reshape(-1,2,3))ridimensional cuya longitud de la última dimensión siga siendo de 6."
   ]
  },
  {
   "cell_type": "code",
   "execution_count": 9,
   "id": "95274793-2dac-43b6-8ecd-b86290013ce0",
   "metadata": {},
   "outputs": [
    {
     "name": "stdout",
     "output_type": "stream",
     "text": [
      "[[[ 0  2  4]\n",
      "  [ 6  8 10]]\n",
      "\n",
      " [[12 14 16]\n",
      "  [18 20 22]]\n",
      "\n",
      " [[24 26 28]\n",
      "  [30 32 34]]\n",
      "\n",
      " [[36 38 40]\n",
      "  [42 44 46]]\n",
      "\n",
      " [[48 50 52]\n",
      "  [54 56 58]]\n",
      "\n",
      " [[60 62 64]\n",
      "  [66 68 70]]]\n"
     ]
    }
   ],
   "source": [
    "print(num.reshape(-1,2,3))"
   ]
  }
 ],
 "metadata": {
  "kernelspec": {
   "display_name": "Python 3 (ipykernel)",
   "language": "python",
   "name": "python3"
  },
  "language_info": {
   "codemirror_mode": {
    "name": "ipython",
    "version": 3
   },
   "file_extension": ".py",
   "mimetype": "text/x-python",
   "name": "python",
   "nbconvert_exporter": "python",
   "pygments_lexer": "ipython3",
   "version": "3.13.2"
  }
 },
 "nbformat": 4,
 "nbformat_minor": 5
}
