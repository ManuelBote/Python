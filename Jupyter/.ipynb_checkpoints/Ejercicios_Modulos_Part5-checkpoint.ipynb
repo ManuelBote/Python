{
 "cells": [
  {
   "cell_type": "markdown",
   "id": "e987b777-e89f-447c-9dc2-8336f1124d3d",
   "metadata": {},
   "source": [
    "# Ejercicios Modulos (41-50)"
   ]
  },
  {
   "cell_type": "markdown",
   "id": "a9338cb1-31fc-4a28-a08d-6f24e4372253",
   "metadata": {},
   "source": [
    "## Ejercicio 41\n",
    "¿A qué número hay que elevar 2 para que resulte 20? ¿A qué número hay que elevar 2 para que resulte 46? ¿A qué número hay que elevar 2 para que resulte 180? Realiza las acciones debidas para poder resumir todas las respuestas anteriores en un único array"
   ]
  },
  {
   "cell_type": "code",
   "execution_count": 1,
   "id": "d35e6ca6-e296-441f-aee0-7e7cf18dedc0",
   "metadata": {},
   "outputs": [
    {
     "name": "stdout",
     "output_type": "stream",
     "text": [
      "[4.32192809 5.52356196 7.4918531 ]\n"
     ]
    }
   ],
   "source": [
    "import numpy as np\n",
    "\n",
    "numeros = np.array([20, 46, 180])\n",
    "resultado = np.log2(numeros)\n",
    "\n",
    "print(resultado)    "
   ]
  },
  {
   "cell_type": "markdown",
   "id": "23dc8ac6-25d0-4462-863e-a7606221f682",
   "metadata": {},
   "source": [
    "## Ejercicio 42\n",
    "¿A qué número hay que elevar 10 para que resulte 150? ¿ A qué número hay que elevar 10 para que resulte 1000? ¿A qué número hay que elevar 10 para que resulte 777? Realiza las acciones debidas para poder resumir todas las respuestas anteriores en un único array."
   ]
  },
  {
   "cell_type": "code",
   "execution_count": 2,
   "id": "444e1a3b-4410-47d1-899e-4a035e85d80a",
   "metadata": {},
   "outputs": [
    {
     "name": "stdout",
     "output_type": "stream",
     "text": [
      "[2.17609126 3.         2.89042102]\n"
     ]
    }
   ],
   "source": [
    "import numpy as np\n",
    "\n",
    "numeros = np.array([150, 1000, 777])\n",
    "resultado = np.log10(numeros)\n",
    "\n",
    "print(resultado)"
   ]
  },
  {
   "cell_type": "markdown",
   "id": "f7d0c57a-022a-4696-80a4-27ef825fa063",
   "metadata": {},
   "source": [
    "## Ejercicio 43\n",
    "¿Cuál es el mínimo común múltiplo de los números 18,12 y 42? Calcula el resultado a partir de un array constituido por dichos números y empleando las funciones de NumPy adecuadas."
   ]
  },
  {
   "cell_type": "code",
   "execution_count": 3,
   "id": "b3ec754f-06e3-4492-9bef-6453d5604fd6",
   "metadata": {},
   "outputs": [
    {
     "name": "stdout",
     "output_type": "stream",
     "text": [
      "6\n"
     ]
    }
   ],
   "source": [
    "import numpy as np\n",
    "\n",
    "numeros = np.array([18, 12, 42])\n",
    "resultado = np.gcd.reduce(numeros)\n",
    "\n",
    "print(resultado)"
   ]
  },
  {
   "cell_type": "markdown",
   "id": "c683a742-591a-44df-af63-4d5339553983",
   "metadata": {},
   "source": [
    "## Ejercicio 44\n",
    "¿Cuál es el máximo común divisor de los números 20, 24 y 32? Calcula el resultado a partir de un array constituido por dichos números y empleando las funciones de NumPy adecuadas."
   ]
  },
  {
   "cell_type": "code",
   "execution_count": 4,
   "id": "9f0bd814-9806-4da8-a784-2502a77bf6e0",
   "metadata": {},
   "outputs": [
    {
     "name": "stdout",
     "output_type": "stream",
     "text": [
      "480\n"
     ]
    }
   ],
   "source": [
    "import numpy as np\n",
    "\n",
    "numeros = np.array([20, 24, 32])\n",
    "resultado = np.lcm.reduce(numeros)\n",
    "\n",
    "print(resultado)"
   ]
  },
  {
   "cell_type": "markdown",
   "id": "f46682ab-71c9-49fc-a37d-57a34e362c02",
   "metadata": {},
   "source": [
    "## Ejercicio 45\n",
    "1. Crea un array que contenga las edades de 20 personas aleatorias (fruto de una encuesta)."
   ]
  },
  {
   "cell_type": "code",
   "execution_count": 5,
   "id": "41191515-7636-4c49-b584-bafc8ed8ee03",
   "metadata": {},
   "outputs": [
    {
     "name": "stdout",
     "output_type": "stream",
     "text": [
      "[67 36 44 63 65 51 65 75 69 20 50 25 34 74 37 28 26 71 52 32]\n"
     ]
    }
   ],
   "source": [
    "import numpy as np\n",
    "\n",
    "edades = np.random.randint(18, 80, 20)\n",
    "print(edades)"
   ]
  },
  {
   "cell_type": "markdown",
   "id": "142cd88b-f1fb-4f46-8af0-896b88a6002e",
   "metadata": {},
   "source": [
    "2. A partir del array anterior, crea un conjunto de valores únicos con las edades de esas 20 personas (puesto que es bastante probable que la edad se repita entre los encuestados). Finalmente, visualiza el conjunto por pantalla."
   ]
  },
  {
   "cell_type": "code",
   "execution_count": 6,
   "id": "bc5acdb5-6b94-46af-aa83-14b0f5580517",
   "metadata": {},
   "outputs": [
    {
     "name": "stdout",
     "output_type": "stream",
     "text": [
      "[20 25 26 28 32 34 36 37 44 50 51 52 63 65 67 69 71 74 75]\n"
     ]
    }
   ],
   "source": [
    "conjunto = np.unique(edades)\n",
    "\n",
    "print(conjunto)"
   ]
  },
  {
   "cell_type": "markdown",
   "id": "b0b846d3-3a1d-442b-b603-2e2689770535",
   "metadata": {},
   "source": [
    "## Ejercicio 46\n",
    "1. Crea un array que contenga el color favorito de 20 personas (fruto de otra encuesta). Al preguntar a otras 20 personas más, se ha obtenido otro array de 20 elementos."
   ]
  },
  {
   "cell_type": "code",
   "execution_count": 7,
   "id": "a107b2dc-21de-4514-8a2d-bcc869da043e",
   "metadata": {},
   "outputs": [],
   "source": [
    "import numpy as np\n",
    "\n",
    "colores = np.array([\"rojo\", \"azul\", \"verde\", \"rosa\", \"naranja\", \"rojo\", \"naranja\", \"verde\", \"azul\", \"azul\", \"negro\", \"negro\", \"morado\", \"rojo\", \"rosa\", \"rojo\", \"azul\", \"verde\", \"blanco\", \"marron\"])\n",
    "colores2 = np.array([\"marron\", \"celeste\", \"verde\", \"blanco\", \"blanco\", \"rojo\", \"verde\", \"verde\", \"amarillo\", \"negro\", \"morado\", \"azul\", \"verde\", \"amarillo\", \"rojo\", \"rojo\", \"azul\", \"verde\", \"amarillo\", \"magenta\"])"
   ]
  },
  {
   "cell_type": "markdown",
   "id": "067497a4-66e2-4dad-bc86-a24a6d635bb4",
   "metadata": {},
   "source": [
    "2. Elabora, a partir de los dos arrays anteriores, un conjunto único con los colores favoritos en la totalidad de la encuesta (ya que es muy probable que algunas respuestas se repitan en el muestreo)."
   ]
  },
  {
   "cell_type": "code",
   "execution_count": 9,
   "id": "b96b68f9-0e07-4645-9567-a73aed72c981",
   "metadata": {},
   "outputs": [
    {
     "name": "stdout",
     "output_type": "stream",
     "text": [
      "['amarillo' 'azul' 'blanco' 'celeste' 'magenta' 'marron' 'morado'\n",
      " 'naranja' 'negro' 'rojo' 'rosa' 'verde']\n"
     ]
    }
   ],
   "source": [
    "conjunto = np.concatenate((colores, colores2))\n",
    "conjunto2 = np.unique(conjunto)\n",
    "\n",
    "print(conjunto2)"
   ]
  },
  {
   "cell_type": "markdown",
   "id": "fd8d0c70-eb29-40f5-a709-5a57c8326c75",
   "metadata": {},
   "source": [
    "## Ejercicio 47\n",
    "1. Crea un array que contenga el grupo sanguíneo de 20 personas (fruto de otra encuesta). Al preguntar a otras 20 personas más, se ha obtenido otro array de 20 elementos."
   ]
  },
  {
   "cell_type": "code",
   "execution_count": 10,
   "id": "7f9f5e8c-6206-4baa-92ba-05d9cd67f193",
   "metadata": {},
   "outputs": [],
   "source": [
    "import numpy as np\n",
    "\n",
    "sangre1 = np.array(['O+', 'A-', 'B+', 'AB+', 'O-', 'A+', 'B-', 'O+', 'AB-', 'A+', 'B+', 'O-', 'A-', 'O+', 'AB+', 'B-', 'A+', 'O+', 'A-', 'B+'])\n",
    "sangre2 = np.array(['A+', 'O+', 'O-', 'AB+', 'A-', 'B+', 'AB-', 'O+', 'B-', 'O+', 'A-', 'AB+', 'B+', 'A+', 'O-', 'B-', 'A+', 'AB-', 'O+', 'O-'])"
   ]
  },
  {
   "cell_type": "markdown",
   "id": "46fc5120-3b82-46b5-be33-7ca85ed34efd",
   "metadata": {},
   "source": [
    "2. Elabora, a partir de los dos arrays anteriores, un conjunto formado por los grupos sanguíneos que han aparecido en ambas encuestas. Finalmente, muestra el conjunto por pantalla."
   ]
  },
  {
   "cell_type": "code",
   "execution_count": 14,
   "id": "f3ac2bab-01eb-4a95-8912-84d3624ea344",
   "metadata": {},
   "outputs": [
    {
     "name": "stdout",
     "output_type": "stream",
     "text": [
      "['A+' 'A-' 'AB+' 'AB-' 'B+' 'B-' 'O+' 'O-']\n"
     ]
    }
   ],
   "source": [
    "grupos = np.intersect1d(sangre1, sangre2)\n",
    "\n",
    "print(grupos)"
   ]
  },
  {
   "cell_type": "markdown",
   "id": "ff731ac9-f415-47cd-b14a-291447dbcc66",
   "metadata": {},
   "source": [
    "## Ejercicio 48\n",
    "1. Crea un array que contenga las aficiones/hobbies de 20 personas (fruto de otra encuesta). Al preguntar a otras 20 personas más, se ha obtenido otro array de 20 elementos."
   ]
  },
  {
   "cell_type": "code",
   "execution_count": 15,
   "id": "33ff3c59-9a99-4df5-b120-42bc4b329e67",
   "metadata": {},
   "outputs": [],
   "source": [
    "import numpy as np\n",
    "\n",
    "aficiones1 = np.array(['leer', 'viajar', 'deporte', 'cine', 'música', 'arte', 'teatro', 'naturaleza', 'fotografía', 'videojuegos',\n",
    "                                'pintura', 'senderismo', 'cocina', 'jardinería', 'escribir', 'música', 'bailar', 'escuchar música', 'ciclismo', 'pesca'])\n",
    "\n",
    "aficiones2 = np.array(['cocina', 'deporte', 'música', 'viajar', 'arte', 'senderismo', 'cine', 'videojuegos', 'bailar', 'teatro',\n",
    "                                'lectura', 'ciclismo', 'escuchar música', 'fotografía', 'escribir', 'pintura', 'pesca', 'jardinería', 'bailar', 'naturaleza'])"
   ]
  },
  {
   "cell_type": "markdown",
   "id": "a4a131e9-e141-4ea3-83c9-458602778fae",
   "metadata": {},
   "source": [
    "2. Elabora, a partir de los dos arrays anteriores, un conjunto formado por las aficiones de la primera encuesta que no están presentes en las respuestas de las 20 últimas personas"
   ]
  },
  {
   "cell_type": "code",
   "execution_count": 16,
   "id": "2df66c53-f1a4-4022-b4ad-5862cc47f5fe",
   "metadata": {},
   "outputs": [
    {
     "name": "stdout",
     "output_type": "stream",
     "text": [
      "['leer']\n"
     ]
    }
   ],
   "source": [
    "aficiones_unicas = np.setdiff1d(aficiones1, aficiones2)\n",
    "\n",
    "print(aficiones_unicas)"
   ]
  },
  {
   "cell_type": "markdown",
   "id": "5dee5f15-66d2-4a60-8832-e5c8b461f3a6",
   "metadata": {},
   "source": [
    "## Ejercicio 49\n",
    "1. Crea un array que contenga el lugar de nacimiento de 20 personas (fruto de una última encuesta). Al preguntar a otras 20 personas más, se ha obtenido otro array de 20 elementos."
   ]
  },
  {
   "cell_type": "code",
   "execution_count": 17,
   "id": "bce93b76-95a2-4a13-a4ae-e6f60672001f",
   "metadata": {},
   "outputs": [],
   "source": [
    "import numpy as np\n",
    "\n",
    "sitios1 = np.array(['Madrid', 'Barcelona', 'Sevilla', 'Valencia', 'Bilbao', 'Malaga', 'Zaragoza', 'Alicante', 'Granada', 'Oviedo',\n",
    "                              'Santander', 'Córdoba', 'Badajoz', 'Murcia', 'La Coruña', 'Salamanca', 'Valladolid', 'Pamplona', 'Logroño', 'Huesca'])\n",
    "\n",
    "sitios2 = np.array(['Madrid', 'Valencia', 'Alicante', 'Sevilla', 'Zaragoza', 'Granada', 'Murcia', 'Oviedo', 'Córdoba', 'Badajoz',\n",
    "                              'Bilbao', 'Huesca', 'Salamanca', 'La Coruña', 'Santiago', 'Gijón', 'Pamplona', 'Logroño', 'Valladolid', 'San Sebastián'])"
   ]
  },
  {
   "cell_type": "markdown",
   "id": "b0b60cd2-c792-40d1-9f04-e9b4bc4bebbd",
   "metadata": {},
   "source": [
    "2. Elabora, a partir de los dos arrays anteriores, un conjunto formado por las localidades de la primera encuesta que no están presentes en la segunda y las de la segunda que no están presentes en la primera"
   ]
  },
  {
   "cell_type": "code",
   "execution_count": 18,
   "id": "40e832f1-6bef-466e-a0d3-263739c9ea23",
   "metadata": {},
   "outputs": [
    {
     "name": "stdout",
     "output_type": "stream",
     "text": [
      "['Barcelona' 'Gijón' 'Malaga' 'San Sebastián' 'Santander' 'Santiago']\n",
      "['Barcelona' 'Gijón' 'Malaga' 'San Sebastián' 'Santander' 'Santiago']\n"
     ]
    }
   ],
   "source": [
    "\n",
    "diferentes = np.setxor1d(sitios1, sitios2)\n",
    "diferentes2 = np.setxor1d(sitios2, sitios1)\n",
    "\n",
    "print(diferentes)\n",
    "print(diferentes2)"
   ]
  },
  {
   "cell_type": "markdown",
   "id": "7b2264ca-f008-4cbc-b544-cf50a13b5ccf",
   "metadata": {},
   "source": [
    "## Ejercicio 50\n",
    "Calcula la hipotenusa de un triángulo rectángulo cuyo cateto base es igual a 7 y su cateto perpendicular es igual a 5. Finalmente, muestra el resultado por pantalla."
   ]
  },
  {
   "cell_type": "code",
   "execution_count": 19,
   "id": "d7792dc1-a3b5-4e7d-9893-38cf0df26e89",
   "metadata": {},
   "outputs": [
    {
     "name": "stdout",
     "output_type": "stream",
     "text": [
      "8.602325267042627\n"
     ]
    }
   ],
   "source": [
    "import numpy as np\n",
    "\n",
    "base = 7\n",
    "perpendicular = 5\n",
    "\n",
    "hipotenusa = np.sqrt(base ** 2 + perpendicular ** 2)\n",
    "\n",
    "print(hipotenusa)"
   ]
  },
  {
   "cell_type": "code",
   "execution_count": null,
   "id": "073b573a-67f8-45b2-8894-7e224484cc4e",
   "metadata": {},
   "outputs": [],
   "source": []
  }
 ],
 "metadata": {
  "kernelspec": {
   "display_name": "Python 3 (ipykernel)",
   "language": "python",
   "name": "python3"
  },
  "language_info": {
   "codemirror_mode": {
    "name": "ipython",
    "version": 3
   },
   "file_extension": ".py",
   "mimetype": "text/x-python",
   "name": "python",
   "nbconvert_exporter": "python",
   "pygments_lexer": "ipython3",
   "version": "3.13.2"
  }
 },
 "nbformat": 4,
 "nbformat_minor": 5
}
