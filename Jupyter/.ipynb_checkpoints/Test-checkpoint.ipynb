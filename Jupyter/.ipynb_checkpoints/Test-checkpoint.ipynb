{
 "cells": [
  {
   "cell_type": "markdown",
   "id": "dd4d8d96-3d3c-46ef-81f2-e52a304d019e",
   "metadata": {},
   "source": [
    "# Esto es un titulo de MarkDown\n",
    "## Esto es un subtitulo de MarkDown\n",
    "### Esto es un subsubtitulo de MarkDown\n",
    "\n",
    "Esto es un ejemplo de parrafo en MarkDown. Voy a crear una lista:\n",
    "- Elemento 1\n",
    "- Elemento 2\n",
    "- Elemento 3\n",
    "\n",
    "Esta es otra **linea** de texto en *MarkDown*\n",
    "\n",
    "![Imagen](https://encrypted-tbn0.gstatic.com/images?q=tbn:ANd9GcQ8Uocf1ECXac_MHIdh8ySMDvz1fyemiTEGuw&s)"
   ]
  },
  {
   "cell_type": "code",
   "execution_count": null,
   "id": "0873bd6d-e5f4-4136-92ea-58605b62bc94",
   "metadata": {},
   "outputs": [],
   "source": [
    "print(\"Este es el primer bloque\")\n",
    "y = 9\n",
    "\n",
    "print(\"Este es el segundo bloque\")\n",
    "x = 35\n",
    "print(\"La variable x es:\",x)\n",
    "print(\"La variable y es:\",y)"
   ]
  }
 ],
 "metadata": {
  "kernelspec": {
   "display_name": "Python 3 (ipykernel)",
   "language": "python",
   "name": "python3"
  },
  "language_info": {
   "codemirror_mode": {
    "name": "ipython",
    "version": 3
   },
   "file_extension": ".py",
   "mimetype": "text/x-python",
   "name": "python",
   "nbconvert_exporter": "python",
   "pygments_lexer": "ipython3",
   "version": "3.13.2"
  }
 },
 "nbformat": 4,
 "nbformat_minor": 5
}
