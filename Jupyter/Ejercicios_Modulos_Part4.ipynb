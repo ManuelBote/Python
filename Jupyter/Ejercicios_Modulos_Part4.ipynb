{
 "cells": [
  {
   "cell_type": "markdown",
   "id": "32d3850d-e590-4bf6-ada1-a31004116e95",
   "metadata": {},
   "source": [
    "# Ejercicios Modulos (31-40)"
   ]
  },
  {
   "cell_type": "markdown",
   "id": "c8d214aa-29d7-4a5b-8eec-78d714790a32",
   "metadata": {},
   "source": [
    "## Ejercicio 31\n",
    "1. Crea un array que contenga 10 números decimales aleatorios."
   ]
  },
  {
   "cell_type": "code",
   "execution_count": 3,
   "id": "bd7b27fe-8dd0-4f37-b037-1ec871f6d4aa",
   "metadata": {},
   "outputs": [
    {
     "name": "stdout",
     "output_type": "stream",
     "text": [
      "[0.4245066  0.65847371 0.44736681 0.75592298 0.61275163 0.75772509\n",
      " 0.66192574 0.26505761 0.79978632 0.46266535]\n"
     ]
    }
   ],
   "source": [
    "import numpy as np\n",
    "\n",
    "numeros = np.random.rand(10)\n",
    "print(numeros)"
   ]
  },
  {
   "cell_type": "markdown",
   "id": "74533b27-c352-4770-9683-f987898415ea",
   "metadata": {},
   "source": [
    "2. A partir de ese array, obtén otro array fruto de truncar la parte decimal de los elementos del primero"
   ]
  },
  {
   "cell_type": "code",
   "execution_count": 4,
   "id": "6b290b61-b612-4fb6-a15e-049b2ba6c5f5",
   "metadata": {},
   "outputs": [
    {
     "name": "stdout",
     "output_type": "stream",
     "text": [
      "[0. 0. 0. 0. 0. 0. 0. 0. 0. 0.]\n"
     ]
    }
   ],
   "source": [
    "truncados = np.trunc(numeros)\n",
    "\n",
    "print(truncados)"
   ]
  },
  {
   "cell_type": "markdown",
   "id": "0aaea32f-817a-4bf0-9b31-d1dc95636c3e",
   "metadata": {},
   "source": [
    "## Ejercicio 32\n",
    "1. Crea un array que contenga 10 números decimales aleatorios entre el 10 y el 20."
   ]
  },
  {
   "cell_type": "code",
   "execution_count": 8,
   "id": "0a70f6f7-847b-427a-8237-2be7bef3c57e",
   "metadata": {},
   "outputs": [
    {
     "name": "stdout",
     "output_type": "stream",
     "text": [
      "[16.20446296 13.63604032 17.62824844 12.74069448 13.9614204  10.80503126\n",
      " 18.18348777 14.26898155 14.27426853 17.32787107]\n"
     ]
    }
   ],
   "source": [
    "import numpy as np\n",
    "\n",
    "numeros = np.random.uniform(10, 20, 10)\n",
    "\n",
    "print(numeros)"
   ]
  },
  {
   "cell_type": "markdown",
   "id": "d68f3871-8cb2-451d-acb6-3f1957e7e43d",
   "metadata": {},
   "source": [
    "2.  A partir de ese array, obtén otro array redondeando a 2 decimales los elementos del primero"
   ]
  },
  {
   "cell_type": "code",
   "execution_count": 9,
   "id": "e675cf96-ea26-4fc0-9701-de28adb5d15b",
   "metadata": {},
   "outputs": [
    {
     "name": "stdout",
     "output_type": "stream",
     "text": [
      "[16.2  13.64 17.63 12.74 13.96 10.81 18.18 14.27 14.27 17.33]\n"
     ]
    }
   ],
   "source": [
    "redondeados = np.around(numeros, decimals=2)\n",
    "\n",
    "print(redondeados)"
   ]
  },
  {
   "cell_type": "markdown",
   "id": "6b1b903c-54ff-43a8-8398-2269eef43163",
   "metadata": {},
   "source": [
    "## Ejercicio 33\n",
    "1. Crea un array que contenga 10 números decimales aleatorios entre el 40 y el 50."
   ]
  },
  {
   "cell_type": "code",
   "execution_count": 10,
   "id": "e41a1f46-89d8-4a47-864a-b4dd7a5b5a31",
   "metadata": {},
   "outputs": [
    {
     "name": "stdout",
     "output_type": "stream",
     "text": [
      "[45.31578419 47.15841918 43.90958866 43.44974454 47.22752796 40.76936551\n",
      " 40.73451782 46.33868628 44.57898908 46.74056536]\n"
     ]
    }
   ],
   "source": [
    "import numpy as np\n",
    "\n",
    "numeros = np.random.uniform(40, 50, 10)\n",
    "\n",
    "print(numeros)"
   ]
  },
  {
   "cell_type": "markdown",
   "id": "31a36ec3-83a2-4e96-aee3-7b718d3cbe5d",
   "metadata": {},
   "source": [
    "2. A partir de ese aredondeados = np.ceil(numeros)rray, obtén otro array redondeando hacia el número entero superior los elementos del primero."
   ]
  },
  {
   "cell_type": "code",
   "execution_count": 12,
   "id": "3a1738b9-310d-4e0d-b75a-ceae018f491c",
   "metadata": {},
   "outputs": [
    {
     "name": "stdout",
     "output_type": "stream",
     "text": [
      "[46. 48. 44. 44. 48. 41. 41. 47. 45. 47.]\n"
     ]
    }
   ],
   "source": [
    "redondeados = np.ceil(numeros)\n",
    "print(redondeados)"
   ]
  },
  {
   "cell_type": "markdown",
   "id": "9b53e730-fa0e-4187-bf07-f5a1837fdc27",
   "metadata": {},
   "source": [
    "## Ejercicio 34\n",
    "1. Crea un array que contenga 10 números decimales aleatorios entre el 60 y el 80."
   ]
  },
  {
   "cell_type": "code",
   "execution_count": 13,
   "id": "2852c857-5b9d-4c91-aef4-47a87adb2d5f",
   "metadata": {},
   "outputs": [
    {
     "name": "stdout",
     "output_type": "stream",
     "text": [
      "[64.56572387 77.69114519 68.28353837 70.41705329 79.73383831 66.90742893\n",
      " 72.26806866 63.89178147 72.90654171 63.49921413]\n"
     ]
    }
   ],
   "source": [
    "import numpy as np\n",
    "\n",
    "numeros = np.random.uniform(60, 80, 10)\n",
    "\n",
    "print(numeros)"
   ]
  },
  {
   "cell_type": "markdown",
   "id": "56bccb93-234c-4901-addd-1c7d792a318d",
   "metadata": {},
   "source": [
    "2. A partir de ese array, obtén otro array redondeando hacia el número entero inferior los elementos del primero"
   ]
  },
  {
   "cell_type": "code",
   "execution_count": 15,
   "id": "1e6a1ae1-c990-457c-81f2-a083b4740818",
   "metadata": {},
   "outputs": [
    {
     "name": "stdout",
     "output_type": "stream",
     "text": [
      "[64. 77. 68. 70. 79. 66. 72. 63. 72. 63.]\n"
     ]
    }
   ],
   "source": [
    "redondeados = np.floor(numeros)\n",
    "\n",
    "print(redondeados)"
   ]
  },
  {
   "cell_type": "markdown",
   "id": "0aff44fb-3eef-4250-a651-029a9aa4a9fd",
   "metadata": {},
   "source": [
    "## Ejercicio 35\n",
    "1. Crea un array que contenga el sueldo de un empleado durante los 6 primeros meses de 2024."
   ]
  },
  {
   "cell_type": "code",
   "execution_count": null,
   "id": "83335f54-a806-45e9-9b67-a19c9fb01f9f",
   "metadata": {},
   "outputs": [],
   "source": [
    "import numpy as np\n",
    "\n",
    "sueldo1 = np.array([10000, 10500, 11000, 11500, 12000, 12500])"
   ]
  },
  {
   "cell_type": "markdown",
   "id": "1e95c73b-c193-4910-9cdf-58f2ca447faa",
   "metadata": {},
   "source": [
    "2. Crea otro array que contenga el sueldo de ese mismo empleado durante los últimos 6 meses de 2024."
   ]
  },
  {
   "cell_type": "code",
   "execution_count": 17,
   "id": "b510db5b-59d1-440a-970b-3c1d750ecbe2",
   "metadata": {},
   "outputs": [],
   "source": [
    "sueldo2 = np.array([12000, 12500, 13000, 13500, 14000, 14500])"
   ]
  },
  {
   "cell_type": "markdown",
   "id": "fd13251d-d401-4276-8368-7a21281f4f46",
   "metadata": {},
   "source": [
    "3. Finalmente, crea un array apartir de los anteriores que contenga el sueldo total ingresado en 2024 por el empleado."
   ]
  },
  {
   "cell_type": "code",
   "execution_count": 18,
   "id": "8c56912d-77b6-405e-bd43-0fe92e9ff1aa",
   "metadata": {},
   "outputs": [
    {
     "name": "stdout",
     "output_type": "stream",
     "text": [
      "[10000 10500 11000 11500 12000 12500 12000 12500 13000 13500 14000 14500]\n"
     ]
    }
   ],
   "source": [
    "sueldo_total = np.concatenate((sueldo1, sueldo2))\n",
    "\n",
    "print(sueldo_total)"
   ]
  },
  {
   "cell_type": "markdown",
   "id": "ca150471-7e16-4e28-af2d-81629d879bb7",
   "metadata": {},
   "source": [
    "## Ejercicio 36\n",
    "1. Crea un array que contenga la deuda en el casino de una persona ludópata para cada mes de 2024. import numpy as np\n",
    "\n",
    "deuda = np.array([10000, 10500, 11000, 11500, 12000, 12500, 13000, 13500, 14000, 14500, 15000, 15500])"
   ]
  },
  {
   "cell_type": "code",
   "execution_count": 1,
   "id": "fde00b2d-3e42-47f5-a4ac-802046c6b6d4",
   "metadata": {},
   "outputs": [],
   "source": [
    "import numpy as np\n",
    "\n",
    "deuda = np.array([10000, 10500, 11000, 11500, 12000, 12500, 13000, 13500, 14000, 14500, 15000, 15500])"
   ]
  },
  {
   "cell_type": "markdown",
   "id": "7dba144d-2c18-4f35-84f8-4e38b05c88a8",
   "metadata": {},
   "source": [
    "2. A partir del array anterior, elabora un array que contenga la deuda acumulada que presenta esta persona en cada mes del año 2024"
   ]
  },
  {
   "cell_type": "code",
   "execution_count": 2,
   "id": "3fccab8b-2a47-48c3-8a87-e4e4e7f3d2f2",
   "metadata": {},
   "outputs": [
    {
     "name": "stdout",
     "output_type": "stream",
     "text": [
      "[ 10000  20500  31500  43000  55000  67500  80500  94000 108000 122500\n",
      " 137500 153000]\n"
     ]
    }
   ],
   "source": [
    "deuda_acumulada = np.cumsum(deuda)\n",
    "\n",
    "print(deuda_acumulada)  "
   ]
  },
  {
   "cell_type": "markdown",
   "id": "34bd8533-4346-47ae-934f-3e66ed81679f",
   "metadata": {},
   "source": [
    "## Ejercicio 37\n",
    "1. Establece el código y las sentencias adecuadas para calcular la función matemática factorial de un número n a partir de un array de n elementos. Después de realizar las operaciones, muestra el resultado por pantalla.import numpy as np"
   ]
  },
  {
   "cell_type": "code",
   "execution_count": 3,
   "id": "f893608b-0307-4fe3-856f-861f785edb71",
   "metadata": {},
   "outputs": [
    {
     "name": "stdout",
     "output_type": "stream",
     "text": [
      "120\n"
     ]
    }
   ],
   "source": [
    "import numpy as np\n",
    "\n",
    "n = 5 \n",
    "array = np.arange(1, n + 1)\n",
    "\n",
    "factorial = np.prod(array)\n",
    "print(factorial)"
   ]
  },
  {
   "cell_type": "markdown",
   "id": "62dd5605-baff-42ab-bf06-63b77aae6b4f",
   "metadata": {},
   "source": [
    "## Ejercicio 38\n",
    "Establece el código y las sentencias adecuadas para calcular simultáneamente la función matemática factorial de 2 números n y m a partir de dos arrays de n y m elementos. Después de realizar las operaciones, muestra el resultado de ambas funciones en un mismo array."
   ]
  },
  {
   "cell_type": "code",
   "execution_count": 4,
   "id": "274136f7-1f5a-4f94-9a48-9c600000b028",
   "metadata": {},
   "outputs": [
    {
     "name": "stdout",
     "output_type": "stream",
     "text": [
      "[120 720]\n"
     ]
    }
   ],
   "source": [
    "import numpy as np\n",
    "\n",
    "n = 5\n",
    "m = 6\n",
    "\n",
    "array1 = np.arange(1, n + 1)\n",
    "array2 = np.arange(1, m + 1)\n",
    "\n",
    "factorial1 = np.prod(array1)\n",
    "factorial2 = np.prod(array2)\n",
    "\n",
    "resultado = np.array([factorial1, factorial2])\n",
    "\n",
    "print(resultado)"
   ]
  },
  {
   "cell_type": "markdown",
   "id": "5493315f-6c1c-4877-b653-e19046298f56",
   "metadata": {},
   "source": [
    "## Ejercicio 39\n",
    "1. Crea un array que contenga el número de habitantes de una determinada población para cada uno de los meses de 2024."
   ]
  },
  {
   "cell_type": "code",
   "execution_count": 6,
   "id": "cb6577c9-122e-4703-86b6-f2560e3285fb",
   "metadata": {},
   "outputs": [],
   "source": [
    "import numpy as np\n",
    "\n",
    "poblacion = np.array([10000, 9000, 11000, 11500, 12300, 12500, 12000, 13500, 14600, 14500, 15000, 14700])"
   ]
  },
  {
   "cell_type": "markdown",
   "id": "c99b59af-3cfb-40a4-bea5-935b9b210fdb",
   "metadata": {},
   "source": [
    "2. A partir del array anterior, elabora un nuevo array que contenga la diferencia de población entre un mes y el siguiente a lo largo de 2024"
   ]
  },
  {
   "cell_type": "code",
   "execution_count": 7,
   "id": "493c2eba-d4bc-445e-92ef-ec91a5ca9835",
   "metadata": {},
   "outputs": [
    {
     "name": "stdout",
     "output_type": "stream",
     "text": [
      "[-1000  2000   500   800   200  -500  1500  1100  -100   500  -300]\n"
     ]
    }
   ],
   "source": [
    "diferencia = np.diff(poblacion)\n",
    "\n",
    "print(diferencia)"
   ]
  },
  {
   "cell_type": "markdown",
   "id": "d6a4cedd-30bf-44a6-8f96-0d7f88ae5c79",
   "metadata": {},
   "source": [
    "## Ejercicio 40\n",
    "1. Crea un array que contenga el precio de un producto determinado en cada uno de los meses de 2024."
   ]
  },
  {
   "cell_type": "code",
   "execution_count": 8,
   "id": "0a02d34b-c628-47b1-a46d-a1b8beb944ac",
   "metadata": {},
   "outputs": [],
   "source": [
    "import numpy as np\n",
    "\n",
    "precio = np.array([12, 13, 12, 11, 14, 15, 16, 15, 15, 12, 14, 13])"
   ]
  },
  {
   "cell_type": "markdown",
   "id": "b1bef811-fa72-4be5-abbc-ca46c94a273a",
   "metadata": {},
   "source": [
    "2. A partir del array anterior, crea un array que contenga la variación de la diferencia del valor del precio del producto mencionado a lo largo del año 2024."
   ]
  },
  {
   "cell_type": "code",
   "execution_count": 9,
   "id": "3b8caefd-49f7-4e49-ac25-57ce5dd37e5a",
   "metadata": {},
   "outputs": [
    {
     "name": "stdout",
     "output_type": "stream",
     "text": [
      "[ 1 -1 -1  3  1  1 -1  0 -3  2 -1]\n"
     ]
    }
   ],
   "source": [
    "variacion = np.diff(precio)\n",
    "\n",
    "print(variacion)"
   ]
  }
 ],
 "metadata": {
  "kernelspec": {
   "display_name": "Python 3 (ipykernel)",
   "language": "python",
   "name": "python3"
  },
  "language_info": {
   "codemirror_mode": {
    "name": "ipython",
    "version": 3
   },
   "file_extension": ".py",
   "mimetype": "text/x-python",
   "name": "python",
   "nbconvert_exporter": "python",
   "pygments_lexer": "ipython3",
   "version": "3.13.2"
  }
 },
 "nbformat": 4,
 "nbformat_minor": 5
}
