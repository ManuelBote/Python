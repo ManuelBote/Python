{
 "cells": [
  {
   "cell_type": "markdown",
   "metadata": {},
   "source": [
    "# Conceptos estadisticos en Machine Learning\n",
    "\n",
    "## La Media\n",
    "\n",
    "La medio de un conjunto de datos consiste en el valor promedio de los mismos. Para calcularla media, simplemente tenemos que realizar la suma de los valores de todos los datos y dividirla entre la cantidad de datos del conjunto.\n",
    "\n",
    "La libreria NumPy presenta una funcion para determinar el valor promedio de una muestra de datos, la cueal recibe el nombre de `mean()`. En el siguiente enjemplo, vamos a calcular el valor medio correspondiente a las velocidades registradas de 13 coches."
   ]
  },
  {
   "cell_type": "code",
   "execution_count": 7,
   "metadata": {},
   "outputs": [
    {
     "name": "stdout",
     "output_type": "stream",
     "text": [
      "La media de la velocidad es: 89.76923076923077\n"
     ]
    }
   ],
   "source": [
    "import numpy as np\n",
    "\n",
    "speed = [99, 86, 87, 88, 111, 86, 103, 87, 94, 78, 77, 85, 86]\n",
    "\n",
    "x = np.mean(speed)\n",
    "\n",
    "print(\"La media de la velocidad es:\", x)"
   ]
  },
  {
   "cell_type": "markdown",
   "metadata": {},
   "source": [
    "## La Mediana\n",
    "\n",
    "La mediana de un conjunto de datos consiste en el valor que se encuentra en el centro de dicho conjunto. Para determinar la mediana, debemos ordenar los datos en orden ascendente o descendente y tomar el dato que se encuentra en el punto medio del conjunto.\n",
    "\n",
    "La libreria NumPy presenta una funcion para estimar la mediana de una muestra de datos, la cual es la funcion `median()`."
   ]
  },
  {
   "cell_type": "code",
   "execution_count": 8,
   "metadata": {},
   "outputs": [
    {
     "name": "stdout",
     "output_type": "stream",
     "text": [
      "La media de la velocidad es: 87.0\n"
     ]
    }
   ],
   "source": [
    "x = np.median(speed)\n",
    "\n",
    "print(\"La media de la velocidad es:\", x)"
   ]
  },
  {
   "cell_type": "markdown",
   "metadata": {},
   "source": [
    "Para el caso de que una muestra de datos sea de numero par, la mediana se calculara realizando el valor promedio de los dos datos posicionados en el mitad del conjunto."
   ]
  },
  {
   "cell_type": "code",
   "execution_count": 9,
   "metadata": {},
   "outputs": [
    {
     "name": "stdout",
     "output_type": "stream",
     "text": [
      "La mediana es: 86.5\n"
     ]
    }
   ],
   "source": [
    "speed = [99, 86, 87, 88, 86, 103, 87, 94, 78, 77, 85, 86]\n",
    "\n",
    "x = np.median(speed)\n",
    "\n",
    "print(\"La mediana es:\", x)"
   ]
  },
  {
   "cell_type": "markdown",
   "metadata": {},
   "source": [
    "## La Moda\n",
    "\n",
    "La moda de un conjunto de datos consiste en el valor que mas veces aparece en el conjunto.\n",
    "\n",
    "En la libreria SciPy, se puede calcular la moda de un conjunto mediante la funcion `mode()`."
   ]
  },
  {
   "cell_type": "code",
   "execution_count": 12,
   "metadata": {},
   "outputs": [
    {
     "name": "stdout",
     "output_type": "stream",
     "text": [
      "La moda es: ModeResult(mode=np.int64(86), count=np.int64(3))\n"
     ]
    }
   ],
   "source": [
    "from scipy import stats\n",
    "\n",
    "speed = [99, 86, 87, 88, 111, 86, 103, 87, 94, 78, 77, 85, 86]\n",
    "\n",
    "x = stats.mode(speed)\n",
    "\n",
    "print(\"La moda es:\", x)\n"
   ]
  },
  {
   "cell_type": "markdown",
   "metadata": {},
   "source": [
    "## La Desviacion Estandar\n",
    "\n",
    "La desviacion estandar de un conjunto de datos es un valor que cuantifica como es la dispersion de los datos respecto a la media del conjunto. Si la desviacion estandar es baja, eso significa que los datos de la muestra se acercan considerablemente al valor medio. Por el contrario, si la desviacion estandar es alta, significa que los datos de la muestra se alejan bastante del valor medio.\n",
    "\n",
    "La libreria NumPy presenta una funcion que se encarga de determinar la desviacion estandar de un conjunto de datos, la cual recibe el nombre de `std()`."
   ]
  },
  {
   "cell_type": "code",
   "execution_count": 17,
   "metadata": {},
   "outputs": [
    {
     "name": "stdout",
     "output_type": "stream",
     "text": [
      "La desviacion estandar es:  0.9035079029052513 km/h\n"
     ]
    }
   ],
   "source": [
    "speed = [86, 87, 88, 86, 87, 85, 86]\n",
    "\n",
    "x = np.std(speed)\n",
    "\n",
    "print(\"La desviacion estandar es: \", x, \"km/h\")"
   ]
  },
  {
   "cell_type": "code",
   "execution_count": 18,
   "metadata": {},
   "outputs": [
    {
     "name": "stdout",
     "output_type": "stream",
     "text": [
      "La desviacion estandar es: 37.84501153334721 km/h\n"
     ]
    }
   ],
   "source": [
    "speed = [32, 111, 138, 28, 59, 77, 97]\n",
    "\n",
    "x = np.std(speed)\n",
    "\n",
    "print(\"La desviacion estandar es:\", x, \"km/h\")"
   ]
  },
  {
   "cell_type": "markdown",
   "metadata": {},
   "source": [
    "## La Varianza\n",
    "\n",
    "La varianza de un conjunto de datos representa como de dispersos se encuentran dichos datos respecto al valor promedio de ellos.\n",
    "\n",
    "Para determinar la varianza de una muestra, debemos realizar el valor promedio de la diferencia de los valores con respecto al valor promedio. Por suerte, la libreria NumPy presenta una funcion llamada `var()`, que nos permite calcular la varianza de un conjunto de datos."
   ]
  },
  {
   "cell_type": "code",
   "execution_count": 22,
   "metadata": {},
   "outputs": [
    {
     "name": "stdout",
     "output_type": "stream",
     "text": [
      "La varianza es: 1432.2448979591834\n"
     ]
    }
   ],
   "source": [
    "speed = [32, 111, 138, 28, 59, 77, 97]\n",
    "\n",
    "x = np.var(speed)\n",
    "\n",
    "print(\"La varianza es:\", x)"
   ]
  },
  {
   "cell_type": "markdown",
   "metadata": {},
   "source": [
    "## Los Percentiles\n",
    "\n",
    "El percentil es un conjunto estadisticos para describir el valor que se encuntra por encima de un cierto porcentaje de una muestra de datos. La libreria NumPy presenta una funcion para poder estimar cualquier percentil de un conjunto de datos, la cual recibe el nombre de `percentile()`."
   ]
  },
  {
   "cell_type": "code",
   "execution_count": 24,
   "metadata": {},
   "outputs": [
    {
     "name": "stdout",
     "output_type": "stream",
     "text": [
      "El 75% de las personsa se encuentran por debajo de 43.0 años\n"
     ]
    }
   ],
   "source": [
    "ages = [5, 31, 43, 48, 50, 41, 7, 11, 15, 39, 80, 82, 32, 2, 8, 6, 25, 36, 27, 61, 31]\n",
    "\n",
    "x = np.percentile(ages, 75)\n",
    "\n",
    "print(\"El 75% de las personsa se encuentran por debajo de\", x, \"años\")"
   ]
  },
  {
   "cell_type": "code",
   "execution_count": 25,
   "metadata": {},
   "outputs": [
    {
     "name": "stdout",
     "output_type": "stream",
     "text": [
      "El 90% de las personsa se encuentran por debajo de 61.0 años\n"
     ]
    }
   ],
   "source": [
    "ages = [5, 31, 43, 48, 50, 41, 7, 11, 15, 39, 80, 82, 32, 2, 8, 6, 25, 36, 27, 61, 31]\n",
    "\n",
    "x = np.percentile(ages, 90)\n",
    "\n",
    "print(\"El 90% de las personsa se encuentran por debajo de\", x, \"años\")\n"
   ]
  },
  {
   "cell_type": "code",
   "execution_count": null,
   "metadata": {},
   "outputs": [],
   "source": []
  }
 ],
 "metadata": {
  "kernelspec": {
   "display_name": "Python 3",
   "language": "python",
   "name": "python3"
  },
  "language_info": {
   "codemirror_mode": {
    "name": "ipython",
    "version": 3
   },
   "file_extension": ".py",
   "mimetype": "text/x-python",
   "name": "python",
   "nbconvert_exporter": "python",
   "pygments_lexer": "ipython3",
   "version": "3.13.2"
  }
 },
 "nbformat": 4,
 "nbformat_minor": 2
}
