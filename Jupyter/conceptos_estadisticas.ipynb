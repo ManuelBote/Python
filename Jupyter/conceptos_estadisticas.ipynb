{
 "cells": [
  {
   "cell_type": "markdown",
   "metadata": {},
   "source": [
    "# Conceptos estadisticos en Machine Learning\n",
    "\n",
    "## La Media\n",
    "\n",
    "La medio de un conjunto de datos consiste en el valor promedio de los mismos. Para calcularla media, simplemente tenemos que realizar la suma de los valores de todos los datos y dividirla entre la cantidad de datos del conjunto.\n",
    "\n",
    "La libreria NumPy presenta una funcion para determinar el valor promedio de una muestra de datos, la cueal recibe el nombre de `mean()`. En el siguiente enjemplo, vamos a calcular el valor medio correspondiente a las velocidades registradas de 13 coches."
   ]
  },
  {
   "cell_type": "code",
   "execution_count": 15,
   "metadata": {},
   "outputs": [
    {
     "name": "stdout",
     "output_type": "stream",
     "text": [
      "La media de la velocidad es: 89.76923076923077\n"
     ]
    }
   ],
   "source": [
    "import numpy as np\n",
    "\n",
    "speed = [99, 86, 87, 88, 111, 86, 103, 87, 94, 78, 77, 85, 86]\n",
    "\n",
    "x = np.mean(speed)\n",
    "\n",
    "print(\"La media de la velocidad es:\", x)"
   ]
  },
  {
   "cell_type": "markdown",
   "metadata": {},
   "source": [
    "## La Mediana\n",
    "\n",
    "La mediana de un conjunto de datos consiste en el valor que se encuentra en el centro de dicho conjunto. Para determinar la mediana, debemos ordenar los datos en orden ascendente o descendente y tomar el dato que se encuentra en el punto medio del conjunto.\n",
    "\n",
    "La libreria NumPy presenta una funcion para estimar la mediana de una muestra de datos, la cual es la funcion `median()`."
   ]
  },
  {
   "cell_type": "code",
   "execution_count": 4,
   "metadata": {},
   "outputs": [
    {
     "name": "stdout",
     "output_type": "stream",
     "text": [
      "La media de la velocidad es: 87.0\n"
     ]
    }
   ],
   "source": [
    "x = np.median(speed)\n",
    "\n",
    "print(\"La media de la velocidad es:\", x)"
   ]
  },
  {
   "cell_type": "markdown",
   "metadata": {},
   "source": [
    "Para el caso de que una muestra de datos sea de numero par, la mediana se calculara realizando el valor promedio de los dos datos posicionados en el mitad del conjunto."
   ]
  },
  {
   "cell_type": "code",
   "execution_count": 5,
   "metadata": {},
   "outputs": [
    {
     "name": "stdout",
     "output_type": "stream",
     "text": [
      "La mediana es: 86.5\n"
     ]
    }
   ],
   "source": [
    "speed = [99, 86, 87, 88, 86, 103, 87, 94, 78, 77, 85, 86]\n",
    "\n",
    "x = np.median(speed)\n",
    "\n",
    "print(\"La mediana es:\", x)"
   ]
  },
  {
   "cell_type": "markdown",
   "metadata": {},
   "source": [
    "## La Moda\n",
    "\n",
    "La moda de un conjunto de datos consiste en el valor que mas veces aparece en el conjunto.\n",
    "\n",
    "En la libreria SciPy, se puede calcular la moda de un conjunto mediante la funcion `mode()`."
   ]
  },
  {
   "cell_type": "code",
   "execution_count": 6,
   "metadata": {},
   "outputs": [
    {
     "name": "stdout",
     "output_type": "stream",
     "text": [
      "La moda es: ModeResult(mode=np.int64(86), count=np.int64(3))\n"
     ]
    }
   ],
   "source": [
    "from scipy import stats\n",
    "\n",
    "speed = [99, 86, 87, 88, 111, 86, 103, 87, 94, 78, 77, 85, 86]\n",
    "\n",
    "x = stats.mode(speed)\n",
    "\n",
    "print(\"La moda es:\", x)\n"
   ]
  },
  {
   "cell_type": "markdown",
   "metadata": {},
   "source": [
    "## La Desviacion Estandar\n",
    "\n",
    "La desviacion estandar de un conjunto de datos es un valor que cuantifica como es la dispersion de los datos respecto a la media del conjunto. Si la desviacion estandar es baja, eso significa que los datos de la muestra se acercan considerablemente al valor medio. Por el contrario, si la desviacion estandar es alta, significa que los datos de la muestra se alejan bastante del valor medio.\n",
    "\n",
    "La libreria NumPy presenta una funcion que se encarga de determinar la desviacion estandar de un conjunto de datos, la cual recibe el nombre de `std()`."
   ]
  },
  {
   "cell_type": "code",
   "execution_count": 7,
   "metadata": {},
   "outputs": [
    {
     "name": "stdout",
     "output_type": "stream",
     "text": [
      "La desviacion estandar es:  0.9035079029052513 km/h\n"
     ]
    }
   ],
   "source": [
    "speed = [86, 87, 88, 86, 87, 85, 86]\n",
    "\n",
    "x = np.std(speed)\n",
    "\n",
    "print(\"La desviacion estandar es: \", x, \"km/h\")"
   ]
  },
  {
   "cell_type": "code",
   "execution_count": 8,
   "metadata": {},
   "outputs": [
    {
     "name": "stdout",
     "output_type": "stream",
     "text": [
      "La desviacion estandar es: 37.84501153334721 km/h\n"
     ]
    }
   ],
   "source": [
    "speed = [32, 111, 138, 28, 59, 77, 97]\n",
    "\n",
    "x = np.std(speed)\n",
    "\n",
    "print(\"La desviacion estandar es:\", x, \"km/h\")"
   ]
  },
  {
   "cell_type": "markdown",
   "metadata": {},
   "source": [
    "## La Varianza\n",
    "\n",
    "La varianza de un conjunto de datos representa como de dispersos se encuentran dichos datos respecto al valor promedio de ellos.\n",
    "\n",
    "Para determinar la varianza de una muestra, debemos realizar el valor promedio de la diferencia de los valores con respecto al valor promedio. Por suerte, la libreria NumPy presenta una funcion llamada `var()`, que nos permite calcular la varianza de un conjunto de datos."
   ]
  },
  {
   "cell_type": "code",
   "execution_count": 9,
   "metadata": {},
   "outputs": [
    {
     "name": "stdout",
     "output_type": "stream",
     "text": [
      "La varianza es: 1432.2448979591834\n"
     ]
    }
   ],
   "source": [
    "speed = [32, 111, 138, 28, 59, 77, 97]\n",
    "\n",
    "x = np.var(speed)\n",
    "\n",
    "print(\"La varianza es:\", x)"
   ]
  },
  {
   "cell_type": "markdown",
   "metadata": {},
   "source": [
    "## Los Percentiles\n",
    "\n",
    "El percentil es un conjunto estadisticos para describir el valor que se encuntra por encima de un cierto porcentaje de una muestra de datos. La libreria NumPy presenta una funcion para poder estimar cualquier percentil de un conjunto de datos, la cual recibe el nombre de `percentile()`."
   ]
  },
  {
   "cell_type": "code",
   "execution_count": 10,
   "metadata": {},
   "outputs": [
    {
     "name": "stdout",
     "output_type": "stream",
     "text": [
      "El 75% de las personsa se encuentran por debajo de 43.0 años\n"
     ]
    }
   ],
   "source": [
    "ages = [5, 31, 43, 48, 50, 41, 7, 11, 15, 39, 80, 82, 32, 2, 8, 6, 25, 36, 27, 61, 31]\n",
    "\n",
    "x = np.percentile(ages, 75)\n",
    "\n",
    "print(\"El 75% de las personsa se encuentran por debajo de\", x, \"años\")"
   ]
  },
  {
   "cell_type": "code",
   "execution_count": 11,
   "metadata": {},
   "outputs": [
    {
     "name": "stdout",
     "output_type": "stream",
     "text": [
      "El 90% de las personsa se encuentran por debajo de 61.0 años\n"
     ]
    }
   ],
   "source": [
    "ages = [5, 31, 43, 48, 50, 41, 7, 11, 15, 39, 80, 82, 32, 2, 8, 6, 25, 36, 27, 61, 31]\n",
    "\n",
    "x = np.percentile(ages, 90)\n",
    "\n",
    "print(\"El 90% de las personsa se encuentran por debajo de\", x, \"años\")\n"
   ]
  },
  {
   "cell_type": "markdown",
   "metadata": {},
   "source": [
    "## La Distribuccion de Datos\n",
    "\n",
    "Para poder generar grandes distribuciones de datos de manera rapida y senculla, la libreria NumPy consta de la funcion `uniform()`"
   ]
  },
  {
   "cell_type": "code",
   "execution_count": 17,
   "metadata": {},
   "outputs": [
    {
     "name": "stdout",
     "output_type": "stream",
     "text": [
      "[1.70333253e+00 4.61286206e+00 2.09915302e+00 1.66310452e+00\n",
      " 1.01092494e+00 2.11696489e+00 3.64890515e+00 1.84482049e+00\n",
      " 4.46352012e+00 4.36028754e+00 2.87881326e+00 4.07139962e+00\n",
      " 3.62111965e+00 3.71034492e+00 4.28937893e+00 4.70929689e+00\n",
      " 3.36300682e+00 3.28715164e+00 2.91527065e+00 2.87479460e+00\n",
      " 1.02317638e+00 4.52691539e+00 8.15018955e-02 2.17321667e+00\n",
      " 3.16360729e+00 3.87800760e+00 3.47790791e+00 2.88332926e+00\n",
      " 5.18797035e-01 3.90040054e+00 4.92482365e+00 3.86776425e+00\n",
      " 3.84393329e+00 1.63754848e+00 1.49429534e+00 4.41369539e-01\n",
      " 2.82680268e+00 1.54646633e+00 2.13772059e+00 4.74112179e+00\n",
      " 2.51474846e+00 2.03804757e+00 3.21982607e-01 3.58403046e+00\n",
      " 4.27398851e+00 3.94986008e+00 3.05110576e+00 4.93228437e+00\n",
      " 3.07968869e+00 4.93201053e+00 4.17705302e+00 3.43198548e+00\n",
      " 7.48750107e-02 7.02726381e-01 2.36078280e+00 6.78952131e-01\n",
      " 8.51936767e-01 4.45468153e+00 2.59637488e+00 4.37226154e+00\n",
      " 1.68126866e+00 4.22275560e+00 4.18367672e+00 6.41990449e-01\n",
      " 1.63701357e+00 3.78972619e+00 4.24175758e+00 3.69245162e+00\n",
      " 3.62040915e+00 2.24269346e+00 5.06540608e-01 2.12478414e+00\n",
      " 1.71585772e+00 4.00712685e+00 1.25925236e+00 3.78067383e+00\n",
      " 2.28861770e+00 2.56753023e+00 2.85689702e+00 4.98805552e+00\n",
      " 3.69551315e+00 1.27740793e+00 2.25744057e+00 1.00509333e+00\n",
      " 3.94198292e+00 6.26133320e-01 4.11007690e+00 2.74285880e+00\n",
      " 2.50765142e+00 4.55651476e+00 8.48223027e-01 2.25598677e+00\n",
      " 1.98465686e+00 2.19775975e+00 4.00024881e+00 3.58766827e+00\n",
      " 2.15518342e+00 1.31983844e-01 4.83735540e+00 3.57732496e+00\n",
      " 3.98645581e+00 4.38641449e-02 2.90257402e-01 3.38194011e+00\n",
      " 1.98163969e+00 4.83801243e+00 2.48617106e-03 4.21593091e+00\n",
      " 1.62987048e+00 5.65828832e-01 4.93119952e+00 2.19110111e+00\n",
      " 6.50543156e-01 1.48129983e+00 6.34544358e-01 2.75903622e+00\n",
      " 8.84535498e-01 4.47701895e+00 4.43593053e+00 2.67262191e+00\n",
      " 2.52060570e+00 4.55075282e+00 1.07971846e+00 1.55207596e+00\n",
      " 4.46096633e+00 3.41675465e-01 2.23901328e+00 8.83213544e-01\n",
      " 3.96271454e+00 3.46905139e+00 2.71038546e+00 2.17472400e+00\n",
      " 2.31959239e+00 3.70286348e+00 4.07441995e+00 4.14042593e+00\n",
      " 4.20139573e+00 4.92209796e+00 7.01757357e-01 1.89987110e+00\n",
      " 1.03162415e+00 1.37808488e+00 2.89314607e+00 2.71336877e+00\n",
      " 3.75086988e+00 1.33638503e-01 4.95626708e+00 1.65409121e+00\n",
      " 1.87700762e+00 9.85602724e-01 9.33857512e-01 3.30641717e+00\n",
      " 2.43930398e-01 2.89942157e+00 2.89221077e+00 3.29286869e+00\n",
      " 7.77841507e-01 5.26498379e-01 5.22534484e-02 2.72295651e-01\n",
      " 2.90667970e+00 1.19897539e+00 2.32241733e+00 3.20007401e+00\n",
      " 1.01243910e+00 1.49186394e-01 4.10087750e-01 2.18604561e+00\n",
      " 3.08319286e-02 8.77502793e-01 4.84763066e+00 1.53236125e-01\n",
      " 1.87429320e+00 4.96316519e+00 1.93876752e+00 2.56104425e+00\n",
      " 2.77114629e+00 8.79479765e-01 2.45956605e+00 4.05569007e+00\n",
      " 4.78792096e-01 2.98946412e+00 2.70483326e+00 3.63309105e+00\n",
      " 4.58133618e+00 3.34193224e+00 4.58547023e+00 4.73075113e+00\n",
      " 4.00005988e+00 3.63018473e+00 3.51026395e+00 1.38316417e+00\n",
      " 1.11874275e+00 1.71388186e+00 2.90054613e+00 2.93198868e+00\n",
      " 3.78288415e+00 2.58394659e+00 4.95451430e+00 2.25707695e+00\n",
      " 3.94199186e+00 2.06475494e+00 3.94255423e+00 4.65483624e+00\n",
      " 1.72385731e+00 3.15315239e+00 2.40102320e+00 2.42193055e+00\n",
      " 1.21262113e+00 2.66947082e+00 4.04679512e+00 2.16507043e+00\n",
      " 1.03245299e+00 4.84072389e+00 4.71423479e+00 1.10164499e+00\n",
      " 3.83880418e+00 1.54719949e-01 3.94544323e-01 3.13290617e+00\n",
      " 4.25048906e+00 2.59652122e+00 2.11428041e+00 4.92417469e+00\n",
      " 5.37436495e-01 4.45521886e+00 4.51830885e-02 2.66801989e+00\n",
      " 3.51727435e+00 2.29836905e-01 4.06521875e+00 3.99628204e+00\n",
      " 4.64623497e+00 1.79222090e+00 6.50437791e-01 3.42268237e+00\n",
      " 1.37520430e+00 2.52388485e-01 6.58351891e-01 2.02146250e-01\n",
      " 4.65171258e+00 4.93488970e+00 4.94695438e+00 3.57494958e+00\n",
      " 4.29540986e+00 4.82480280e+00 2.44018476e+00 2.77522650e+00\n",
      " 4.74723500e+00 3.45058496e+00]\n"
     ]
    }
   ],
   "source": [
    "x = np.random.uniform(0.0, 5.0, 250)\n",
    "\n",
    "print(x)"
   ]
  },
  {
   "cell_type": "code",
   "execution_count": 20,
   "metadata": {},
   "outputs": [
    {
     "data": {
      "image/png": "[encoded data removed]",
      "text/plain": [
       "<Figure size 640x480 with 1 Axes>"
      ]
     },
     "metadata": {},
     "output_type": "display_data"
    }
   ],
   "source": [
    "import matplotlib.pyplot as plt\n",
    "\n",
    "plt.hist(x, 25)\n",
    "\n",
    "plt.show()"
   ]
  },
  {
   "cell_type": "code",
   "execution_count": 23,
   "metadata": {},
   "outputs": [
    {
     "data": {
      "image/png": "[encoded data removed]",
      "text/plain": [
       "<Figure size 640x480 with 1 Axes>"
      ]
     },
     "metadata": {},
     "output_type": "display_data"
    }
   ],
   "source": [
    "x = np.random.uniform(0.0, 5.0, 100000)\n",
    "\n",
    "plt.hist(x, 10000)\n",
    "plt.show()"
   ]
  },
  {
   "cell_type": "code",
   "execution_count": 25,
   "metadata": {},
   "outputs": [
    {
     "data": {
      "image/png": "[encoded data removed]",
      "text/plain": [
       "<Figure size 640x480 with 1 Axes>"
      ]
     },
     "metadata": {},
     "output_type": "display_data"
    }
   ],
   "source": [
    "x = np.random.normal(5.0, 1.0, 100000)\n",
    "\n",
    "plt.hist(x, 100)\n",
    "plt.show()"
   ]
  },
  {
   "cell_type": "code",
   "execution_count": null,
   "metadata": {},
   "outputs": [],
   "source": []
  }
 ],
 "metadata": {
  "kernelspec": {
   "display_name": "Python 3",
   "language": "python",
   "name": "python3"
  },
  "language_info": {
   "codemirror_mode": {
    "name": "ipython",
    "version": 3
   },
   "file_extension": ".py",
   "mimetype": "text/x-python",
   "name": "python",
   "nbconvert_exporter": "python",
   "pygments_lexer": "ipython3",
   "version": "3.13.2"
  }
 },
 "nbformat": 4,
 "nbformat_minor": 2
}
