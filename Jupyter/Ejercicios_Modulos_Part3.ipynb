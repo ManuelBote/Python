{
 "cells": [
  {
   "cell_type": "markdown",
   "id": "2dcba7f3-68e5-46e0-8114-9eccb2d86a24",
   "metadata": {},
   "source": [
    "# Ejercicios Modulos (21-30)"
   ]
  },
  {
   "cell_type": "markdown",
   "id": "5aad30b9-2361-4e59-a52e-bc5da6f664b5",
   "metadata": {},
   "source": [
    "## Ejercicio 21\n",
    "1. Crea un array de 1 dimensión que contenga 15 edades de 15 personas diferentes."
   ]
  },
  {
   "cell_type": "code",
   "execution_count": 1,
   "id": "3fdc1af9-39e4-44f0-9b66-413259e70de0",
   "metadata": {},
   "outputs": [
    {
     "name": "stdout",
     "output_type": "stream",
     "text": [
      "[25 24 23 22 21 20 19 18 17 16 15 14 13 12 11 10]\n"
     ]
    }
   ],
   "source": [
    "import numpy as np\n",
    "\n",
    "edades = np.array([25, 24, 23, 22, 21, 20, 19, 18, 17, 16, 15, 14, 13, 12, 11, 10])\n",
    "\n",
    "print(edades)"
   ]
  },
  {
   "cell_type": "markdown",
   "id": "6d49fe9f-ac43-4823-8b43-c99869fe0824",
   "metadata": {},
   "source": [
    "2. Seguidamente, ordena el array anterior de personas de menor edad a personas de mayor edad y muéstralo por pantalla."
   ]
  },
  {
   "cell_type": "code",
   "execution_count": 2,
   "id": "8701f2d5-2288-48fd-99a3-c8ec2459cfcd",
   "metadata": {},
   "outputs": [
    {
     "name": "stdout",
     "output_type": "stream",
     "text": [
      "[10 11 12 13 14 15 16 17 18 19 20 21 22 23 24 25]\n"
     ]
    }
   ],
   "source": [
    "edades.sort()\n",
    "print(edades)"
   ]
  },
  {
   "cell_type": "markdown",
   "id": "5a7183ee-b0d7-49a8-96b5-d72b5b312863",
   "metadata": {},
   "source": [
    "3. Crea otro array de 1 dimensión que contenga 15 nombres de 15 personas diferentes."
   ]
  },
  {
   "cell_type": "code",
   "execution_count": 3,
   "id": "5b4ce482-f947-4332-a7ac-29bdf5d62fa0",
   "metadata": {},
   "outputs": [
    {
     "name": "stdout",
     "output_type": "stream",
     "text": [
      "['Juan' 'Pedro' 'Carlos' 'Luis' 'Fernando' 'Marcos' 'Diego' 'Daniel'\n",
      " 'Jose' 'Juan' 'Pedro' 'Carlos' 'Luis' 'Fernando' 'Marcos' 'Diego']\n"
     ]
    }
   ],
   "source": [
    "nombres = np.array(['Juan', 'Pedro', 'Carlos', 'Luis', 'Fernando', 'Marcos', 'Diego', 'Daniel', 'Jose', 'Juan', 'Pedro', 'Carlos', 'Luis', 'Fernando', 'Marcos', 'Diego'])\n",
    "\n",
    "print(nombres)"
   ]
  },
  {
   "cell_type": "markdown",
   "id": "130e2bd6-8a56-47cb-856b-6c63c849115a",
   "metadata": {},
   "source": [
    "4. A continuación, ordena el array anterior de manera que los nombres aparezcan alfabéticamente ordenados (mostrándolo también por pantalla)."
   ]
  },
  {
   "cell_type": "code",
   "execution_count": 4,
   "id": "deba8925-9ee0-4640-88d9-4e4061d85cb4",
   "metadata": {},
   "outputs": [
    {
     "name": "stdout",
     "output_type": "stream",
     "text": [
      "['Carlos' 'Carlos' 'Daniel' 'Diego' 'Diego' 'Fernando' 'Fernando' 'Jose'\n",
      " 'Juan' 'Juan' 'Luis' 'Luis' 'Marcos' 'Marcos' 'Pedro' 'Pedro']\n"
     ]
    }
   ],
   "source": [
    "nombres.sort()\n",
    "print(nombres)"
   ]
  },
  {
   "cell_type": "markdown",
   "id": "0cd391d1-abfe-48d4-aae1-58208340922a",
   "metadata": {},
   "source": [
    "## Ejercicio 22 \n",
    "1.  Crea un array de 2 dimensiones que contenga 5 edades de 5 personas en 2 poblaciones diferentes."
   ]
  },
  {
   "cell_type": "code",
   "execution_count": 5,
   "id": "2b09a722-0852-4994-ab29-a582d72d35e9",
   "metadata": {},
   "outputs": [
    {
     "name": "stdout",
     "output_type": "stream",
     "text": [
      "[[25 24 23 22 21]\n",
      " [15 14 13 12 11]]\n"
     ]
    }
   ],
   "source": [
    "import numpy as np\n",
    "\n",
    "edades = np.array([[25, 24, 23, 22, 21], [15, 14, 13, 12, 11]])\n",
    "\n",
    "print(edades)"
   ]
  },
  {
   "cell_type": "markdown",
   "id": "658c88d3-756d-437a-97f6-5d102f927444",
   "metadata": {},
   "source": [
    "2. Seguidamente, ordena respecto a cada población las edades de las personas de menor a mayor y muéstralo por pantalla."
   ]
  },
  {
   "cell_type": "code",
   "execution_count": 6,
   "id": "7fa73018-13bb-43f9-b32f-f1afbc9a527b",
   "metadata": {},
   "outputs": [
    {
     "name": "stdout",
     "output_type": "stream",
     "text": [
      "[[21 22 23 24 25]\n",
      " [11 12 13 14 15]]\n"
     ]
    }
   ],
   "source": [
    "edades[0].sort()\n",
    "edades[1].sort()\n",
    "print(edades)"
   ]
  },
  {
   "cell_type": "markdown",
   "id": "8d9fb18c-c578-4823-ab7e-9db806a2da31",
   "metadata": {},
   "source": [
    "3. Crea otro array de 2 dimensiones que contenga 5 nombres de 5 personas en 2 poblaciones diferentes."
   ]
  },
  {
   "cell_type": "code",
   "execution_count": 7,
   "id": "2f6075ae-5ec8-4671-b9eb-e95b76ebf8f1",
   "metadata": {},
   "outputs": [
    {
     "name": "stdout",
     "output_type": "stream",
     "text": [
      "[['Juan' 'Pedro' 'Carlos' 'Luis' 'Fernando']\n",
      " ['Marcos' 'Diego' 'Daniel' 'Jose' 'Juan']]\n"
     ]
    }
   ],
   "source": [
    "nombres = np.array([['Juan', 'Pedro', 'Carlos', 'Luis', 'Fernando'], ['Marcos', 'Diego', 'Daniel', 'Jose', 'Juan']])\n",
    "\n",
    "print(nombres)"
   ]
  },
  {
   "cell_type": "markdown",
   "id": "543c6e71-aa67-4369-9c75-97cda21d2cbb",
   "metadata": {},
   "source": [
    "4. A continuación, ordena alfabéticamente respecto a cada población los nombres de las personas"
   ]
  },
  {
   "cell_type": "code",
   "execution_count": 8,
   "id": "586bde47-9023-4cc4-8bfe-a3ef439d9ab9",
   "metadata": {},
   "outputs": [
    {
     "name": "stdout",
     "output_type": "stream",
     "text": [
      "[['Carlos' 'Fernando' 'Juan' 'Luis' 'Pedro']\n",
      " ['Daniel' 'Diego' 'Jose' 'Juan' 'Marcos']]\n"
     ]
    }
   ],
   "source": [
    "nombres[0].sort()\n",
    "nombres[1].sort()\n",
    "print(nombres)"
   ]
  },
  {
   "cell_type": "markdown",
   "id": "f651e869-5b87-4271-9456-c0947728bf68",
   "metadata": {},
   "source": [
    "## Ejercicio 23\n",
    "1. Crea un array de 1 dimensión que contenga los 10 primeros números múltiplos de 3."
   ]
  },
  {
   "cell_type": "code",
   "execution_count": 10,
   "id": "0f34d283-ffe7-4ce4-a3c9-703cc2a87c04",
   "metadata": {},
   "outputs": [
    {
     "name": "stdout",
     "output_type": "stream",
     "text": [
      "[ 3  6  9 12 15 18 21 24 27 30]\n"
     ]
    }
   ],
   "source": [
    "import numpy as np\n",
    "\n",
    "num = np.arange(3, 31, 3)\n",
    "\n",
    "print(num)"
   ]
  },
  {
   "cell_type": "markdown",
   "id": "cff7cb7c-ea54-429d-9b2a-60490d5b31f6",
   "metadata": {},
   "source": [
    "2. Seguidamente, aplica un filtro con un array booleano de manera que obtengas un array con los números 3, 15 y 30, mostrándolo por pantalla."
   ]
  },
  {
   "cell_type": "code",
   "execution_count": 11,
   "id": "e7ee061d-9e8b-4876-a4db-aa5c805c02a1",
   "metadata": {},
   "outputs": [
    {
     "name": "stdout",
     "output_type": "stream",
     "text": [
      "[ 3 15 30]\n"
     ]
    }
   ],
   "source": [
    "filtro = (num == 3) | (num == 15) | (num == 30)\n",
    "print(num[filtro])"
   ]
  },
  {
   "cell_type": "markdown",
   "id": "deecc898-87e3-49cd-915a-5e35b319d608",
   "metadata": {},
   "source": [
    "3. Crea otro array de 1 dimensión que contenga los 50 primeros números."
   ]
  },
  {
   "cell_type": "code",
   "execution_count": 12,
   "id": "b7f14a65-befc-4afa-a576-958900b1a3a1",
   "metadata": {},
   "outputs": [
    {
     "name": "stdout",
     "output_type": "stream",
     "text": [
      "[ 0  1  2  3  4  5  6  7  8  9 10 11 12 13 14 15 16 17 18 19 20 21 22 23\n",
      " 24 25 26 27 28 29 30 31 32 33 34 35 36 37 38 39 40 41 42 43 44 45 46 47\n",
      " 48 49 50]\n"
     ]
    }
   ],
   "source": [
    "num50 = np.arange(51)\n",
    "\n",
    "print(num50)"
   ]
  },
  {
   "cell_type": "markdown",
   "id": "90a1c8ba-2563-4b08-a725-2d7cbe97c85e",
   "metadata": {},
   "source": [
    "4. A continuación, aplica un filtro de modo que obtengas un array formado por los números múltiplos de 6 entre el 0 y el 50"
   ]
  },
  {
   "cell_type": "code",
   "execution_count": 13,
   "id": "86e3ac41-4af2-4466-9ab2-6411da51e007",
   "metadata": {},
   "outputs": [
    {
     "name": "stdout",
     "output_type": "stream",
     "text": [
      "[ 0  6 12 18 24 30 36 42 48]\n"
     ]
    }
   ],
   "source": [
    "filtro2 = num50 % 6 == 0\n",
    "print(num50[filtro2])"
   ]
  },
  {
   "cell_type": "markdown",
   "id": "13ce90b6-2b68-4fd1-8d30-955154d50135",
   "metadata": {},
   "source": [
    "## Ejercicio 24\n",
    "1. Crea un array de 1 dimensión que contenga los 40 primeros números pares."
   ]
  },
  {
   "cell_type": "code",
   "execution_count": 15,
   "id": "9644cf90-d1eb-4e22-a380-048c16e9d315",
   "metadata": {},
   "outputs": [
    {
     "name": "stdout",
     "output_type": "stream",
     "text": [
      "[ 0  2  4  6  8 10 12 14 16 18 20 22 24 26 28 30 32 34 36 38]\n"
     ]
    }
   ],
   "source": [
    "import numpy as np\n",
    "\n",
    "num = np.arange(0, 40, 2)\n",
    "\n",
    "print(num)"
   ]
  },
  {
   "cell_type": "markdown",
   "id": "8007eadb-589b-4b97-a9ef-320fbbc80961",
   "metadata": {},
   "source": [
    "2. Seguidamente aplica un filtro al array anterior de modo que obtengas un array formado por los números mayores de 20 pertenecientes al array anterior. El filtro se debe de construir rellenando un array booleano mediante estructuras condicionales e iteradores."
   ]
  },
  {
   "cell_type": "code",
   "execution_count": 16,
   "id": "f4d2a684-0fd2-4b75-ae8a-2f4fcedd4748",
   "metadata": {},
   "outputs": [
    {
     "name": "stdout",
     "output_type": "stream",
     "text": [
      "[22 24 26 28 30 32 34 36 38]\n"
     ]
    }
   ],
   "source": [
    "filtro = (num > 20)\n",
    "array2 = num[filtro]\n",
    "print(array2) "
   ]
  },
  {
   "cell_type": "markdown",
   "id": "4ee333bb-ee71-4d59-acdd-88afaafb5256",
   "metadata": {},
   "source": [
    "## Ejercicio 25\n",
    "1. Crea un array que contenga los ingresos obtenidos por un empleado en la primera quincena de todos los meses de 2024."
   ]
  },
  {
   "cell_type": "code",
   "execution_count": 17,
   "id": "36ef3137-1266-4417-8868-29c707bc87a2",
   "metadata": {},
   "outputs": [],
   "source": [
    "import numpy as np\n",
    "quincena1 = np.array([560, 560, 580, 540, 540, 550, 570, 590, 600, 610, 620, 630])"
   ]
  },
  {
   "cell_type": "markdown",
   "id": "10ee7464-6060-4f22-b084-98bae08b0b96",
   "metadata": {},
   "source": [
    "2. Crea otro array que contenga los ingresos obtenidos por un empleado en la segunda quincena de todos los meses de 2024."
   ]
  },
  {
   "cell_type": "code",
   "execution_count": 19,
   "id": "67a75bcc-18f8-4789-8a23-1706ba8e282e",
   "metadata": {},
   "outputs": [],
   "source": [
    "quincena2 = np.array([550, 560, 560, 560, 540, 570, 520, 530, 540, 660, 550, 700])"
   ]
  },
  {
   "cell_type": "markdown",
   "id": "126a8249-9bd5-4b29-b447-59a4f2da0b95",
   "metadata": {},
   "source": [
    "3. Finalmente, suma los elementos de ambos arrays y elabora un array que contenga los ingresos totales del empleado durante 2024."
   ]
  },
  {
   "cell_type": "code",
   "execution_count": 20,
   "id": "8528e4b2-ac5e-47c6-9b4c-9bbe4a00abe8",
   "metadata": {},
   "outputs": [
    {
     "name": "stdout",
     "output_type": "stream",
     "text": [
      "[1110 1120 1140 1100 1080 1120 1090 1120 1140 1270 1170 1330]\n"
     ]
    }
   ],
   "source": [
    "total = quincena1 + quincena2\n",
    "print(total)"
   ]
  },
  {
   "cell_type": "markdown",
   "id": "0ac4a86c-e7ad-42f9-8c48-5f5bbc52b3b7",
   "metadata": {},
   "source": [
    "## Ejercicio 26\n",
    "1. Crea un array que contenga el número de clases de una asignatura en cada mes de 2024."
   ]
  },
  {
   "cell_type": "code",
   "execution_count": 21,
   "id": "9acea50d-dfc2-4b9a-a26e-a30d831005a7",
   "metadata": {},
   "outputs": [],
   "source": [
    "import numpy as np\n",
    "clases = np.array([12, 10, 13, 14, 15, 12, 9, 11, 10, 9, 8, 7])"
   ]
  },
  {
   "cell_type": "markdown",
   "id": "f2e6f280-c93c-48b5-ade9-ad332a516d39",
   "metadata": {},
   "source": [
    "2. Crea otro array que contenga el número de faltas de asistencia de un alumno en esa misma asignatura en cada mes de 2024."
   ]
  },
  {
   "cell_type": "code",
   "execution_count": 23,
   "id": "bcd25ad0-d65e-4dc3-a5b8-f022cef0cbdf",
   "metadata": {},
   "outputs": [],
   "source": [
    "faltas = np.array([4, 3, 1, 2, 3, 0, 0, 1, 2, 3, 4, 5])"
   ]
  },
  {
   "cell_type": "markdown",
   "id": "0708e719-1c27-4209-92ad-d3012304bdb0",
   "metadata": {},
   "source": [
    "3. Finalmente, resta los elementos de ambos arrays y elabora un array que contenga el número de días que ha asistido el alumno a la asignatura durante 2024"
   ]
  },
  {
   "cell_type": "code",
   "execution_count": 24,
   "id": "54e77e0c-ba2a-4e05-938e-fb62c154d5f2",
   "metadata": {},
   "outputs": [
    {
     "name": "stdout",
     "output_type": "stream",
     "text": [
      "[ 8  7 12 12 12 12  9 10  8  6  4  2]\n"
     ]
    }
   ],
   "source": [
    "resta = clases - faltas\n",
    "print(resta)"
   ]
  },
  {
   "cell_type": "markdown",
   "id": "a9af2013-7759-47eb-8deb-56524202af54",
   "metadata": {},
   "source": [
    "## Ejercicio 27\n",
    "1. Crea un array que contenga el precio que toma un cierto producto a lo largo de los meses de 2024."
   ]
  },
  {
   "cell_type": "code",
   "execution_count": 25,
   "id": "5017573e-d46d-4ff1-8b40-cef37dd16f35",
   "metadata": {},
   "outputs": [],
   "source": [
    "import numpy as np\n",
    "\n",
    "precio = np.array([10, 11, 12, 11, 13, 10, 11, 14, 15, 15, 13, 14])"
   ]
  },
  {
   "cell_type": "markdown",
   "id": "0e61446e-b5c4-4179-884a-1e030c612ff6",
   "metadata": {},
   "source": [
    "2. Crea otro array que contenga el descuento que toma ese mismo producto a lo largo de los meses de 2024."
   ]
  },
  {
   "cell_type": "code",
   "execution_count": 26,
   "id": "f4c1ee1b-f693-429b-968c-cb13f52404ef",
   "metadata": {},
   "outputs": [],
   "source": [
    "descuento = np.array([0, 5, 5, 10, 0, 5, 10, 15, 20, 0, 15, 10])"
   ]
  },
  {
   "cell_type": "markdown",
   "id": "9cf6f0d6-e512-4f22-aae3-aa557ae9bfa4",
   "metadata": {},
   "source": [
    "3. Finalmente, multiplica los elementos de ambos arrays para obtener el precio final con el descuento incorporado del producto durante 2024."
   ]
  },
  {
   "cell_type": "code",
   "execution_count": 27,
   "id": "b9b47b7c-9b15-46e7-a626-abdc7af82d53",
   "metadata": {},
   "outputs": [
    {
     "name": "stdout",
     "output_type": "stream",
     "text": [
      "[10.   10.45 11.4   9.9  13.    9.5   9.9  11.9  12.   15.   11.05 12.6 ]\n"
     ]
    }
   ],
   "source": [
    "precio_con_descuento = precio - (precio * descuento / 100)\n",
    "print(precio_con_descuento)"
   ]
  },
  {
   "cell_type": "markdown",
   "id": "1eddc762-5444-4c78-b580-58aec4ce35d8",
   "metadata": {},
   "source": [
    "## Ejercicio 28\n",
    "1. Crea un array que contenga los ingresos totales que recibe una cierta empresa en cada mes de 2024."
   ]
  },
  {
   "cell_type": "code",
   "execution_count": 28,
   "id": "97f563ce-9e7a-4155-a964-4cffd31570a8",
   "metadata": {},
   "outputs": [],
   "source": [
    "import numpy as np\n",
    "\n",
    "ingresos = np.array([10000, 10500, 11000, 11500, 12000, 12500, 13000, 13500, 14000, 14500, 15000, 15500])"
   ]
  },
  {
   "cell_type": "markdown",
   "id": "3c84424c-9f85-496e-8a80-9722c4a595f3",
   "metadata": {},
   "source": [
    "2. Crea otro array que contenga el número de socios que integran esa misma empresa en cada mes de 2024."
   ]
  },
  {
   "cell_type": "code",
   "execution_count": 29,
   "id": "29b25877-18b0-48e3-b823-fc9e4f3726e7",
   "metadata": {},
   "outputs": [],
   "source": [
    "socios = np.array([5, 5, 6, 5, 7, 6, 7, 8, 9, 10, 10, 12])"
   ]
  },
  {
   "cell_type": "markdown",
   "id": "26fcdfd7-95fd-444e-8f61-384ba0e387c1",
   "metadata": {},
   "source": [
    "3. Finalmente, divide los elementos de ambos arrays y elabora un array que contenga los ingresos obtenidos por cada socio de la empresa durante 2024"
   ]
  },
  {
   "cell_type": "code",
   "execution_count": 31,
   "id": "6f1d3cb5-8637-4948-8d11-0c16c9da1398",
   "metadata": {},
   "outputs": [
    {
     "name": "stdout",
     "output_type": "stream",
     "text": [
      "[2000.         2100.         1833.33333333 2300.         1714.28571429\n",
      " 2083.33333333 1857.14285714 1687.5        1555.55555556 1450.\n",
      " 1500.         1291.66666667]\n"
     ]
    }
   ],
   "source": [
    "ingresos_por_socio = ingresos / socios\n",
    "print(ingresos_por_socio)"
   ]
  },
  {
   "cell_type": "markdown",
   "id": "4d7382ae-770a-44d7-a19e-b1c7fd3129d3",
   "metadata": {},
   "source": [
    "## Ejercicio 29 \n",
    "Establece el código y las sentencias adecuadas para comprobar, mediante la visualización de un array por pantalla, si el 10 es múltiplo de los 10 primeros  números naturales (1,2…,10)."
   ]
  },
  {
   "cell_type": "code",
   "execution_count": 32,
   "id": "43de2e3c-5773-49d5-b6e9-0c2bcbc31b95",
   "metadata": {},
   "outputs": [
    {
     "name": "stdout",
     "output_type": "stream",
     "text": [
      "1 no es múltiplo de 10\n",
      "2 no es múltiplo de 10\n",
      "3 no es múltiplo de 10\n",
      "4 no es múltiplo de 10\n",
      "5 no es múltiplo de 10\n",
      "6 no es múltiplo de 10\n",
      "7 no es múltiplo de 10\n",
      "8 no es múltiplo de 10\n",
      "9 no es múltiplo de 10\n",
      "10 es múltiplo de 10\n"
     ]
    }
   ],
   "source": [
    "import numpy as np\n",
    "\n",
    "numeros = np.arange(1, 11)\n",
    "\n",
    "for i in range(10):\n",
    "    if numeros[i] % 10 == 0:\n",
    "        print(numeros[i], \"es múltiplo de 10\")\n",
    "    else:\n",
    "        print(numeros[i], \"no es múltiplo de 10\")"
   ]
  },
  {
   "cell_type": "markdown",
   "id": "39df60b4-f47d-4d56-a783-dd75aaa59764",
   "metadata": {},
   "source": [
    "## Ejercicio 30\n",
    "Establece el código y las sentencias adecuadas para comprobar, mediante la visualización de un array por pantalla, las potencias de 20 a la unidad, al cuadrado, al cubo, a la cuarta y a la quinta"
   ]
  },
  {
   "cell_type": "code",
   "execution_count": 33,
   "id": "5c754382-ce49-40e4-af17-3f41fb525665",
   "metadata": {},
   "outputs": [
    {
     "name": "stdout",
     "output_type": "stream",
     "text": [
      "[     20     400    8000  160000 3200000]\n"
     ]
    }
   ],
   "source": [
    "import numpy as np\n",
    "\n",
    "potencias = np.power(20, np.arange(1, 6))\n",
    "print(potencias)"
   ]
  }
 ],
 "metadata": {
  "kernelspec": {
   "display_name": "Python 3 (ipykernel)",
   "language": "python",
   "name": "python3"
  },
  "language_info": {
   "codemirror_mode": {
    "name": "ipython",
    "version": 3
   },
   "file_extension": ".py",
   "mimetype": "text/x-python",
   "name": "python",
   "nbconvert_exporter": "python",
   "pygments_lexer": "ipython3",
   "version": "3.13.2"
  }
 },
 "nbformat": 4,
 "nbformat_minor": 5
}
