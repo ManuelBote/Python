{
 "cells": [
  {
   "cell_type": "markdown",
   "metadata": {},
   "source": [
    "# Manipulacion de datos representados: Escalado"
   ]
  },
  {
   "cell_type": "code",
   "execution_count": 2,
   "metadata": {},
   "outputs": [
    {
     "name": "stdout",
     "output_type": "stream",
     "text": [
      "           Car       Model  Volume  Weight  CO2\n",
      "0       Toyoty        Aygo    1000     790   99\n",
      "1   Mitsubishi  Space Star    1200    1160   95\n",
      "2        Skoda      Citigo    1000     929   95\n",
      "3         Fiat         500     900     865   90\n",
      "4         Mini      Cooper    1500    1140  105\n",
      "5           VW         Up!    1000     929  105\n",
      "6        Skoda       Fabia    1400    1109   90\n",
      "7     Mercedes     A-Class    1500    1365   92\n",
      "8         Ford      Fiesta    1500    1112   98\n",
      "9         Audi          A1    1600    1150   99\n",
      "10     Hyundai         I20    1100     980   99\n",
      "11      Suzuki       Swift    1300     990  101\n",
      "12        Ford      Fiesta    1000    1112   99\n",
      "13       Honda       Civic    1600    1252   94\n",
      "14      Hundai         I30    1600    1326   97\n",
      "15        Opel       Astra    1600    1330   97\n",
      "16         BMW           1    1600    1365   99\n",
      "17       Mazda           3    2200    1280  104\n",
      "18       Skoda       Rapid    1600    1119  104\n",
      "19        Ford       Focus    2000    1328  105\n",
      "20        Ford      Mondeo    1600    1584   94\n",
      "21        Opel    Insignia    2000    1428   99\n",
      "22    Mercedes     C-Class    2100    1365   99\n",
      "23       Skoda     Octavia    1600    1415   99\n",
      "24       Volvo         S60    2000    1415   99\n",
      "25    Mercedes         CLA    1500    1465  102\n",
      "26        Audi          A4    2000    1490  104\n",
      "27        Audi          A6    2000    1725  114\n",
      "28       Volvo         V70    1600    1523  109\n",
      "29         BMW           5    2000    1705  114\n",
      "30    Mercedes     E-Class    2100    1605  115\n",
      "31       Volvo        XC70    2000    1746  117\n",
      "32        Ford       B-Max    1600    1235  104\n",
      "33         BMW         216    1600    1390  108\n",
      "34        Opel      Zafira    1600    1405  109\n",
      "35    Mercedes         SLK    2500    1395  120\n"
     ]
    }
   ],
   "source": [
    "import pandas as pd\n",
    "\n",
    "df = pd.read_csv(\"data.csv\")\n",
    "\n",
    "print(df)"
   ]
  },
  {
   "cell_type": "code",
   "execution_count": 4,
   "metadata": {},
   "outputs": [
    {
     "name": "stdout",
     "output_type": "stream",
     "text": [
      "[[-2.10389253 -1.59336644]\n",
      " [-0.55407235 -1.07190106]\n",
      " [-1.52166278 -1.59336644]\n",
      " [-1.78973979 -1.85409913]\n",
      " [-0.63784641 -0.28970299]\n",
      " [-1.52166278 -1.59336644]\n",
      " [-0.76769621 -0.55043568]\n",
      " [ 0.3046118  -0.28970299]\n",
      " [-0.7551301  -0.28970299]\n",
      " [-0.59595938 -0.0289703 ]\n",
      " [-1.30803892 -1.33263375]\n",
      " [-1.26615189 -0.81116837]\n",
      " [-0.7551301  -1.59336644]\n",
      " [-0.16871166 -0.0289703 ]\n",
      " [ 0.14125238 -0.0289703 ]\n",
      " [ 0.15800719 -0.0289703 ]\n",
      " [ 0.3046118  -0.0289703 ]\n",
      " [-0.05142797  1.53542584]\n",
      " [-0.72580918 -0.0289703 ]\n",
      " [ 0.14962979  1.01396046]\n",
      " [ 1.2219378  -0.0289703 ]\n",
      " [ 0.5685001   1.01396046]\n",
      " [ 0.3046118   1.27469315]\n",
      " [ 0.51404696 -0.0289703 ]\n",
      " [ 0.51404696  1.01396046]\n",
      " [ 0.72348212 -0.28970299]\n",
      " [ 0.8281997   1.01396046]\n",
      " [ 1.81254495  1.01396046]\n",
      " [ 0.96642691 -0.0289703 ]\n",
      " [ 1.72877089  1.01396046]\n",
      " [ 1.30990057  1.27469315]\n",
      " [ 1.90050772  1.01396046]\n",
      " [-0.23991961 -0.0289703 ]\n",
      " [ 0.40932938 -0.0289703 ]\n",
      " [ 0.47215993 -0.0289703 ]\n",
      " [ 0.4302729   2.31762392]]\n"
     ]
    }
   ],
   "source": [
    "from sklearn import linear_model\n",
    "from sklearn.preprocessing import StandardScaler\n",
    "\n",
    "scale=StandardScaler()\n",
    "\n",
    "df=pd.read_csv('data.csv')\n",
    "X=df[['Weight', 'Volume']]\n",
    "scaledX=scale.fit_transform(X)\n",
    "print(scaledX)"
   ]
  },
  {
   "cell_type": "code",
   "execution_count": 6,
   "metadata": {},
   "outputs": [
    {
     "name": "stdout",
     "output_type": "stream",
     "text": [
      "Las emisiones de CO2 correspondientes a un vehículo de 2300 kilos y de volumen de motor de 1300 litros son de:  [107.2087328]\n"
     ]
    },
    {
     "name": "stderr",
     "output_type": "stream",
     "text": [
      "c:\\Users\\Administrador\\AppData\\Local\\Programs\\Python\\Python313\\Lib\\site-packages\\sklearn\\utils\\validation.py:2739: UserWarning: X does not have valid feature names, but StandardScaler was fitted with feature names\n",
      "  warnings.warn(\n"
     ]
    }
   ],
   "source": [
    "scale=StandardScaler()\n",
    "\n",
    "df=pd.read_csv('data.csv')\n",
    "X=df[['Weight', 'Volume']]\n",
    "y=df['CO2']\n",
    "\n",
    "scaledX=scale.fit_transform(X)\n",
    "\n",
    "regr=linear_model.LinearRegression()\n",
    "regr.fit(scaledX,y)\n",
    "\n",
    "scaled=scale.transform([[2300,1300]])\n",
    "predictedCO2=regr.predict([scaled[0]])\n",
    "\n",
    "print('Las emisiones de CO2 correspondientes a un vehículo de 2300 kilos y de volumen de motor de 1300 litros son de: ',predictedCO2)\n"
   ]
  },
  {
   "cell_type": "code",
   "execution_count": null,
   "metadata": {},
   "outputs": [],
   "source": []
  }
 ],
 "metadata": {
  "kernelspec": {
   "display_name": "Python 3",
   "language": "python",
   "name": "python3"
  },
  "language_info": {
   "codemirror_mode": {
    "name": "ipython",
    "version": 3
   },
   "file_extension": ".py",
   "mimetype": "text/x-python",
   "name": "python",
   "nbconvert_exporter": "python",
   "pygments_lexer": "ipython3",
   "version": "3.13.2"
  }
 },
 "nbformat": 4,
 "nbformat_minor": 2
}
