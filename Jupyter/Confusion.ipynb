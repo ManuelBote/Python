{
 "cells": [
  {
   "cell_type": "markdown",
   "metadata": {},
   "source": [
    "# Precision en las predicciones : Matriz de confusión \n",
    "\n",
    "#### ¿Qué es una matriz de confusión?\n",
    "\n",
    "Una matriz de confusión es un tipo especial de tabla que se emplea en problemas de clasificación para evaluar dónde se comenten errores en los modelos de predicción. Las filas de dicha tabla representan las distintas clases de salida del modelo y las columnas representan las predicciones hechas por el propio modelo. Por tanto, a través de la matriz de confusión podremos visualizar de manera más sencilla qué predicciones están equivocadas.\n",
    "Para poder construir una matriz de confusión, primero debemos generar los conjuntos de datos reales  de predicción respectivamente. Para ello haremos uso de la librería NumPy y emplearemos la función binomial() para crear una distribución binomial de 1000 valores."
   ]
  },
  {
   "cell_type": "code",
   "execution_count": 1,
   "metadata": {},
   "outputs": [],
   "source": [
    "import numpy as np\n",
    "from sklearn import metrics\n",
    "import matplotlib.pyplot as plt"
   ]
  },
  {
   "cell_type": "code",
   "execution_count": 2,
   "metadata": {},
   "outputs": [
    {
     "name": "stdout",
     "output_type": "stream",
     "text": [
      "[1 1 1 1 1 1 1 1 1 1 1 1 1 1 1 0 1 1 1 1 1 1 1 1 1 1 1 1 1 1 1 1 1 1 1 1 1\n",
      " 0 1 1 1 1 1 1 1 1 1 1 0 1 1 1 1 1 1 1 0 1 1 1 0 1 1 1 1 1 1 1 1 1 1 1 1 1\n",
      " 1 1 1 1 1 1 1 1 1 1 1 0 1 1 1 1 1 1 1 0 1 1 1 1 1 1 1 1 0 1 1 0 0 1 1 1 1\n",
      " 1 1 1 1 1 1 1 1 1 0 1 1 1 1 1 0 1 0 1 1 1 1 1 1 1 1 1 1 1 1 1 1 0 0 1 0 1\n",
      " 1 1 1 1 1 1 1 1 1 1 0 1 1 1 1 1 1 1 1 0 1 1 1 1 1 1 1 1 1 1 1 1 1 1 1 1 1\n",
      " 1 1 1 1 1 1 1 1 1 1 1 1 1 1 1 1 1 1 1 0 1 1 1 1 1 1 1 1 1 1 1 1 1 0 1 1 1\n",
      " 0 1 1 1 1 1 1 1 1 1 1 0 1 0 1 1 1 1 1 1 1 1 1 1 1 1 1 0 1 1 1 1 1 1 1 1 1\n",
      " 1 1 1 1 1 1 1 1 0 1 1 1 1 1 1 0 1 0 0 1 1 1 1 1 1 1 1 1 1 1 1 1 1 1 0 1 1\n",
      " 1 1 1 1 1 1 1 1 1 1 1 1 1 1 1 1 1 0 1 1 1 1 1 1 1 0 1 1 1 1 1 1 1 1 0 1 1\n",
      " 1 1 1 1 1 1 1 1 1 1 1 1 1 1 1 1 1 1 1 1 1 1 1 0 1 1 1 1 1 1 1 1 1 1 1 1 1\n",
      " 1 1 0 1 1 1 1 1 1 1 1 0 1 1 1 1 1 1 1 1 1 1 1 1 1 0 1 1 0 1 1 1 1 1 1 1 1\n",
      " 1 1 1 1 1 1 1 1 1 1 1 1 1 1 1 1 1 0 1 1 1 1 1 1 1 1 1 1 1 1 1 1 1 1 1 1 1\n",
      " 1 1 1 1 1 1 1 0 1 1 1 1 1 1 1 1 1 1 1 1 1 1 1 1 1 1 1 1 1 1 1 0 1 1 0 1 1\n",
      " 1 1 1 1 1 1 1 1 0 1 1 1 1 1 1 1 1 1 1 1 0 1 1 1 1 1 1 1 1 1 1 1 1 1 1 1 1\n",
      " 1 1 1 1 1 1 0 1 1 1 1 0 1 1 1 1 1 0 1 1 1 1 0 1 1 1 1 0 1 0 1 1 1 1 1 1 0\n",
      " 1 1 1 1 1 1 1 1 1 1 1 1 0 1 1 1 1 1 1 1 1 1 1 1 1 1 1 1 1 0 1 1 1 1 1 1 0\n",
      " 1 1 1 1 1 1 1 1 1 1 1 0 1 1 1 1 1 1 1 1 1 1 1 1 1 1 1 1 1 1 1 1 1 1 1 1 1\n",
      " 1 1 1 1 1 1 1 1 1 0 1 1 0 1 1 1 1 1 1 1 1 1 0 1 1 1 1 1 1 1 1 1 1 1 1 1 0\n",
      " 1 1 1 1 1 1 1 0 1 1 1 0 1 1 1 1 1 1 0 1 1 1 1 1 1 1 1 1 1 1 0 1 1 1 1 1 1\n",
      " 1 1 1 1 1 1 1 1 1 1 1 1 1 1 1 1 0 1 0 1 1 1 1 1 1 1 1 1 1 1 1 1 0 1 1 1 1\n",
      " 1 1 1 1 1 1 1 1 1 0 1 1 1 1 1 1 1 1 1 1 1 1 1 0 1 1 1 1 1 1 1 1 1 1 1 0 1\n",
      " 1 1 1 0 1 1 1 1 1 1 1 1 1 1 1 1 1 1 1 1 1 1 1 1 0 1 1 1 1 1 1 1 1 1 1 1 1\n",
      " 1 1 1 1 1 1 1 1 1 1 1 1 0 1 1 1 1 1 1 1 1 1 1 1 1 1 1 1 1 1 1 0 1 1 1 1 1\n",
      " 1 0 1 1 1 1 0 1 1 1 1 1 1 1 1 1 1 1 1 1 0 0 1 1 1 1 1 1 1 0 1 1 0 1 1 0 1\n",
      " 1 1 1 1 1 1 1 1 0 1 1 1 1 0 1 1 1 1 1 1 1 1 0 1 1 1 1 0 1 1 1 1 1 1 1 1 1\n",
      " 1 1 1 1 0 1 1 1 1 1 1 1 1 1 1 1 1 1 1 1 1 1 1 1 1 1 1 1 1 1 1 0 1 1 1 1 1\n",
      " 1 0 1 0 1 1 1 1 0 1 1 1 1 1 0 1 1 1 1 1 1 1 1 1 1 0 1 1 1 1 0 1 1 1 1 1 1\n",
      " 1]\n",
      "[1 1 1 1 0 1 1 1 1 1 1 1 1 1 0 1 1 1 1 1 1 1 1 1 1 1 1 1 1 1 1 1 1 1 1 1 1\n",
      " 1 1 0 1 1 1 1 1 1 1 1 0 1 1 1 1 0 1 1 1 1 1 1 1 1 1 1 1 1 1 1 1 1 1 1 1 1\n",
      " 1 1 1 1 1 1 1 1 1 1 1 1 1 1 1 0 1 1 0 1 1 1 1 1 1 1 1 1 1 1 1 1 0 1 1 1 0\n",
      " 1 1 1 1 1 1 1 0 1 1 1 1 1 1 1 1 1 1 1 1 1 0 1 1 1 1 1 1 1 1 1 0 1 1 1 1 1\n",
      " 1 0 1 0 1 1 1 1 0 1 1 1 1 1 1 1 1 1 1 1 1 1 1 1 1 1 1 1 1 1 0 1 1 0 0 1 1\n",
      " 1 1 1 0 1 1 1 1 1 0 1 1 0 1 1 1 1 1 1 1 1 1 1 1 1 1 1 1 1 1 1 1 1 1 0 1 1\n",
      " 1 1 1 1 0 1 0 1 1 1 1 1 1 1 1 1 1 1 1 0 1 1 1 1 1 1 1 1 1 1 1 1 1 1 1 0 1\n",
      " 1 1 1 1 1 1 1 1 1 1 1 1 1 1 1 1 1 1 1 1 1 0 1 1 0 1 1 1 1 1 1 1 1 1 1 1 1\n",
      " 1 1 1 1 1 1 1 1 1 1 1 1 1 1 1 1 1 0 0 1 1 1 1 1 1 1 1 1 1 1 1 0 1 1 1 1 1\n",
      " 0 1 1 1 1 1 1 1 1 1 0 0 1 1 1 1 1 1 1 1 1 1 1 1 1 1 1 1 1 1 1 1 1 1 1 1 1\n",
      " 1 1 1 1 1 1 1 1 1 0 1 1 1 1 1 1 1 1 1 1 1 0 1 1 1 0 1 1 1 1 1 1 1 1 1 0 1\n",
      " 1 1 1 1 1 1 0 1 1 0 1 0 1 1 1 0 1 1 1 1 1 1 1 1 1 1 1 1 0 1 1 1 1 1 1 1 1\n",
      " 1 1 1 1 0 1 1 1 1 0 1 1 1 0 1 1 1 1 1 1 1 1 1 1 1 1 1 1 0 1 1 1 0 1 1 1 1\n",
      " 1 1 1 1 1 1 1 1 1 1 1 1 1 1 1 1 1 1 1 1 1 1 1 1 0 1 1 1 1 1 1 1 1 0 1 1 1\n",
      " 1 1 1 1 1 1 1 1 1 1 1 1 0 1 1 1 1 1 1 1 1 0 1 1 1 1 1 1 1 1 1 0 1 1 1 1 1\n",
      " 1 1 1 1 1 1 1 1 1 1 1 1 1 1 1 1 1 1 1 1 1 0 1 1 0 1 1 1 1 1 1 1 1 1 1 1 1\n",
      " 1 1 1 1 0 1 1 1 1 1 1 1 1 1 1 1 1 1 1 1 1 1 1 1 1 1 1 1 1 1 1 1 1 1 1 1 1\n",
      " 1 1 1 1 1 1 1 1 1 1 1 1 1 1 0 1 0 1 1 1 1 1 1 1 1 1 1 1 1 1 1 1 1 1 1 1 1\n",
      " 1 1 1 0 1 1 1 1 1 1 1 1 1 1 1 1 1 1 1 1 1 1 0 1 0 1 1 1 1 1 1 1 1 1 1 1 1\n",
      " 1 0 0 1 1 0 1 1 1 1 1 1 1 0 1 1 1 1 1 1 1 0 1 1 1 1 1 1 0 1 1 1 0 1 1 1 0\n",
      " 1 1 1 1 1 1 1 1 1 1 1 1 1 1 1 1 1 1 1 1 1 1 0 0 1 1 1 1 1 1 1 1 1 1 1 1 1\n",
      " 1 1 1 1 1 1 1 0 1 1 1 1 1 1 1 1 1 0 1 0 1 1 1 1 1 1 1 1 1 1 1 1 1 1 1 1 1\n",
      " 0 1 1 1 1 1 1 0 1 1 1 1 1 1 1 0 1 1 1 1 1 1 1 1 1 0 1 1 1 0 1 1 1 1 1 1 0\n",
      " 1 1 1 1 1 1 1 1 1 1 1 1 1 1 0 1 1 1 1 1 1 0 1 1 1 0 0 1 1 1 1 1 1 0 1 1 1\n",
      " 1 1 1 1 0 1 1 1 1 1 0 1 1 1 0 1 1 1 1 1 1 1 1 1 1 0 1 1 1 1 1 1 1 1 1 0 1\n",
      " 1 1 0 1 1 1 1 1 0 1 1 1 1 1 1 1 1 1 1 1 1 1 1 1 1 1 1 1 1 0 0 0 1 1 1 1 0\n",
      " 1 1 1 1 1 1 1 0 1 1 1 0 1 1 1 1 1 1 1 1 1 1 1 1 1 1 1 1 1 1 1 1 1 1 1 1 1\n",
      " 1]\n"
     ]
    }
   ],
   "source": [
    "actual=np.random.binomial(1,0.9,size=1000)\n",
    "predicted=np.random.binomial(1,0.9,size=1000)\n",
    "\n",
    "print(actual)\n",
    "print(predicted)"
   ]
  },
  {
   "cell_type": "markdown",
   "metadata": {},
   "source": [
    "Para una mejor comprensión de la distribución binomial, podemos imaginar los 2 conjuntos anteriores como el resultado de lanzar 1000 veces una moneda al aire (con un 90% de probabilidad de que la moneda sea cara). El siguiente paso es emplear la función `confusion_matrix()` de la librería Scikit-learn para poder crear la matriz de confusión a partir de los dos conjuntos de datos ya generados. Además, si queremos visualizar dicha matriz de un modo más gráfico podemos utilizar la función `ConfusionMatrix()`."
   ]
  },
  {
   "cell_type": "code",
   "execution_count": 3,
   "metadata": {},
   "outputs": [],
   "source": [
    "confusion_matrix = metrics.confusion_matrix(actual, predicted)\n",
    "cm_display=metrics.ConfusionMatrixDisplay(confusion_matrix=confusion_matrix, display_labels=[0,1])"
   ]
  },
  {
   "cell_type": "code",
   "execution_count": 4,
   "metadata": {},
   "outputs": [
    {
     "data": {
      "image/png": "[encoded data removed]",
      "text/plain": [
       "<Figure size 640x480 with 2 Axes>"
      ]
     },
     "metadata": {},
     "output_type": "display_data"
    }
   ],
   "source": [
    "cm_display.plot()\n",
    "plt.show()"
   ]
  },
  {
   "cell_type": "markdown",
   "metadata": {},
   "source": [
    "El gráfico de la celda anterior puede dividirse en 4 sectores claramente diferenciados:\n",
    "\n",
    "* Verdaders negativos (Arriba-Izquierda): casos en los que el modelo predijo cara pero se obtuvo cruz.\n",
    "* Falsos positivos (Arriba-Derecha): casos en los que el modelo predijo cara pero se obtuvo cruz.\n",
    "* Falsos negativos (Abajo-Izquierda): casos en los que el modelo predijo cruz pero se obtuvo cara.\n",
    "* Verdaderos positivos (Abajo-Derecha): casos en los que el modelo predijo cara y realmente se obtuvo cara.\n",
    "\n",
    "Una vez construida nuestra matriz de confusión, es posible obtener magnitudes o métricas derivadas que nos dan información sobre el funcionamiento del modelo sobre los datos reales."
   ]
  },
  {
   "cell_type": "markdown",
   "metadata": {},
   "source": [
    "## Métricas derivadas de la matriz de confusión: Exactitud\n",
    "\n",
    "La exactitud nos da una medida de con qué frecuencia nuestro modelo predice correctamente los resultados. Para calcular la exactitud, se emplea la siguiente fórmula matemática:\n",
    "\n",
    "(Verdaderos positivos + Verdaderos negativos) / Total\n",
    "\n",
    "Para estimar la exactitud de forma automática con Python, se utiliza la función `accuracy_score()` de la librería Scikit-learn.\n",
    "\n",
    "## Métricas derivadas de la matriz de confusión: Precisión\n",
    "La precisión nos da una medida de, respecto a todas las predicciones positivas, qué porcentaje son realmente verdaderas. Para calcular la precisión, se emplea la siguiente fórmula matemática:\n",
    "\n",
    "Verdaderos positivos / (Verdaderos positivos + Falsos positivos)\n",
    "\n",
    "Para estimar la precisión de forma automática con Python, se utiliza la función `precision_score()` de la librería Scikit-learn.\n",
    "\n",
    "## Métricas derivadas de la matriz de confusión: Sensibilidad\n",
    "La sensibilidad nos da una medida de, respecto a todas las predicciones negativas, qué porcentaje son realmente verdaderas. Para calcular la sensibilidad, se emplea la siguiente fórmula matemática:\n",
    "\n",
    "Verdaderos positivos / (Verdaderos positivos + Falsos negativos)\n",
    "\n",
    "Para estimar la sensibilidad de forma automática con Python, se utiliza la función `recall_score()` de la librería Scikit-learn.\n",
    "\n",
    "## Métricas derivadas de la matriz de confusión: Especificidad\n",
    "La especificidad nos da una medida de, respecto a todas las predicciones positivas, qué porcentaje son verdaderas. Para calcular la especificidad, se emplea la siguiente fórmula matemática:\n",
    "\n",
    "Verdaderos negativos / (Verdaderos negativos + Falsos positivos)\n",
    "\n",
    "Para estimar la especificidad de forma automática con Python, se utiliza la función `recall_score()` con el argumento `pos_label=0`\n",
    "\n",
    "## Métricas derivadas de la matriz de confusión: Valor-F\n",
    "El valor-F se define como la medida harmónica de la precisión y la sensibilidad, es decir, nos da una medida general de cómo se comporta el modelo a la hora de predecir adecuadamente un caso positivo. Para calcular el valor-F, se emplea la siguiente fórmula matemática:\n",
    "\n",
    "2*((Precisión * Sensibilidad) / (Precisión + Sensibilidad))\n",
    "\n",
    "Para estimar el valor-F de forma automática con Python, se utiliza la función `f1_score()` de la librería Scikit-learn.\n",
    "\n",
    "En esta última celda se muestra un resumen de todas estas métricas anteriores para el caso de nuestra matriz de confusión previamente construida."
   ]
  },
  {
   "cell_type": "code",
   "execution_count": 5,
   "metadata": {},
   "outputs": [
    {
     "name": "stdout",
     "output_type": "stream",
     "text": [
      "Exactitud: 0.827\n",
      "Precisión: 0.9079822616407982\n",
      "Recall: 0.900990099009901\n",
      "Especificidad: 0.08791208791208792\n",
      "F1: 0.9044726670347875\n"
     ]
    }
   ],
   "source": [
    "exactitud = metrics.accuracy_score(actual, predicted)\n",
    "precision = metrics.precision_score(actual, predicted)\n",
    "recall = metrics.recall_score(actual, predicted)\n",
    "especificidad = metrics.recall_score(actual, predicted, pos_label=0)\n",
    "f1 = metrics.f1_score(actual, predicted)\n",
    "\n",
    "print('Exactitud:', exactitud)\n",
    "print('Precisión:', precision)\n",
    "print('Recall:', recall)\n",
    "print('Especificidad:', especificidad)\n",
    "print('F1:', f1)"
   ]
  },
  {
   "cell_type": "markdown",
   "metadata": {},
   "source": []
  },
  {
   "cell_type": "markdown",
   "metadata": {},
   "source": []
  }
 ],
 "metadata": {
  "kernelspec": {
   "display_name": "Python 3",
   "language": "python",
   "name": "python3"
  },
  "language_info": {
   "codemirror_mode": {
    "name": "ipython",
    "version": 3
   },
   "file_extension": ".py",
   "mimetype": "text/x-python",
   "name": "python",
   "nbconvert_exporter": "python",
   "pygments_lexer": "ipython3",
   "version": "3.13.2"
  }
 },
 "nbformat": 4,
 "nbformat_minor": 2
}
